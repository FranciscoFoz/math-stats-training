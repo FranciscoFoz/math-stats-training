{
 "cells": [
  {
   "cell_type": "markdown",
   "metadata": {},
   "source": [
    "# Estatística com Python: testes de hipóteses"
   ]
  },
  {
   "cell_type": "markdown",
   "metadata": {},
   "source": [
    "## Teste de normalidade e as etapas de um teste "
   ]
  },
  {
   "cell_type": "code",
   "execution_count": 1,
   "metadata": {},
   "outputs": [],
   "source": [
    "import pandas as pd \n",
    "import numpy as np"
   ]
  },
  {
   "cell_type": "code",
   "execution_count": 2,
   "metadata": {},
   "outputs": [
    {
     "data": {
      "text/html": [
       "<div>\n",
       "<style scoped>\n",
       "    .dataframe tbody tr th:only-of-type {\n",
       "        vertical-align: middle;\n",
       "    }\n",
       "\n",
       "    .dataframe tbody tr th {\n",
       "        vertical-align: top;\n",
       "    }\n",
       "\n",
       "    .dataframe thead th {\n",
       "        text-align: right;\n",
       "    }\n",
       "</style>\n",
       "<table border=\"1\" class=\"dataframe\">\n",
       "  <thead>\n",
       "    <tr style=\"text-align: right;\">\n",
       "      <th></th>\n",
       "      <th>UF</th>\n",
       "      <th>Sexo</th>\n",
       "      <th>Idade</th>\n",
       "      <th>Cor</th>\n",
       "      <th>Anos de Estudo</th>\n",
       "      <th>Renda</th>\n",
       "      <th>Altura</th>\n",
       "    </tr>\n",
       "  </thead>\n",
       "  <tbody>\n",
       "    <tr>\n",
       "      <th>0</th>\n",
       "      <td>11</td>\n",
       "      <td>0</td>\n",
       "      <td>23</td>\n",
       "      <td>8</td>\n",
       "      <td>12</td>\n",
       "      <td>800</td>\n",
       "      <td>1.603808</td>\n",
       "    </tr>\n",
       "    <tr>\n",
       "      <th>1</th>\n",
       "      <td>11</td>\n",
       "      <td>1</td>\n",
       "      <td>23</td>\n",
       "      <td>2</td>\n",
       "      <td>12</td>\n",
       "      <td>1150</td>\n",
       "      <td>1.739790</td>\n",
       "    </tr>\n",
       "    <tr>\n",
       "      <th>2</th>\n",
       "      <td>11</td>\n",
       "      <td>1</td>\n",
       "      <td>35</td>\n",
       "      <td>8</td>\n",
       "      <td>15</td>\n",
       "      <td>880</td>\n",
       "      <td>1.760444</td>\n",
       "    </tr>\n",
       "    <tr>\n",
       "      <th>3</th>\n",
       "      <td>11</td>\n",
       "      <td>0</td>\n",
       "      <td>46</td>\n",
       "      <td>2</td>\n",
       "      <td>6</td>\n",
       "      <td>3500</td>\n",
       "      <td>1.783158</td>\n",
       "    </tr>\n",
       "    <tr>\n",
       "      <th>4</th>\n",
       "      <td>11</td>\n",
       "      <td>1</td>\n",
       "      <td>47</td>\n",
       "      <td>8</td>\n",
       "      <td>9</td>\n",
       "      <td>150</td>\n",
       "      <td>1.690631</td>\n",
       "    </tr>\n",
       "    <tr>\n",
       "      <th>...</th>\n",
       "      <td>...</td>\n",
       "      <td>...</td>\n",
       "      <td>...</td>\n",
       "      <td>...</td>\n",
       "      <td>...</td>\n",
       "      <td>...</td>\n",
       "      <td>...</td>\n",
       "    </tr>\n",
       "    <tr>\n",
       "      <th>76835</th>\n",
       "      <td>53</td>\n",
       "      <td>1</td>\n",
       "      <td>46</td>\n",
       "      <td>2</td>\n",
       "      <td>11</td>\n",
       "      <td>812</td>\n",
       "      <td>1.687030</td>\n",
       "    </tr>\n",
       "    <tr>\n",
       "      <th>76836</th>\n",
       "      <td>53</td>\n",
       "      <td>0</td>\n",
       "      <td>30</td>\n",
       "      <td>4</td>\n",
       "      <td>7</td>\n",
       "      <td>1500</td>\n",
       "      <td>1.792934</td>\n",
       "    </tr>\n",
       "    <tr>\n",
       "      <th>76837</th>\n",
       "      <td>53</td>\n",
       "      <td>0</td>\n",
       "      <td>32</td>\n",
       "      <td>8</td>\n",
       "      <td>12</td>\n",
       "      <td>1300</td>\n",
       "      <td>1.830587</td>\n",
       "    </tr>\n",
       "    <tr>\n",
       "      <th>76838</th>\n",
       "      <td>53</td>\n",
       "      <td>0</td>\n",
       "      <td>57</td>\n",
       "      <td>8</td>\n",
       "      <td>4</td>\n",
       "      <td>1500</td>\n",
       "      <td>1.726344</td>\n",
       "    </tr>\n",
       "    <tr>\n",
       "      <th>76839</th>\n",
       "      <td>53</td>\n",
       "      <td>0</td>\n",
       "      <td>38</td>\n",
       "      <td>8</td>\n",
       "      <td>4</td>\n",
       "      <td>900</td>\n",
       "      <td>1.658305</td>\n",
       "    </tr>\n",
       "  </tbody>\n",
       "</table>\n",
       "<p>76840 rows × 7 columns</p>\n",
       "</div>"
      ],
      "text/plain": [
       "       UF  Sexo  Idade  Cor  Anos de Estudo  Renda    Altura\n",
       "0      11     0     23    8              12    800  1.603808\n",
       "1      11     1     23    2              12   1150  1.739790\n",
       "2      11     1     35    8              15    880  1.760444\n",
       "3      11     0     46    2               6   3500  1.783158\n",
       "4      11     1     47    8               9    150  1.690631\n",
       "...    ..   ...    ...  ...             ...    ...       ...\n",
       "76835  53     1     46    2              11    812  1.687030\n",
       "76836  53     0     30    4               7   1500  1.792934\n",
       "76837  53     0     32    8              12   1300  1.830587\n",
       "76838  53     0     57    8               4   1500  1.726344\n",
       "76839  53     0     38    8               4    900  1.658305\n",
       "\n",
       "[76840 rows x 7 columns]"
      ]
     },
     "execution_count": 2,
     "metadata": {},
     "output_type": "execute_result"
    }
   ],
   "source": [
    "df = pd.read_csv('/home/franciscofoz/Documents/GitHub/math-stats-training/Estatística/Datasets/dados_curso_estatistica_2.csv')\n",
    "df"
   ]
  },
  {
   "cell_type": "code",
   "execution_count": 3,
   "metadata": {},
   "outputs": [],
   "source": [
    "from scipy.stats import normaltest"
   ]
  },
  {
   "cell_type": "code",
   "execution_count": 4,
   "metadata": {},
   "outputs": [],
   "source": [
    "significancia = 0.05"
   ]
  },
  {
   "cell_type": "markdown",
   "metadata": {},
   "source": [
    "### Renda é normal??"
   ]
  },
  {
   "cell_type": "code",
   "execution_count": 5,
   "metadata": {},
   "outputs": [
    {
     "data": {
      "text/plain": [
       "<Axes: >"
      ]
     },
     "execution_count": 5,
     "metadata": {},
     "output_type": "execute_result"
    },
    {
     "data": {
      "image/png": "[encoded data removed]",
      "text/plain": [
       "<Figure size 432x288 with 1 Axes>"
      ]
     },
     "metadata": {
      "needs_background": "light"
     },
     "output_type": "display_data"
    }
   ],
   "source": [
    "df.Renda.hist(bins=50)"
   ]
  },
  {
   "cell_type": "code",
   "execution_count": 6,
   "metadata": {},
   "outputs": [
    {
     "data": {
      "text/plain": [
       "NormaltestResult(statistic=152380.75803960307, pvalue=0.0)"
      ]
     },
     "execution_count": 6,
     "metadata": {},
     "output_type": "execute_result"
    }
   ],
   "source": [
    "# H0 = Amostra proviniente de uma normal\n",
    "## Critério do valor p = Rejeitar H0 se o valor p <= 0.05\n",
    "\n",
    "normaltest(df.Renda)"
   ]
  },
  {
   "cell_type": "markdown",
   "metadata": {},
   "source": [
    "### Altura é normal??"
   ]
  },
  {
   "cell_type": "code",
   "execution_count": 7,
   "metadata": {},
   "outputs": [
    {
     "data": {
      "text/plain": [
       "<Axes: >"
      ]
     },
     "execution_count": 7,
     "metadata": {},
     "output_type": "execute_result"
    },
    {
     "data": {
      "image/png": "[encoded data removed]",
      "text/plain": [
       "<Figure size 432x288 with 1 Axes>"
      ]
     },
     "metadata": {
      "needs_background": "light"
     },
     "output_type": "display_data"
    }
   ],
   "source": [
    "df.Altura.hist(bins=50)"
   ]
  },
  {
   "cell_type": "code",
   "execution_count": 8,
   "metadata": {},
   "outputs": [
    {
     "data": {
      "text/plain": [
       "NormaltestResult(statistic=0.19973093957002253, pvalue=0.9049591541967501)"
      ]
     },
     "execution_count": 8,
     "metadata": {},
     "output_type": "execute_result"
    }
   ],
   "source": [
    "# H0 = Amostra proviniente de uma normal\n",
    "## Critério do valor p = Rejeitar H0 se o valor p <= 0.05\n",
    "\n",
    "normaltest(df.Altura)"
   ]
  },
  {
   "cell_type": "markdown",
   "metadata": {},
   "source": [
    "### **Passo 1** - formulação das hipóteses $H_0$ e $H_1$;\n",
    "\n",
    "> ### <font color='red'>Pontos importantes</font>\n",
    "> - De maneira geral, o alvo do estudo deve ser formulado como a hipótese alternativa $H_1$.\n",
    "> - A hipótese nula sempre afirma uma igualdade ou propriedade populacional, e $H_1$ a desigualdade que nega $H_0$.\n",
    "> - No caso da hipótese nula $H_0$ a igualdade pode ser representada por uma igualdade simples \"$=$\" ou por \"$\\geq$\" e \"$\\leq$\". Sempre complementar ao estabelecido pela hipótese alternativa.\n",
    "> - A hipótese alternativa $H_1$ deve definir uma desigualdade que pode ser uma diferença simples \"$\\neq$\" ou dos tipos \"$>$\" e \"$<$\".\n",
    "\n",
    "\n",
    "### **Passo 2** - escolha da distribuição amostral adequada;\n",
    "\n",
    "> ### <font color='red'>Pontos importantes</font>\n",
    "> - Quando o tamanho da amostra tiver 30 elementos ou mais, deve-se utilizar a distribuição normal, como estabelecido pelo **teorema do limite central**.\n",
    "> - Para um tamanho de amostra menor que 30 elementos, e se pudermos afirmar que a população se distribui aproximadamente como uma normal e o desvio padrão populacional for conhecido, deve-se utilizar a distribuição normal.\n",
    "> - Para um tamanho de amostra menor que 30 elementos, e se pudermos afirmar que a população se distribui aproximadamente como uma normal e o desvio padrão populacional for desconhecido, deve-se utilizar a distribuição t de Student.\n",
    "\n",
    "<img src='https://caelum-online-public.s3.amazonaws.com/1229-estatistica-parte3/01/img003.png' width=70%>\n",
    "\n",
    "### **Passo 3** - fixação da significância do teste ($\\alpha$), que define as regiões de aceitação e rejeição das hipóteses (os valores mais freqüentes são 10%, 5% e 1%);\n",
    "\n",
    "> ### <font color='red'>Pontos importantes</font>\n",
    "> - O **nível de confiança** ($1 - \\alpha$) representa a probabilidade de acerto da estimativa. De forma complementar o **nível de significância** ($\\alpha$) expressa a probabilidade de erro da estimativa.\n",
    ">\n",
    "> ![Níveis de Confiança e significância](https://caelum-online-public.s3.amazonaws.com/1229-estatistica-parte3/01/img001.png)\n",
    ">\n",
    "> - O **nível de confiança** representa o grau de confiabilidade do resultado da estimativa estar dentro de determinado intervalo. Quando fixamos em uma pesquisa um **nível de confiança** de 95%, por exemplo, estamos assumindo que existe uma probabilidade de 95% dos resultados da pesquisa representarem bem a realidade, ou seja, estarem corretos.\n",
    ">\n",
    "> ![Áreas de Aceitação e Rejeição](https://caelum-online-public.s3.amazonaws.com/1229-estatistica-parte3/01/img002.png)\n",
    "\n",
    "### **Passo 4** - cálculo da estatística-teste e verificação desse valor com as áreas de aceitação e rejeição do teste;\n",
    "\n",
    "> ### <font color='red'>Pontos importantes</font>\n",
    "> - Nos testes paramétricos, distância relativa entre a estatística amostral e o valor alegado como provável.\n",
    "> - Neste passo são obtidas as estatísticas amostrais necessárias à execução do teste (média, desvio-padrão, graus de liberdade etc.)\n",
    "\n",
    "\n",
    "### **Passo 5** - Aceitação ou rejeição da hipótese nula.\n",
    "\n",
    "> ### <font color='red'>Pontos importantes</font>\n",
    "> - No caso de o intervalo de aceitação conter a estatística-teste, aceita-se $H_0$ como estatisticamente válido e rejeita-se $H_1$ como tal.\n",
    "> - No caso de o intervalo de aceitação não conter a estatística-teste, rejeita-se $H_0$ e aceita-se $H_1$ como provavelmente verdadeira. \n",
    "> - A aceitação também se verifica com a probabilidade de cauda (p-valor): se maior que $\\alpha$, aceita-se $H_0$."
   ]
  },
  {
   "cell_type": "markdown",
   "metadata": {},
   "source": [
    "## Teste bicaudal e entendendo o p-valor"
   ]
  },
  {
   "cell_type": "markdown",
   "metadata": {},
   "source": [
    "<img src='https://caelum-online-public.s3.amazonaws.com/1229-estatistica-parte3/01/img013.png' width=90%>"
   ]
  },
  {
   "cell_type": "markdown",
   "metadata": {},
   "source": [
    "#### Exercício 1 \n",
    "\n",
    "A empresa **Suco Bom** produz **sucos de frutas em embalagens de 500 ml**. Seu processo de produção é quase todo automatizado e as embalagens de sucos são preenchidas por uma máquina que às vezes apresenta um certo desajuste, levando a erros no preenchimento das embalagens para mais ou menos conteúdo. Quando o volume médio cai abaixo de 500 ml, a empresa se preocupa em perder vendas e ter problemas com os orgãos fiscalizadores. Quando o volume passa de 500 ml, a empresa começa a se preocupar com prejuízos no processo de produção.\n",
    "\n",
    "O setor de controle de qualidade da empresa **Suco Bom** extrai, periodicamente, **amostras de 50 embalagens** para monitorar o processo de produção. Para cada amostra, é realizado um **teste de hipóteses** para avaliar se o maquinário se desajustou. A equipe de controle de qualidade assume um **nível de significância de 5%**.\n",
    "\n",
    "Suponha agora que uma **amostra de 50 embalagens** foi selecionada e que a **média amostral observada foi de 503,24 ml**. **Esse valor de média amostral é suficientemente maior que 500 ml para nos fazer rejeitar a hipótese de que a média do processo é de 500 ml ao nível de significância de 5%?**"
   ]
  },
  {
   "cell_type": "markdown",
   "metadata": {},
   "source": [
    "$H_0: \\mu = 500$\n",
    "\n",
    "$H_1: \\mu \\neq 500$"
   ]
  },
  {
   "cell_type": "code",
   "execution_count": 9,
   "metadata": {},
   "outputs": [],
   "source": [
    "media_amostral = 503.24\n",
    "std_amostral = 4.48\n",
    "\n",
    "media = 500\n",
    "significancia = 0.05\n",
    "confianca = 1 - significancia\n",
    "n = 50\n"
   ]
  },
  {
   "cell_type": "code",
   "execution_count": 10,
   "metadata": {},
   "outputs": [
    {
     "data": {
      "text/plain": [
       "0.975"
      ]
     },
     "execution_count": 10,
     "metadata": {},
     "output_type": "execute_result"
    }
   ],
   "source": [
    "from scipy.stats import norm\n",
    "\n",
    "prob = (0.5 + (confianca / 2))\n",
    "prob"
   ]
  },
  {
   "cell_type": "code",
   "execution_count": 11,
   "metadata": {},
   "outputs": [
    {
     "data": {
      "text/plain": [
       "1.959963984540054"
      ]
     },
     "execution_count": 11,
     "metadata": {},
     "output_type": "execute_result"
    }
   ],
   "source": [
    "z_alpha_2 = norm.ppf(prob)\n",
    "z_alpha_2"
   ]
  },
  {
   "attachments": {
    "image-2.png": {
     "image/png": "[encoded data removed]"
    }
   },
   "cell_type": "markdown",
   "metadata": {},
   "source": [
    "![image-2.png](attachment:image-2.png)"
   ]
  },
  {
   "cell_type": "code",
   "execution_count": 12,
   "metadata": {},
   "outputs": [
    {
     "data": {
      "text/plain": [
       "5.113897256795581"
      ]
     },
     "execution_count": 12,
     "metadata": {},
     "output_type": "execute_result"
    }
   ],
   "source": [
    "import numpy as np\n",
    "\n",
    "z = (media_amostral - media) / (std_amostral/ np.sqrt(n))\n",
    "z"
   ]
  },
  {
   "cell_type": "markdown",
   "metadata": {},
   "source": [
    "Rejeita-se $H_0$ porque z é <= que $\\frac{z alpha}{2}$"
   ]
  },
  {
   "cell_type": "markdown",
   "metadata": {},
   "source": [
    "#### p-valor"
   ]
  },
  {
   "cell_type": "code",
   "execution_count": 13,
   "metadata": {},
   "outputs": [],
   "source": [
    "import numpy as np\n",
    "from scipy.stats import norm\n",
    "\n",
    "media_amostral = 503.24\n",
    "std_amostral = 4.48\n",
    "\n",
    "media = 500\n",
    "significancia = 0.05\n",
    "confianca = 1 - significancia\n",
    "n = 50\n",
    "\n",
    "prob = (0.5 + (confianca / 2))\n",
    "\n",
    "z_alpha_2 = norm.ppf(prob)\n",
    "\n",
    "z = (media_amostral - media) / (std_amostral/ np.sqrt(n))\n"
   ]
  },
  {
   "cell_type": "code",
   "execution_count": 16,
   "metadata": {},
   "outputs": [
    {
     "data": {
      "text/plain": [
       "1.959963984540054"
      ]
     },
     "execution_count": 16,
     "metadata": {},
     "output_type": "execute_result"
    }
   ],
   "source": [
    "z_alpha_2"
   ]
  },
  {
   "cell_type": "code",
   "execution_count": 16,
   "metadata": {},
   "outputs": [
    {
     "data": {
      "text/plain": [
       "3.155790498099373e-07"
      ]
     },
     "execution_count": 16,
     "metadata": {},
     "output_type": "execute_result"
    }
   ],
   "source": [
    "p_valor = 2 * norm.sf(z)\n",
    "p_valor"
   ]
  },
  {
   "cell_type": "code",
   "execution_count": 17,
   "metadata": {},
   "outputs": [
    {
     "data": {
      "text/plain": [
       "True"
      ]
     },
     "execution_count": 17,
     "metadata": {},
     "output_type": "execute_result"
    }
   ],
   "source": [
    "p_valor <= significancia"
   ]
  },
  {
   "cell_type": "code",
   "execution_count": 35,
   "metadata": {},
   "outputs": [],
   "source": [
    "from statsmodels.stats.weightstats import ztest"
   ]
  },
  {
   "cell_type": "markdown",
   "metadata": {},
   "source": [
    "https://www.statsmodels.org/stable/generated/statsmodels.stats.weightstats.ztest.html"
   ]
  },
  {
   "cell_type": "code",
   "execution_count": 49,
   "metadata": {},
   "outputs": [
    {
     "name": "stdout",
     "output_type": "stream",
     "text": [
      "Média amostral aproximado: 503.29679815722824\n",
      "Desvio padrão amostral aproximado: 4.501158910002782\n"
     ]
    }
   ],
   "source": [
    "serie_numeros_gerados = np.random.normal(loc=media_amostral, scale=std_amostral, size=n)\n",
    "\n",
    "media_amostral_aproximado = np.mean(serie_numeros_gerados)\n",
    "std_amostral_aproximado = np.std(serie_numeros_gerados)\n",
    "\n",
    "print(\"Média amostral aproximado:\", media_amostral_aproximado)\n",
    "print(\"Desvio padrão amostral aproximado:\", std_amostral_aproximado)\n"
   ]
  },
  {
   "cell_type": "code",
   "execution_count": 50,
   "metadata": {},
   "outputs": [
    {
     "data": {
      "text/plain": [
       "(5.127032295907856, 2.943450400863377e-07)"
      ]
     },
     "execution_count": 50,
     "metadata": {},
     "output_type": "execute_result"
    }
   ],
   "source": [
    "ztest(x1=serie_numeros_gerados,value=media)"
   ]
  },
  {
   "cell_type": "code",
   "execution_count": 38,
   "metadata": {},
   "outputs": [],
   "source": [
    "from statsmodels.stats.weightstats import DescrStatsW"
   ]
  },
  {
   "cell_type": "markdown",
   "metadata": {},
   "source": [
    "https://www.statsmodels.org/stable/generated/statsmodels.stats.weightstats.DescrStatsW.html"
   ]
  },
  {
   "cell_type": "code",
   "execution_count": 40,
   "metadata": {},
   "outputs": [
    {
     "data": {
      "text/plain": [
       "(5.058588105178324, 4.223720904691293e-07)"
      ]
     },
     "execution_count": 40,
     "metadata": {},
     "output_type": "execute_result"
    }
   ],
   "source": [
    "test = DescrStatsW(serie_numeros_gerados)\n",
    "\n",
    "test.ztest_mean(value=media)"
   ]
  },
  {
   "cell_type": "markdown",
   "metadata": {},
   "source": [
    "#### Exercício 2\n",
    "\n",
    "A loja de eletrônicos Tecnogadget vende baterias recarregáveis para câmeras fotográficas. O departamento de controle de qualidade monitora o tempo de vida útil das baterias. O tempo médio de vida útil esperado é de 50 horas.\n",
    "\n",
    "Uma amostra de 30 baterias foi selecionada aleatoriamente, e o tempo médio de vida útil observado foi de 52,5 horas, com um desvio padrão amostral de 4 horas. Assumindo um nível de significância de 1%, podemos concluir, com base nos dados, que o tempo médio de vida útil das baterias excede as 50 horas?"
   ]
  },
  {
   "cell_type": "markdown",
   "metadata": {},
   "source": [
    "$H_0: \\mu = 50$\n",
    "\n",
    "$H_1: \\mu \\neq 50$"
   ]
  },
  {
   "cell_type": "code",
   "execution_count": 25,
   "metadata": {},
   "outputs": [
    {
     "name": "stdout",
     "output_type": "stream",
     "text": [
      "Rejeitar a hipótese nula, pois 3.42 é maior ou igual a 2.58.\n"
     ]
    }
   ],
   "source": [
    "from scipy.stats import norm\n",
    "import numpy as np\n",
    "\n",
    "media_amostral = 52.5\n",
    "std_amostral = 4\n",
    "\n",
    "media = 50\n",
    "significancia = 0.01\n",
    "confianca = 1 - significancia\n",
    "n = 30\n",
    "\n",
    "prob = (0.5 + (confianca / 2))\n",
    "\n",
    "z_alpha_2 = norm.ppf(prob)\n",
    "\n",
    "\n",
    "z = (media_amostral - media) / (std_amostral/ np.sqrt(n))\n",
    "\n",
    "\n",
    "if z >= z_alpha_2:\n",
    "    print(f'Rejeitar a hipótese nula, pois {round(z,2)} é maior ou igual a {round(z_alpha_2,2)}.')\n",
    "else:\n",
    "    print(f'Aceitar a hipótese nula, pois {round(z,2)} é menor que {round(z_alpha_2,2)}.')"
   ]
  },
  {
   "cell_type": "markdown",
   "metadata": {},
   "source": [
    "    Sim, o tempo médio de vida útil das baterias excede as 50 horas."
   ]
  },
  {
   "cell_type": "markdown",
   "metadata": {},
   "source": [
    "#### Exercício 3\n",
    "\n",
    "A empresa TechParts fabrica componentes eletrônicos e alega que a resistência média de seus resistores é de 100 ohms. Um cliente desconfia dessa afirmação e coleta uma amostra de 25 resistores para realizar um teste de hipóteses.\n",
    "\n",
    "A média amostral observada foi de 98,5 ohms, com um desvio padrão amostral de 3,2 ohms. Assumindo um nível de significância de 5%, é possível rejeitar a alegação da empresa e afirmar que a resistência média dos resistores é menor que 100 ohms? Use um teste de uma cauda."
   ]
  },
  {
   "cell_type": "markdown",
   "metadata": {},
   "source": [
    "$H_0: \\mu >= 100$\n",
    "\n",
    "$H_1: \\mu < 100$"
   ]
  },
  {
   "cell_type": "code",
   "execution_count": 56,
   "metadata": {},
   "outputs": [
    {
     "name": "stdout",
     "output_type": "stream",
     "text": [
      "Rejeitar a hipótese nula, pois -2.34 é menor ou igual a -1.64.\n"
     ]
    }
   ],
   "source": [
    "from scipy.stats import norm\n",
    "import numpy as np\n",
    "\n",
    "media_amostral = 98.5\n",
    "std_amostral = 3.2\n",
    "\n",
    "media = 100\n",
    "significancia = 0.05\n",
    "confianca = 1 - significancia\n",
    "n = 25\n",
    "\n",
    "prob = confianca\n",
    "\n",
    "menos_z_alpha = norm.isf(prob)\n",
    "\n",
    "\n",
    "z = (media_amostral - media) / (std_amostral/ np.sqrt(n))\n",
    "\n",
    "\n",
    "if z <= menos_z_alpha:\n",
    "    print(f'Rejeitar a hipótese nula, pois {round(z,2)} é menor ou igual a {round(menos_z_alpha,2)}.')\n",
    "else:\n",
    "    print(f'Aceitar a hipótese nula, pois {round(z,2)} é maior que {round(menos_z_alpha,2)}.')"
   ]
  },
  {
   "cell_type": "markdown",
   "metadata": {},
   "source": [
    "    Sim, a resistência média dos resistores é menor que 100."
   ]
  },
  {
   "cell_type": "markdown",
   "metadata": {},
   "source": [
    "#### Exercício 4\n",
    "\n",
    "Um fabricante de lâmpadas alega que a vida média de suas lâmpadas é de 1200 horas. Uma organização de consumidores suspeita dessa alegação e decide realizar um teste de hipóteses. Eles selecionam uma amostra de 36 lâmpadas e encontram que a vida média amostral é de 1175 horas, com um desvio padrão amostral de 80 horas.\n",
    "\n",
    "Assumindo um nível de significância de 1%, podemos concluir, com base nos dados, que a vida média das lâmpadas é inferior a 1200 horas? Utilize um teste de uma cauda."
   ]
  },
  {
   "cell_type": "markdown",
   "metadata": {},
   "source": [
    "$H_0: \\mu >= 1200$\n",
    "\n",
    "$H_1: \\mu < 1200$"
   ]
  },
  {
   "cell_type": "code",
   "execution_count": 1,
   "metadata": {},
   "outputs": [
    {
     "name": "stdout",
     "output_type": "stream",
     "text": [
      "Aceitar a hipótese nula, pois -1.88 é maior que -2.33.\n"
     ]
    }
   ],
   "source": [
    "from scipy.stats import norm\n",
    "import numpy as np\n",
    "\n",
    "media_amostral = 1175\n",
    "std_amostral = 80\n",
    "\n",
    "media = 1200\n",
    "significancia = 0.01\n",
    "confianca = 1 - significancia\n",
    "n = 36\n",
    "\n",
    "prob = confianca\n",
    "\n",
    "menos_z_alpha = norm.isf(prob)\n",
    "\n",
    "\n",
    "z = (media_amostral - media) / (std_amostral/ np.sqrt(n))\n",
    "\n",
    "\n",
    "if z <= menos_z_alpha:\n",
    "    print(f'Rejeitar a hipótese nula, pois {round(z,2)} é menor ou igual a {round(menos_z_alpha,2)}.')\n",
    "else:\n",
    "    print(f'Aceitar a hipótese nula, pois {round(z,2)} é maior que {round(menos_z_alpha,2)}.')"
   ]
  },
  {
   "cell_type": "markdown",
   "metadata": {},
   "source": [
    "#### Exercício 5\n",
    "\n",
    "Uma empresa afirma que o tempo médio de espera para o atendimento ao cliente em seu serviço de suporte técnico é de 8 minutos. Um grupo de clientes insatisfeitos decide testar essa afirmação coletando uma amostra de 25 experiências de atendimento. O tempo médio de espera observado na amostra é de 7,5 minutos, com um desvio padrão amostral de 1,2 minutos.\n",
    "\n",
    "Com um nível de significância de 5%, é possível afirmar, com base nos dados, que o tempo médio de espera é menor que 8 minutos? Utilize um teste de uma cauda."
   ]
  },
  {
   "cell_type": "markdown",
   "metadata": {},
   "source": [
    "$H_0: \\mu >= 8$\n",
    "\n",
    "$H_1: \\mu < 8$"
   ]
  },
  {
   "cell_type": "code",
   "execution_count": 2,
   "metadata": {},
   "outputs": [
    {
     "name": "stdout",
     "output_type": "stream",
     "text": [
      "Rejeitar a hipótese nula, pois -2.08 é menor ou igual a -1.64.\n"
     ]
    }
   ],
   "source": [
    "from scipy.stats import norm\n",
    "import numpy as np\n",
    "\n",
    "media_amostral = 7.5\n",
    "std_amostral = 1.2\n",
    "\n",
    "media = 8\n",
    "significancia = 0.05\n",
    "confianca = 1 - significancia\n",
    "n = 25\n",
    "\n",
    "prob = confianca\n",
    "\n",
    "menos_z_alpha = norm.isf(prob)\n",
    "\n",
    "\n",
    "z = (media_amostral - media) / (std_amostral/ np.sqrt(n))\n",
    "\n",
    "\n",
    "if z <= menos_z_alpha:\n",
    "    print(f'Rejeitar a hipótese nula, pois {round(z,2)} é menor ou igual a {round(menos_z_alpha,2)}.')\n",
    "else:\n",
    "    print(f'Aceitar a hipótese nula, pois {round(z,2)} é maior que {round(menos_z_alpha,2)}.')"
   ]
  },
  {
   "cell_type": "markdown",
   "metadata": {},
   "source": [
    "## Distribuição t de Student e o teste unicaudal"
   ]
  },
  {
   "cell_type": "markdown",
   "metadata": {},
   "source": [
    "Um famoso fabricante de refrigerantes alega que uma lata de 350 ml de seu principal produto contém, **no máximo**, **37 gramas de açúcar**. Esta alegação nos leva a entender que a quantidade média de açúcar em uma lata de refrigerante deve ser **igual ou menor que 37 g**.\n",
    "\n",
    "Um consumidor desconfiado e com conhecimentos em inferência estatística resolve testar a alegação do fabricante e seleciona, aleatóriamente, em um conjunto de estabelecimentos distintos, **uma amostra de 25 latas** do refrigerante em questão. Utilizando o equipamento correto o consumidor obteve as quantidades de açúcar em todas as 25 latas de sua amostra. \n",
    "\n",
    "**Assumindo que essa população se distribua aproximadamente como uma normal e considerando um nível de significância de 5%, é possível aceitar como válida a alegação do fabricante?**"
   ]
  },
  {
   "cell_type": "markdown",
   "metadata": {},
   "source": [
    "$H_0: \\mu <= 37$\n",
    "\n",
    "$H_1: \\mu > 37$"
   ]
  },
  {
   "cell_type": "code",
   "execution_count": 78,
   "metadata": {},
   "outputs": [
    {
     "name": "stdout",
     "output_type": "stream",
     "text": [
      "Média da amostra: 34.34\n",
      "Desvio padrão da amostra: 8.9\n",
      "Aceita a hipótese nula, pois -1.49 é menor ou igual a 1.71.\n"
     ]
    },
    {
     "data": {
      "text/plain": [
       "0.925945680080778"
      ]
     },
     "execution_count": 78,
     "metadata": {},
     "output_type": "execute_result"
    }
   ],
   "source": [
    "from scipy.stats import t as t_student\n",
    "import numpy as np\n",
    "\n",
    "amostras = np.random.normal(loc=37,scale=10,size=25)\n",
    "\n",
    "media = 37\n",
    "significancia = 0.05\n",
    "confianca = 1 - significancia\n",
    "n = 25\n",
    "graus_de_liberdade = n-1\n",
    "\n",
    "\n",
    "media_amostra = amostras.mean().round(2)\n",
    "print(f'Média da amostra: {media_amostra}')\n",
    "desvio_padrao_amostra = amostras.std().round(2)\n",
    "print(f'Desvio padrão da amostra: {desvio_padrao_amostra}')\n",
    "\n",
    "\n",
    "t_alpha = t_student.ppf(confianca,graus_de_liberdade)\n",
    "\n",
    "t = (media_amostra - media) / (desvio_padrao_amostra / np.sqrt(n))\n",
    "\n",
    "\n",
    "if t >= t_alpha:\n",
    "    print(f'Rejeitar a hipótese nula, pois {round(t,2)} é maior ou igual a {round(t_alpha,2)}.')\n",
    "else:\n",
    "    print(f'Aceita a hipótese nula, pois {round(t,2)} é menor ou igual a {round(t_alpha,2)}.')\n",
    "    \n",
    "    \n",
    "p_valor = t_student.sf(t, df = graus_de_liberdade)\n",
    "p_valor"
   ]
  },
  {
   "cell_type": "code",
   "execution_count": 81,
   "metadata": {},
   "outputs": [
    {
     "name": "stdout",
     "output_type": "stream",
     "text": [
      "-1.4621589458871078\n",
      "0.9216651116164752\n",
      "24.0\n"
     ]
    }
   ],
   "source": [
    "from statsmodels.stats.weightstats import DescrStatsW\n",
    "\n",
    "teste = DescrStatsW(amostras)\n",
    "\n",
    "t, p_valor, df = teste.ttest_mean(value=media,alternative='larger')\n",
    "print(t)\n",
    "print(p_valor)\n",
    "print(df)\n"
   ]
  },
  {
   "cell_type": "markdown",
   "metadata": {},
   "source": [
    "## Teste para duas amostras"
   ]
  },
  {
   "cell_type": "code",
   "execution_count": 18,
   "metadata": {},
   "outputs": [
    {
     "data": {
      "text/plain": [
       "2.3263478740408408"
      ]
     },
     "execution_count": 18,
     "metadata": {},
     "output_type": "execute_result"
    }
   ],
   "source": [
    "import numpy as np\n",
    "from scipy.stats import norm\n",
    "\n",
    "seed = np.random.seed(100)\n",
    "\n",
    "#dados\n",
    "homens = np.random.normal(loc=2000,scale=2,size=500)\n",
    "mulheres = np.random.normal(loc=1800,scale=2,size=500)\n",
    "\n",
    "media_h = homens.mean()\n",
    "media_m = mulheres.mean()\n",
    "std_h = homens.std()\n",
    "std_m = mulheres.std()\n",
    "\n",
    "\n",
    "\n",
    "significancia = 0.01\n",
    "confianca = 1 - significancia\n",
    "\n",
    "z_alpha = norm.ppf(confianca)\n",
    "z_alpha"
   ]
  },
  {
   "cell_type": "markdown",
   "metadata": {},
   "source": [
    "$H_0: \\mu1 <= \\mu2$\n",
    "\n",
    "$H_1: \\mu1 > \\mu2$\n",
    "\n",
    "\n",
    "OU\n",
    "\n",
    "$H_0: \\mu1 - \\mu2 <= 0$\n",
    "\n",
    "$H_1: \\mu1 - \\mu2 > 0$"
   ]
  },
  {
   "cell_type": "code",
   "execution_count": 16,
   "metadata": {},
   "outputs": [
    {
     "name": "stdout",
     "output_type": "stream",
     "text": [
      "1510.751729592024\n",
      "0.0\n"
     ]
    }
   ],
   "source": [
    "from statsmodels.stats.weightstats import DescrStatsW, CompareMeans\n",
    "\n",
    "test_h = DescrStatsW(homens)\n",
    "test_m = DescrStatsW(mulheres)\n",
    "\n",
    "teste = test_h.get_compare(test_m)\n",
    "\n",
    "z, p_valor = teste.ztest_ind(alternative='larger',value=0)\n",
    "print(z)\n",
    "print(p_valor)"
   ]
  },
  {
   "cell_type": "code",
   "execution_count": 20,
   "metadata": {},
   "outputs": [
    {
     "data": {
      "text/plain": [
       "(1510.751729592024, 0.0)"
      ]
     },
     "execution_count": 20,
     "metadata": {},
     "output_type": "execute_result"
    }
   ],
   "source": [
    "teste = CompareMeans(test_h,test_m)\n",
    "teste.ztest_ind(alternative='larger',value=0)"
   ]
  },
  {
   "cell_type": "markdown",
   "metadata": {},
   "source": [
    "### EXERCÍCIO 6\n",
    "\n",
    "Suponha que você está analisando a eficácia de dois tipos de medicamentos para reduzir a pressão arterial em pacientes hipertensos. Você coletou duas amostras de pacientes: uma que recebeu o Medicamento A e outra que recebeu o Medicamento B. Agora, você deseja determinar se existe uma diferença significativa entre os efeitos dos dois medicamentos na redução da pressão arterial.\n",
    "\n",
    "Aqui estão os dados das duas amostras:\n"
   ]
  },
  {
   "cell_type": "code",
   "execution_count": 99,
   "metadata": {},
   "outputs": [
    {
     "name": "stdout",
     "output_type": "stream",
     "text": [
      "Média\n",
      "142.4\n",
      "139.8\n",
      "\n",
      "\n",
      "Desvio padrão\n",
      "5.0039984012787215\n",
      "5.2306787322488075\n",
      "\n",
      "\n",
      "Alpha:\n",
      "0.05\n"
     ]
    }
   ],
   "source": [
    "medicamento_A = np.array([140, 145, 150, 135, 142])\n",
    "medicamento_B = np.array([138, 142, 148, 132, 139])\n",
    "\n",
    "print('Média')\n",
    "print(medicamento_A.mean())\n",
    "print(medicamento_B.mean())\n",
    "print('\\n')\n",
    "print('Desvio padrão')\n",
    "print(medicamento_A.std())\n",
    "print(medicamento_B.std())\n",
    "print('\\n')\n",
    "print('Alpha:')\n",
    "alpha = 0.05\n",
    "print(alpha)\n"
   ]
  },
  {
   "cell_type": "markdown",
   "metadata": {},
   "source": [
    "$H_0: \\mu1 = \\mu2$\n",
    "\n",
    "$H_1: \\mu1 \\neq \\mu2$"
   ]
  },
  {
   "cell_type": "code",
   "execution_count": 101,
   "metadata": {},
   "outputs": [
    {
     "name": "stdout",
     "output_type": "stream",
     "text": [
      "Estatística T: 0.7183526531941973\n",
      "Valor p: 0.4929829349028887\n",
      "Não rejeitar a hipótese nula. Não há evidência suficiente para concluir diferença estatisticamente significativa entre as médias.\n"
     ]
    }
   ],
   "source": [
    "from scipy.stats import ttest_ind\n",
    "\n",
    "# Realizando o teste T\n",
    "t_statistic, p_value = ttest_ind(medicamento_A, medicamento_B)\n",
    "\n",
    "print('Estatística T:', t_statistic)\n",
    "print('Valor p:', p_value)\n",
    "\n",
    "if p_value < alpha:\n",
    "    print(\"Rejeitar a hipótese nula. Há diferença estatisticamente significativa entre as médias.\")\n",
    "else:\n",
    "    print(\"Não rejeitar a hipótese nula. Não há evidência suficiente para concluir diferença estatisticamente significativa entre as médias.\")\n",
    "\n"
   ]
  },
  {
   "cell_type": "markdown",
   "metadata": {},
   "source": [
    "#### EXERCÍCIO 7 \n",
    "\n",
    "Suponha que você é um pesquisador interessado em investigar se há diferença na média de horas de sono entre dois grupos de pessoas: aquelas que praticam exercícios regularmente e aquelas que não praticam. Você coletou dados de duas amostras: uma amostra de pessoas que praticam exercícios regularmente e outra amostra de pessoas que não praticam exercícios regularmente.\n",
    "\n",
    "Aqui estão os dados das duas amostras:"
   ]
  },
  {
   "cell_type": "code",
   "execution_count": 47,
   "metadata": {},
   "outputs": [
    {
     "name": "stdout",
     "output_type": "stream",
     "text": [
      "Média\n",
      "6.8\n",
      "5.8\n",
      "\n",
      "\n",
      "Desvio padrão\n",
      "0.7483314773547882\n",
      "0.7483314773547882\n",
      "\n",
      "\n",
      "Alpha:\n",
      "0.05\n"
     ]
    }
   ],
   "source": [
    "pratica_exercicio = np.array([7, 6, 7, 8, 6])\n",
    "nao_pratica_exercicio = np.array([6, 5, 6, 7, 5])\n",
    "\n",
    "print('Média')\n",
    "print(pratica_exercicio.mean())\n",
    "print(nao_pratica_exercicio.mean())\n",
    "print('\\n')\n",
    "print('Desvio padrão')\n",
    "print(pratica_exercicio.std())\n",
    "print(nao_pratica_exercicio.std())\n",
    "print('\\n')\n",
    "print('Alpha:')\n",
    "alpha = 0.05\n",
    "print(alpha)\n"
   ]
  },
  {
   "cell_type": "markdown",
   "metadata": {},
   "source": [
    "$H_0: \\mu1 = \\mu2$\n",
    "\n",
    "$H_1: \\mu1 \\neq \\mu2$"
   ]
  },
  {
   "cell_type": "code",
   "execution_count": 63,
   "metadata": {},
   "outputs": [
    {
     "name": "stdout",
     "output_type": "stream",
     "text": [
      "Estatística T: 1.8898223650461363\n",
      "Valor p: 0.09545200899274052\n",
      "Não rejeitar a hipótese nula. Não há evidência suficiente para concluir diferença estatisticamente significativa entre as médias.\n"
     ]
    }
   ],
   "source": [
    "from scipy.stats import ttest_ind\n",
    "\n",
    "# Realizando o teste T\n",
    "t_statistic, p_value = ttest_ind(pratica_exercicio, nao_pratica_exercicio)\n",
    "\n",
    "print('Estatística T:', t_statistic)\n",
    "print('Valor p:', p_value)\n",
    "\n",
    "if p_value < alpha:\n",
    "    print(\"Rejeitar a hipótese nula. Há diferença estatisticamente significativa entre as médias.\")\n",
    "else:\n",
    "    print(\"Não rejeitar a hipótese nula. Não há evidência suficiente para concluir diferença estatisticamente significativa entre as médias.\")\n"
   ]
  },
  {
   "cell_type": "markdown",
   "metadata": {},
   "source": [
    "#### EXERCÍCIO 8 \n",
    "\n",
    "Suponha que você esteja estudando o desempenho de duas diferentes versões de um mesmo programa de computador, A e B. Você coletou duas amostras de tempos de execução (em segundos) para cada versão: uma amostra para a versão A e outra para a versão B. Agora, você deseja comparar se há diferença significativa entre os tempos de execução das duas versões.\n",
    "\n",
    "Aqui estão os tempos de execução para cada versão:"
   ]
  },
  {
   "cell_type": "markdown",
   "metadata": {},
   "source": [
    "$H_0: \\mu1 = \\mu2$\n",
    "\n",
    "$H_1: \\mu1 \\neq \\mu2$"
   ]
  },
  {
   "cell_type": "code",
   "execution_count": 55,
   "metadata": {},
   "outputs": [
    {
     "name": "stdout",
     "output_type": "stream",
     "text": [
      "Tamanho\n",
      "30\n",
      "30\n",
      "\n",
      "\n",
      "Média\n",
      "5.0233333333333325\n",
      "4.363333333333333\n",
      "\n",
      "\n",
      "Desvio padrão\n",
      "0.1563827214098653\n",
      "0.12775845264491192\n",
      "\n",
      "\n",
      "Alpha:\n",
      "0.05\n"
     ]
    }
   ],
   "source": [
    "versao_A = np.array([5.2, 4.8, 4.9, 5.1, 5.0, 5.3, 4.7, 5.2, 4.9, 5.0, 5.1, 4.8, 5.0, 5.2, 5.1, 4.9, 4.8, 5.0, 5.1, 5.3, 5.0, 4.9, 5.1, 4.8, 5.2, 5.1, 5.0, 5.2, 5.1, 4.9])\n",
    "versao_B = np.array([4.3, 4.2, 4.4, 4.5, 4.3, 4.6, 4.2, 4.4, 4.3, 4.5, 4.2, 4.3, 4.4, 4.2, 4.5, 4.6, 4.3, 4.4, 4.2, 4.5, 4.3, 4.4, 4.6, 4.3, 4.2, 4.4, 4.5, 4.3, 4.4, 4.2])\n",
    "\n",
    "print('Tamanho')\n",
    "print(len(versao_A))\n",
    "print(len(versao_B))\n",
    "print('\\n')\n",
    "print('Média')\n",
    "print(versao_A.mean())\n",
    "print(versao_B.mean())\n",
    "print('\\n')\n",
    "print('Desvio padrão')\n",
    "print(versao_A.std())\n",
    "print(versao_B.std())\n",
    "print('\\n')\n",
    "print('Alpha:')\n",
    "alpha = 0.05\n",
    "print(alpha)\n"
   ]
  },
  {
   "cell_type": "code",
   "execution_count": 56,
   "metadata": {},
   "outputs": [
    {
     "name": "stdout",
     "output_type": "stream",
     "text": [
      "Estatística Z: 17.60074930285066\n",
      "Valor p: 2.4308675057044963e-69\n",
      "Rejeitar a hipótese nula. Há diferença estatisticamente significativa entre as médias.\n"
     ]
    }
   ],
   "source": [
    "from statsmodels.stats.weightstats import ztest\n",
    "\n",
    "# Realizando o teste Z\n",
    "z_statistic, p_value = ztest(versao_A, versao_B)\n",
    "\n",
    "print('Estatística Z:', z_statistic)\n",
    "print('Valor p:', p_value)\n",
    "\n",
    "if p_value < alpha:\n",
    "    print(\"Rejeitar a hipótese nula. Há diferença estatisticamente significativa entre as médias.\")\n",
    "else:\n",
    "    print(\"Não rejeitar a hipótese nula. Não há evidência suficiente para concluir diferença estatisticamente significativa entre as médias.\")\n"
   ]
  },
  {
   "cell_type": "code",
   "execution_count": 66,
   "metadata": {},
   "outputs": [
    {
     "name": "stdout",
     "output_type": "stream",
     "text": [
      "Estatística T: 17.60074930285066\n",
      "Valor p: 6.186058445881454e-25\n",
      "Rejeitar a hipótese nula. Há diferença estatisticamente significativa entre as médias.\n"
     ]
    }
   ],
   "source": [
    "from scipy.stats import ttest_ind\n",
    "\n",
    "# Realizando o teste T\n",
    "t_statistic, p_value = ttest_ind(versao_A, versao_B)\n",
    "\n",
    "\n",
    "print('Estatística T:', t_statistic)\n",
    "print('Valor p:', p_value)\n",
    "\n",
    "if p_value < alpha:\n",
    "    print(\"Rejeitar a hipótese nula. Há diferença estatisticamente significativa entre as médias.\")\n",
    "else:\n",
    "    print(\"Não rejeitar a hipótese nula. Não há evidência suficiente para concluir diferença estatisticamente significativa entre as médias.\")\n"
   ]
  },
  {
   "cell_type": "markdown",
   "metadata": {},
   "source": [
    "#### EXERCÍCIO 8\n",
    "\n",
    "Suponha que você esteja interessado em investigar se há uma diferença significativa na quantidade média de citações entre artigos de acesso aberto e artigos de acesso fechado em uma determinada área de pesquisa. Você coletou duas amostras de artigos: uma amostra para artigos de acesso aberto e outra para artigos de acesso fechado. Agora, você deseja determinar se há uma diferença estatisticamente significativa na quantidade média de citações entre os dois tipos de artigos.\n",
    "\n",
    "Aqui estão os dados hipotéticos de citações para cada tipo de artigo:\n"
   ]
  },
  {
   "cell_type": "code",
   "execution_count": 67,
   "metadata": {},
   "outputs": [
    {
     "name": "stdout",
     "output_type": "stream",
     "text": [
      "Tamanho\n",
      "21\n",
      "21\n",
      "\n",
      "\n",
      "Média\n",
      "20.0\n",
      "17.714285714285715\n",
      "\n",
      "\n",
      "Desvio padrão\n",
      "6.0553007081949835\n",
      "6.415330278717847\n",
      "\n",
      "\n",
      "Alpha:\n",
      "0.05\n"
     ]
    }
   ],
   "source": [
    "acesso_aberto = np.array([15, 20, 10, 25, 30, 18, 22, 17, 14, 28, 12, 19, 16, 21, 26, 13, 23, 27, 11, 24, 29])\n",
    "acesso_fechado = np.array([12, 18, 8, 22, 27, 16, 20, 15, 11, 25, 9, 17, 14, 19, 23, 10, 21, 26, 7, 24, 28])\n",
    "\n",
    "print('Tamanho')\n",
    "print(len(acesso_aberto))\n",
    "print(len(acesso_fechado))\n",
    "print('\\n')\n",
    "print('Média')\n",
    "print(acesso_aberto.mean())\n",
    "print(acesso_fechado.mean())\n",
    "print('\\n')\n",
    "print('Desvio padrão')\n",
    "print(acesso_aberto.std())\n",
    "print(acesso_fechado.std())\n",
    "print('\\n')\n",
    "print('Alpha:')\n",
    "alpha = 0.05\n",
    "print(alpha)"
   ]
  },
  {
   "cell_type": "code",
   "execution_count": 68,
   "metadata": {},
   "outputs": [
    {
     "name": "stdout",
     "output_type": "stream",
     "text": [
      "Estatística T: 1.1587309190046418\n",
      "Valor p: 0.253437043515406\n",
      "Não rejeitar a hipótese nula. Não há evidência suficiente para concluir diferença estatisticamente significativa entre as médias.\n"
     ]
    }
   ],
   "source": [
    "from scipy.stats import ttest_ind\n",
    "\n",
    "# Realizando o teste T\n",
    "t_statistic, p_value = ttest_ind(acesso_aberto, acesso_fechado)\n",
    "\n",
    "\n",
    "print('Estatística T:', t_statistic)\n",
    "print('Valor p:', p_value)\n",
    "\n",
    "if p_value < alpha:\n",
    "    print(\"Rejeitar a hipótese nula. Há diferença estatisticamente significativa entre as médias.\")\n",
    "else:\n",
    "    print(\"Não rejeitar a hipótese nula. Não há evidência suficiente para concluir diferença estatisticamente significativa entre as médias.\")\n"
   ]
  },
  {
   "cell_type": "markdown",
   "metadata": {},
   "source": [
    "#### EXERCÍCIO 9\n",
    "\n",
    "Suponha que você esteja interessado em investigar se há uma diferença significativa na quantidade média de citações entre artigos de acesso aberto e artigos de acesso fechado em uma determinada área de pesquisa. Você coletou duas amostras de artigos: uma amostra para artigos de acesso aberto e outra para artigos de acesso fechado. Agora, você deseja determinar se há uma diferença estatisticamente significativa na quantidade média de citações entre os dois tipos de artigos.\n",
    "\n",
    "Aqui estão os dados hipotéticos de citações para cada tipo de artigo:"
   ]
  },
  {
   "cell_type": "code",
   "execution_count": 98,
   "metadata": {},
   "outputs": [
    {
     "name": "stdout",
     "output_type": "stream",
     "text": [
      "Tamanho\n",
      "35\n",
      "70\n",
      "\n",
      "\n",
      "Média\n",
      "20.193970968144573\n",
      "14.460710390142735\n",
      "\n",
      "\n",
      "Variância\n",
      "1.5608447543795236\n",
      "3.5676617623208524\n",
      "\n",
      "\n",
      "Desvio padrão\n",
      "1.249337726309233\n",
      "1.8888254981127433\n",
      "\n",
      "\n",
      "Alpha:\n",
      "0.05\n"
     ]
    }
   ],
   "source": [
    "seed = np.random.seed(100)\n",
    "\n",
    "acesso_aberto = np.random.normal(loc=20,scale=1.5,size=35)\n",
    "acesso_fechado = np.random.normal(loc=15,scale=1.8,size=70)\n",
    "\n",
    "\n",
    "\n",
    "print('Tamanho')\n",
    "print(len(acesso_aberto))\n",
    "print(len(acesso_fechado))\n",
    "print('\\n')\n",
    "print('Média')\n",
    "print(acesso_aberto.mean())\n",
    "print(acesso_fechado.mean())\n",
    "print('\\n')\n",
    "print('Variância')\n",
    "print(acesso_aberto.var())\n",
    "print(acesso_fechado.var())\n",
    "print('\\n')\n",
    "print('Desvio padrão')\n",
    "print(acesso_aberto.std())\n",
    "print(acesso_fechado.std())\n",
    "print('\\n')\n",
    "print('Alpha:')\n",
    "alpha = 0.05\n",
    "print(alpha)"
   ]
  },
  {
   "cell_type": "code",
   "execution_count": 102,
   "metadata": {},
   "outputs": [
    {
     "name": "stdout",
     "output_type": "stream",
     "text": [
      "Estatística T: 18.350550322452992\n",
      "Valor p: 6.299030058045059e-33\n",
      "Rejeitar a hipótese nula. Há diferença estatisticamente significativa entre as médias.\n"
     ]
    }
   ],
   "source": [
    "from scipy.stats import ttest_ind\n",
    "\n",
    "# Realizando o teste t de Welch\n",
    "t_statistic, p_value = ttest_ind(acesso_aberto, acesso_fechado, equal_var=False)\n",
    "\n",
    "print('Estatística T:', t_statistic)\n",
    "print('Valor p:', p_value)\n",
    "\n",
    "if p_value < alpha:\n",
    "    print(\"Rejeitar a hipótese nula. Há diferença estatisticamente significativa entre as médias.\")\n",
    "else:\n",
    "    print(\"Não rejeitar a hipótese nula. Não há evidência suficiente para concluir diferença estatisticamente significativa entre as médias.\")\n"
   ]
  },
  {
   "cell_type": "markdown",
   "metadata": {},
   "source": [
    "## Distribuição Qui-Quadrado"
   ]
  },
  {
   "cell_type": "code",
   "execution_count": null,
   "metadata": {},
   "outputs": [],
   "source": []
  },
  {
   "cell_type": "code",
   "execution_count": null,
   "metadata": {},
   "outputs": [],
   "source": []
  },
  {
   "cell_type": "markdown",
   "metadata": {},
   "source": [
    "## Teste de Wilcoxon e Mann-Whitney"
   ]
  },
  {
   "cell_type": "code",
   "execution_count": null,
   "metadata": {},
   "outputs": [],
   "source": []
  },
  {
   "cell_type": "code",
   "execution_count": null,
   "metadata": {},
   "outputs": [],
   "source": []
  },
  {
   "cell_type": "markdown",
   "metadata": {},
   "source": [
    "## Resumo e projeto final"
   ]
  },
  {
   "cell_type": "code",
   "execution_count": null,
   "metadata": {},
   "outputs": [],
   "source": []
  },
  {
   "cell_type": "code",
   "execution_count": null,
   "metadata": {},
   "outputs": [],
   "source": []
  }
 ],
 "metadata": {
  "kernelspec": {
   "display_name": "Python 3",
   "language": "python",
   "name": "python3"
  },
  "language_info": {
   "codemirror_mode": {
    "name": "ipython",
    "version": 3
   },
   "file_extension": ".py",
   "mimetype": "text/x-python",
   "name": "python",
   "nbconvert_exporter": "python",
   "pygments_lexer": "ipython3",
   "version": "3.10.12"
  }
 },
 "nbformat": 4,
 "nbformat_minor": 2
}
