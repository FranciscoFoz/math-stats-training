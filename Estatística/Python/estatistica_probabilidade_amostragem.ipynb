{
 "cells": [
  {
   "attachments": {},
   "cell_type": "markdown",
   "metadata": {},
   "source": [
    "# Probabilidade e amostragem"
   ]
  },
  {
   "attachments": {},
   "cell_type": "markdown",
   "metadata": {},
   "source": [
    "## Importando bibliotecas"
   ]
  },
  {
   "cell_type": "code",
   "execution_count": 1,
   "metadata": {},
   "outputs": [],
   "source": [
    "import pandas as pd\n",
    "import numpy as np\n",
    "import scipy \n",
    "import matplotlib.pyplot as plt\n"
   ]
  },
  {
   "attachments": {},
   "cell_type": "markdown",
   "metadata": {},
   "source": [
    "## Importando dados"
   ]
  },
  {
   "cell_type": "code",
   "execution_count": 2,
   "metadata": {},
   "outputs": [],
   "source": [
    "df_pnad = pd.read_csv('/home/franciscofoz/Documents/GitHub/math-stats-training/Estatística/Datasets/dados_curso_estatistica_2.csv')\n",
    "df_spaceship = pd.read_csv('/home/franciscofoz/Documents/GitHub/math-stats-training/Estatística/Datasets/spaceship_titanic_train.csv')\n",
    "\n"
   ]
  },
  {
   "attachments": {},
   "cell_type": "markdown",
   "metadata": {},
   "source": [
    "# 1 - Distribuição binomial"
   ]
  },
  {
   "attachments": {},
   "cell_type": "markdown",
   "metadata": {},
   "source": [
    "    Um evento binomial é caracterizado pela possibilidade de ocorrência de apenas duas categorias.\n",
    "\n",
    "* Probabilidade é um número que vai de 0 a 1.\n",
    "* Problemas de \"sucesso ou fracasso\"\n",
    "\n",
    "1. Realização de n ensaios idênticos\n",
    "2. Ensaios independentes\n",
    "3. Apenas dois resultados possíveis\n",
    "4. Probabilidade é representada por p e a de fracasso é 1 - p = q.\n"
   ]
  },
  {
   "attachments": {},
   "cell_type": "markdown",
   "metadata": {},
   "source": [
    "### Média da distribuição binomial\n",
    "\n",
    "$$ \\mu = n * p $$\n",
    "\n",
    "n = número de experimentos realizados\n",
    "\n",
    "p = probabilidade de chance de ocorrência"
   ]
  },
  {
   "attachments": {},
   "cell_type": "markdown",
   "metadata": {},
   "source": [
    "### Desvio padrão da distribuição binomial\n",
    "\n",
    "$$ \\sigma = \\sqrt{n * p * q} $$\n",
    "\n",
    "n = número de experimentos realizados\n",
    "\n",
    "p = probabilidade de chance de ocorrência\n",
    "\n",
    "q = probabilidade de fracasso"
   ]
  },
  {
   "attachments": {},
   "cell_type": "markdown",
   "metadata": {},
   "source": [
    "### Combinações"
   ]
  },
  {
   "attachments": {},
   "cell_type": "markdown",
   "metadata": {},
   "source": [
    "Número de combinações de N objetos, tomados K cada vez"
   ]
  },
  {
   "cell_type": "code",
   "execution_count": 3,
   "metadata": {},
   "outputs": [],
   "source": [
    "from scipy.special import comb"
   ]
  },
  {
   "cell_type": "code",
   "execution_count": 4,
   "metadata": {},
   "outputs": [
    {
     "name": "stdout",
     "output_type": "stream",
     "text": [
      "Combinações 50063860.0\n",
      "Probabilidade de acerto: 0.000000019974489\n"
     ]
    }
   ],
   "source": [
    "# Espaço amostral da mega-sena\n",
    "\n",
    "combinacoes = comb(60,6)\n",
    "print('Combinações',combinacoes)\n",
    "probabilidade_acerto = 1/combinacoes\n",
    "print('Probabilidade de acerto:','%0.15f' % probabilidade_acerto)"
   ]
  },
  {
   "attachments": {},
   "cell_type": "markdown",
   "metadata": {},
   "source": [
    "### $$P(k)=\\binom{n}{k} p^k q^{n-k}$$\n",
    "\n",
    "$p$ = probabilidade de sucesso\n",
    "\n",
    "$q = (1 - p)$ = probabilidade de fracasso\n",
    "\n",
    "$n$ = número de eventos estudados\n",
    "\n",
    "$k$ = número de eventos desejados que tenham sucesso"
   ]
  },
  {
   "attachments": {},
   "cell_type": "markdown",
   "metadata": {},
   "source": [
    "###  Concurso para cientista de dados"
   ]
  },
  {
   "cell_type": "code",
   "execution_count": 5,
   "metadata": {},
   "outputs": [
    {
     "name": "stdout",
     "output_type": "stream",
     "text": [
      "\n",
      " 10 \n",
      " 0.3333333333333333 \n",
      " 0.6666666666666667 \n",
      " 5\n"
     ]
    }
   ],
   "source": [
    "'''\n",
    "* 10 questões de múltipla escolha, com 3 alternativas.\n",
    "* Chutar todas as questões\n",
    "\n",
    "* Assumindo que a prova valha 10 e a nota de corte seja 5, qual a probabilidade do candidato passar?\n",
    "'''\n",
    "# Ensaios\n",
    "n = 10\n",
    "\n",
    "numero_alternativas_por_questao = 3\n",
    "p = 1/3\n",
    "\n",
    "q = 1 - p\n",
    "\n",
    "k = 5\n",
    "\n",
    "print('\\n',n,'\\n',p,'\\n',q,'\\n',k)"
   ]
  },
  {
   "cell_type": "code",
   "execution_count": 6,
   "metadata": {},
   "outputs": [
    {
     "data": {
      "text/plain": [
       "0.13656454808718185"
      ]
     },
     "execution_count": 6,
     "metadata": {},
     "output_type": "execute_result"
    }
   ],
   "source": [
    "# Solução 1\n",
    "\n",
    "probabilidade = (comb(n,k)) * (p ** k) * (q ** (n - k))\n",
    "probabilidade\n"
   ]
  },
  {
   "cell_type": "code",
   "execution_count": 7,
   "metadata": {},
   "outputs": [
    {
     "data": {
      "text/plain": [
       "0.1365645480871816"
      ]
     },
     "execution_count": 7,
     "metadata": {},
     "output_type": "execute_result"
    }
   ],
   "source": [
    "# Solução 2\n",
    "\n",
    "from scipy.stats import binom\n",
    "\n",
    "probabilidade = binom.pmf(k,n,p)\n",
    "probabilidade"
   ]
  },
  {
   "attachments": {},
   "cell_type": "markdown",
   "metadata": {},
   "source": [
    "Probabilidade do candidadato passar \n",
    "\n",
    "$ P (acertar >= 5) - P(5) + P(6) + P(7) + P(8) + P(9) + P(10) $"
   ]
  },
  {
   "cell_type": "code",
   "execution_count": 8,
   "metadata": {},
   "outputs": [
    {
     "data": {
      "text/plain": [
       "0.21312808006909492"
      ]
     },
     "execution_count": 8,
     "metadata": {},
     "output_type": "execute_result"
    }
   ],
   "source": [
    "binom.pmf(5,n,p) + binom.pmf(6,n,p) + binom.pmf(7,n,p) + binom.pmf(8,n,p) + binom.pmf(9,n,p) + binom.pmf(10,n,p)"
   ]
  },
  {
   "cell_type": "code",
   "execution_count": 9,
   "metadata": {},
   "outputs": [
    {
     "data": {
      "text/plain": [
       "0.21312808006909492"
      ]
     },
     "execution_count": 9,
     "metadata": {},
     "output_type": "execute_result"
    }
   ],
   "source": [
    "binom.pmf([5,6,7,8,9,10],n,p).sum()\n"
   ]
  },
  {
   "cell_type": "code",
   "execution_count": 10,
   "metadata": {},
   "outputs": [
    {
     "data": {
      "text/plain": [
       "0.21312808006909523"
      ]
     },
     "execution_count": 10,
     "metadata": {},
     "output_type": "execute_result"
    }
   ],
   "source": [
    "1 - binom.cdf(4,n,p)"
   ]
  },
  {
   "cell_type": "code",
   "execution_count": 11,
   "metadata": {},
   "outputs": [
    {
     "data": {
      "text/plain": [
       "0.21312808006909525"
      ]
     },
     "execution_count": 11,
     "metadata": {},
     "output_type": "execute_result"
    }
   ],
   "source": [
    "binom.sf(4,n,p)"
   ]
  },
  {
   "attachments": {},
   "cell_type": "markdown",
   "metadata": {},
   "source": [
    "###  Gincana"
   ]
  },
  {
   "cell_type": "code",
   "execution_count": 12,
   "metadata": {},
   "outputs": [
    {
     "name": "stdout",
     "output_type": "stream",
     "text": [
      "Probabilidade:\t0.21284093952\n",
      "Equipes:\t6.3852281856\n"
     ]
    }
   ],
   "source": [
    "'''\n",
    "Uma gincana no qual a última ocorrência contou com uma participaçãop de 60% de mulheres.\n",
    "\n",
    "* Total de equipe desse ano com 12 integrantes inscrita é 30.\n",
    "\n",
    "Quantas equipes deverão ser formadas por 8 mulheres?\n",
    "'''\n",
    "\n",
    "p = 0.6\n",
    "\n",
    "n = 12 \n",
    "\n",
    "k = 8\n",
    "\n",
    "probabilidade = binom.pmf(k,n,p)\n",
    "\n",
    "equipes = 30 * probabilidade\n",
    "\n",
    "print(f'Probabilidade:\\t{probabilidade}\\nEquipes:\\t{equipes}')\n"
   ]
  },
  {
   "attachments": {},
   "cell_type": "markdown",
   "metadata": {},
   "source": [
    "# 2 - Distribuição de Poisson"
   ]
  },
  {
   "attachments": {},
   "cell_type": "markdown",
   "metadata": {},
   "source": [
    "É empregada para descrever o número de ocorrências em um intervalo de tempo ou espaço específico. Os eventos são caracterizados pela possibilidade de contagem dos sucessos, mas a não possibilidade de contagem dos fracassos.\n",
    "\n",
    "Como exemplos de processos onde podemos aplicar a distribuição de Poisson temos a determinação do número de clientes que entram em uma loja em determinada hora, o número de carros que chegam em um drive-thru de uma lanchonete na hora do almoço, a determinação do número de acidentes registrados em um trecho de estrada etc.\n",
    "\n",
    "# $$P(k) = \\frac{e^{-\\mu}(\\mu)^k}{k!}$$\n",
    "\n",
    "Onde:\n",
    "\n",
    "$e$ = constante cujo valor aproximado é 2,718281828459045\n",
    "\n",
    "$\\mu$ = representa o número médio de ocorrências em um determinado intervalo de tempo ou espaço\n",
    "\n",
    "$k$ = número de sucessos no intervalo desejado"
   ]
  },
  {
   "attachments": {},
   "cell_type": "markdown",
   "metadata": {},
   "source": [
    "## Experimento de Poisson\n",
    "\n",
    "1. A probabilidade de uma ocorrência é a mesma em todo o intervalo observado.\n",
    "\n",
    "2. O número de ocorrências em determinado intervalo é independente do número de ocorrências em outros intervalos.\n",
    "\n",
    "3. A probabilidade de uma ocorrência é a mesma em intervalos de igual comprimento."
   ]
  },
  {
   "attachments": {},
   "cell_type": "markdown",
   "metadata": {},
   "source": [
    "## Problema - Pedidos restaurante"
   ]
  },
  {
   "attachments": {},
   "cell_type": "markdown",
   "metadata": {},
   "source": [
    "Um restaurante recebe em média **20 pedidos por hora**. \n",
    "\n",
    "Qual a chance de que, em determinada hora escolhida ao acaso, o restaurante receba **15 pedidos**?"
   ]
  },
  {
   "cell_type": "code",
   "execution_count": 18,
   "metadata": {},
   "outputs": [
    {
     "data": {
      "text/plain": [
       "0.0516488535317584"
      ]
     },
     "execution_count": 18,
     "metadata": {},
     "output_type": "execute_result"
    }
   ],
   "source": [
    "#SOLUÇÃO 1\n",
    "e = np.e\n",
    "k = 15 #número de sucessos desejados\n",
    "media = 20\n",
    "k_fatorial = np.math.factorial(k)\n",
    "\n",
    "probabilidade = ((e** (-media)) * (media**k)) / (k_fatorial)\n",
    "probabilidade"
   ]
  },
  {
   "cell_type": "code",
   "execution_count": 20,
   "metadata": {},
   "outputs": [
    {
     "data": {
      "text/plain": [
       "0.05164885353175814"
      ]
     },
     "execution_count": 20,
     "metadata": {},
     "output_type": "execute_result"
    }
   ],
   "source": [
    "#SOLUÇÃO 2\n",
    "\n",
    "from scipy.stats import poisson\n",
    "\n",
    "probabilidade = poisson.pmf(k, media)\n",
    "probabilidade"
   ]
  },
  {
   "attachments": {},
   "cell_type": "markdown",
   "metadata": {},
   "source": [
    "## Problema - Call Center\n",
    "\n",
    "Uma empresa de call center recebe em média 120 ligações por hora durante o horário de pico. A gerência da empresa quer saber qual é a probabilidade de receber 150 ligações em uma hora específica durante o horário de pico. "
   ]
  },
  {
   "cell_type": "code",
   "execution_count": 56,
   "metadata": {},
   "outputs": [
    {
     "name": "stdout",
     "output_type": "stream",
     "text": [
      "A probabilidade de receber exatamente 150 ligações em uma hora específica é de 0.0015 ou 0.15 %.\n"
     ]
    }
   ],
   "source": [
    "from scipy.stats import poisson\n",
    "\n",
    "k = 120\n",
    "media = 150\n",
    "\n",
    "probabilidade = poisson.pmf(k, media)\n",
    "probabilidade_percentual = probabilidade * 100\n",
    "\n",
    "print(f\"A probabilidade de receber exatamente {media} ligações em uma hora específica é de {probabilidade:.4f} ou {probabilidade_percentual:.2f} %.\")\n"
   ]
  },
  {
   "attachments": {},
   "cell_type": "markdown",
   "metadata": {},
   "source": [
    "## Problema - Loja online\n",
    "\n",
    "Uma loja online recebe em média 10 reclamações de clientes por dia. \n",
    "\n",
    "Qual é a probabilidade de que, em um dia específico, a loja receba mais de 15 reclamações de clientes?"
   ]
  },
  {
   "cell_type": "code",
   "execution_count": 57,
   "metadata": {},
   "outputs": [
    {
     "name": "stdout",
     "output_type": "stream",
     "text": [
      "A probabilidade é de 0.0347 ou 3.47 %.\n"
     ]
    }
   ],
   "source": [
    "from scipy.stats import poisson\n",
    "\n",
    "k = 15\n",
    "media = 10\n",
    "\n",
    "probabilidade = poisson.pmf(k, media)\n",
    "probabilidade_percentual = probabilidade * 100\n",
    "\n",
    "print(f\"A probabilidade é de {probabilidade:.4f} ou {probabilidade_percentual:.2f} %.\")\n"
   ]
  },
  {
   "attachments": {},
   "cell_type": "markdown",
   "metadata": {},
   "source": [
    "## Problema - Biblioteca\n",
    "\n",
    "Uma biblioteca recebe em média 989 visitas por dia. \n",
    "\n",
    "Qual é a probabilidade de que, em um dia específico, a biblioteca receba 1500 visitas?"
   ]
  },
  {
   "cell_type": "code",
   "execution_count": 68,
   "metadata": {},
   "outputs": [
    {
     "name": "stdout",
     "output_type": "stream",
     "text": [
      "A probabilidade é de 0.0127 ou 1.27 %.\n"
     ]
    }
   ],
   "source": [
    "k = 989\n",
    "media = 989\n",
    "\n",
    "probabilidade = poisson.pmf(k, media)\n",
    "probabilidade_percentual = probabilidade * 100\n",
    "\n",
    "print(f\"A probabilidade é de {probabilidade:.4f} ou {probabilidade_percentual:.2f} %.\")"
   ]
  },
  {
   "attachments": {},
   "cell_type": "markdown",
   "metadata": {},
   "source": [
    "# 3 - Distribuição Normal"
   ]
  },
  {
   "attachments": {},
   "cell_type": "markdown",
   "metadata": {},
   "source": [
    "A distribuição normal é uma das mais utilizadas em estatística. É uma distribuição contínua, onde a distribuição de frequências de uma variável quantitativa apresenta a forma de sino e é simétrica em relação a sua média.\n",
    "\n",
    "![alt text](https://caelum-online-public.s3.amazonaws.com/1178-estatistica-parte2/01/img002.png)\n",
    "\n",
    "\n",
    "#### Características importantes\n",
    "\n",
    "1. É simétrica em torno da média;\n",
    "\n",
    "2. A área sob a curva corresponde à proporção 1 ou 100%;\n",
    "\n",
    "3. As medidas de tendência central (média, mediana e moda) apresentam o mesmo valor;\n",
    "\n",
    "4. Os extremos da curva tendem ao infinito em ambas as direções e, teoricamente, jamais tocam o eixo $x$;\n",
    "\n",
    "5. O desvio padrão define o achatamento e largura da distribuição. Curvas mais largas e mais achatadas apresentam valores maiores de desvio padrão;\n",
    "\n",
    "6. A distribuição é definida por sua média e desvio padrão;\n",
    "\n",
    "7. A probabilidade sempre será igual à área sob a curva, delimitada pelos limites inferior e superior.\n",
    "\n",
    "# $$f(x) = \\frac{1}{\\sqrt{2\\pi\\sigma}}e^{-\\frac{1}{2}\\left(\\frac{x-\\mu}{\\sigma}\\right)^2}$$\n",
    "\n",
    "Onde:\n",
    "\n",
    "$x$ = variável normal\n",
    "\n",
    "$\\sigma$ = desvio padrão\n",
    "\n",
    "$\\mu$ = média\n",
    "\n",
    "A probabilidade é obtida a partir da área sob a curva, delimitada pelos limites inferior e superior especificados. Um exemplo pode ser visto na figura abaixo."
   ]
  },
  {
   "attachments": {},
   "cell_type": "markdown",
   "metadata": {},
   "source": [
    "Para obter a área acima basta calcular a integral da função para os intervalos determinados. Conforme equação abaixo:\n",
    "\n",
    "# $$P(L_i<x<L_s) = \\int_{L_i}^{L_s}\\frac{1}{\\sqrt{2\\pi\\sigma}}e^{-\\frac{1}{2}\\left(\\frac{x-\\mu}{\\sigma}\\right)^2}$$\n",
    "\n",
    "Onde:\n",
    "\n",
    "$x$ = variável normal\n",
    "\n",
    "$\\sigma$ = desvio padrão\n",
    "\n",
    "$\\mu$ = média\n",
    "\n",
    "$L_i$ = limite inferior\n",
    "\n",
    "$L_s$ = limite superior"
   ]
  },
  {
   "attachments": {},
   "cell_type": "markdown",
   "metadata": {},
   "source": [
    "#### Tabelas padronizadas\n",
    "\n",
    "As tabelas padronizadas foram criadas para facilitar a obtenção dos valores das áreas sob a curva normal e eliminar a necessidade de solucionar integrais definidas.\n",
    "\n",
    "Para consultarmos os valores em uma tabela padronizada basta transformarmos nossa variável em uma variável padronizada $Z$.\n",
    "\n",
    "Esta variável $Z$ representa o afastamento em desvios padrões de um valor da variável original em relação à média.\n",
    "\n",
    "### $$Z = \\frac{x-\\mu}{\\sigma}$$\n",
    "\n",
    "Onde:\n",
    "\n",
    "$x$ = variável normal com média $\\mu$ e desvio padrão $\\sigma$\n",
    "\n",
    "$\\sigma$ = desvio padrão\n",
    "\n",
    "$\\mu$ = média"
   ]
  },
  {
   "attachments": {},
   "cell_type": "markdown",
   "metadata": {},
   "source": [
    "## Problema - Qual a sua altura?\n",
    "\n",
    "Em um estudo sobre as alturas dos moradores de uma cidade verificou-se que o conjunto de dados segue uma **distribuição aproximadamente normal**, com **média 1,70** e **desvio padrão de 0,1**. Com estas informações obtenha o seguinte conjunto de probabilidades:\n",
    "\n",
    "> **A.** probabilidade de uma pessoa, selecionada ao acaso, ter menos de 1,80 metros.\n",
    "\n",
    "> **B.** probabilidade de uma pessoa, selecionada ao acaso, ter entre 1,60 metros e 1,80 metros.    \n",
    "\n",
    "> **C.** probabilidade de uma pessoa, selecionada ao acaso, ter mais de 1,90 metros."
   ]
  },
  {
   "attachments": {},
   "cell_type": "markdown",
   "metadata": {},
   "source": [
    "### **A.** probabilidade de uma pessoa, selecionada ao acaso, ter menos de 1,80 metros."
   ]
  },
  {
   "attachments": {},
   "cell_type": "markdown",
   "metadata": {},
   "source": [
    "### Solução 1\n"
   ]
  },
  {
   "cell_type": "code",
   "execution_count": 1,
   "metadata": {},
   "outputs": [
    {
     "data": {
      "text/plain": [
       "1.0000000000000009"
      ]
     },
     "execution_count": 1,
     "metadata": {},
     "output_type": "execute_result"
    }
   ],
   "source": [
    "media = 1.7\n",
    "desvio_padrao = 0.1\n",
    "Z = (1.8 - media) / desvio_padrao\n",
    "Z"
   ]
  },
  {
   "cell_type": "code",
   "execution_count": 5,
   "metadata": {},
   "outputs": [
    {
     "name": "stdout",
     "output_type": "stream",
     "text": [
      "A probabilidade é de 84.13 %\n"
     ]
    }
   ],
   "source": [
    "probabilidade = 0.8413 * 100\n",
    "\n",
    "print(f'A probabilidade é de {probabilidade:.2f} %')"
   ]
  },
  {
   "attachments": {},
   "cell_type": "markdown",
   "metadata": {},
   "source": [
    "### Solução 2\n"
   ]
  },
  {
   "cell_type": "code",
   "execution_count": 8,
   "metadata": {},
   "outputs": [
    {
     "name": "stdout",
     "output_type": "stream",
     "text": [
      "A probabilidade é de 84.13 %\n"
     ]
    }
   ],
   "source": [
    "from scipy.stats import norm\n",
    "probabilidade = norm.cdf(Z) * 100\n",
    "print(f'A probabilidade é de {probabilidade:.2f} %')"
   ]
  },
  {
   "attachments": {},
   "cell_type": "markdown",
   "metadata": {},
   "source": [
    "### **B.** probabilidade de uma pessoa, selecionada ao acaso, ter entre 1,60 metros e 1,80 metros.    \n"
   ]
  },
  {
   "attachments": {},
   "cell_type": "markdown",
   "metadata": {},
   "source": [
    "### Solução 1"
   ]
  },
  {
   "cell_type": "code",
   "execution_count": 12,
   "metadata": {},
   "outputs": [
    {
     "data": {
      "text/plain": [
       "-1"
      ]
     },
     "execution_count": 12,
     "metadata": {},
     "output_type": "execute_result"
    }
   ],
   "source": [
    "media = 1.7\n",
    "desvio_padrao = 0.1\n",
    "z_inferior = round((1.6 - media) / desvio_padrao)\n",
    "z_inferior"
   ]
  },
  {
   "cell_type": "code",
   "execution_count": 14,
   "metadata": {},
   "outputs": [
    {
     "data": {
      "text/plain": [
       "1"
      ]
     },
     "execution_count": 14,
     "metadata": {},
     "output_type": "execute_result"
    }
   ],
   "source": [
    "media = 1.7\n",
    "desvio_padrao = 0.1\n",
    "z_superior = round((1.8 - media) / desvio_padrao)\n",
    "z_superior"
   ]
  },
  {
   "cell_type": "code",
   "execution_count": 10,
   "metadata": {},
   "outputs": [
    {
     "data": {
      "text/plain": [
       "0.6826000000000001"
      ]
     },
     "execution_count": 10,
     "metadata": {},
     "output_type": "execute_result"
    }
   ],
   "source": [
    "probabilidade = (0.8413 - 0.5) * 2\n",
    "probabilidade"
   ]
  },
  {
   "attachments": {},
   "cell_type": "markdown",
   "metadata": {},
   "source": [
    "### Solução 2\n"
   ]
  },
  {
   "cell_type": "code",
   "execution_count": 20,
   "metadata": {},
   "outputs": [
    {
     "name": "stdout",
     "output_type": "stream",
     "text": [
      "A probabilidade é de 68.27 %\n"
     ]
    }
   ],
   "source": [
    "from scipy.stats import norm\n",
    "\n",
    "probabilidade = (norm.cdf(z_superior) - norm.cdf(z_inferior)) * 100\n",
    "\n",
    "print(f'A probabilidade é de {probabilidade:.2f} %')"
   ]
  },
  {
   "attachments": {},
   "cell_type": "markdown",
   "metadata": {},
   "source": [
    "### **C.** probabilidade de uma pessoa, selecionada ao acaso, ter mais de 1,90 metros."
   ]
  },
  {
   "attachments": {},
   "cell_type": "markdown",
   "metadata": {},
   "source": [
    "### Solução 1"
   ]
  },
  {
   "cell_type": "code",
   "execution_count": 22,
   "metadata": {},
   "outputs": [
    {
     "data": {
      "text/plain": [
       "1.9999999999999996"
      ]
     },
     "execution_count": 22,
     "metadata": {},
     "output_type": "execute_result"
    }
   ],
   "source": [
    "media = 1.7\n",
    "desvio_padrao = 0.1\n",
    "z = (1.9 - media) / desvio_padrao\n",
    "z"
   ]
  },
  {
   "cell_type": "code",
   "execution_count": 26,
   "metadata": {},
   "outputs": [
    {
     "name": "stdout",
     "output_type": "stream",
     "text": [
      "A probabilidade é de 2.33 %\n"
     ]
    }
   ],
   "source": [
    "probabilidade = 0.9767\n",
    "maior_que_1_e_90 = (1 - probabilidade) * 100\n",
    "print(f'A probabilidade é de {maior_que_1_e_90:.2f} %')"
   ]
  },
  {
   "attachments": {},
   "cell_type": "markdown",
   "metadata": {},
   "source": [
    "### Solução 2"
   ]
  },
  {
   "cell_type": "code",
   "execution_count": 30,
   "metadata": {},
   "outputs": [
    {
     "name": "stdout",
     "output_type": "stream",
     "text": [
      "A probabilidade é de 2.28 %\n"
     ]
    }
   ],
   "source": [
    "from scipy.stats import norm\n",
    "\n",
    "probabilidade = (1 - norm.cdf(z)) * 100\n",
    "\n",
    "print(f'A probabilidade é de {probabilidade:.2f} %')"
   ]
  },
  {
   "cell_type": "code",
   "execution_count": 37,
   "metadata": {},
   "outputs": [
    {
     "name": "stdout",
     "output_type": "stream",
     "text": [
      "A probabilidade é de 84.13 %\n"
     ]
    }
   ],
   "source": [
    "from scipy.stats import norm\n",
    "\n",
    "probabilidade = norm.cdf(-z) * 100\n",
    "\n",
    "print(f'A probabilidade é de {probabilidade:.2f} %')"
   ]
  },
  {
   "attachments": {},
   "cell_type": "markdown",
   "metadata": {},
   "source": [
    "# Problema - Tempo de espera em biblioteca\n",
    "\n",
    "Suponha que o tempo de espera dos usuários em uma biblioteca siga uma distribuição normal, com média μ = 5 minutos e desvio padrão σ = 2 minutos.\n",
    "\n",
    "Desafio:\n",
    "\n",
    "-> Qual é a probabilidade de um usuário esperar menos de 3 minutos?\n",
    "\n",
    "-> Qual é a probabilidade de um usuário esperar entre 4 e 6 minutos?\n",
    "\n",
    "-> Qual é a probabilidade de um usuário esperar mais de 8 minutos?"
   ]
  },
  {
   "cell_type": "code",
   "execution_count": 69,
   "metadata": {},
   "outputs": [
    {
     "name": "stdout",
     "output_type": "stream",
     "text": [
      "Probabilidade de um usuário esperar menos de 3 minutos: 15.87%\n",
      "Probabilidade de um usuário esperar entre 4 e 6 minutos: 38.29%\n",
      "Probabilidade de um usuário esperar mais de 8 minutos: 6.68 %\n"
     ]
    }
   ],
   "source": [
    "import scipy.stats as stats\n",
    "\n",
    "media = 5\n",
    "desvio_padrao = 2\n",
    "\n",
    "# Qual é a probabilidade de um usuário esperar menos de 3 minutos?\n",
    "probabilidade_menor_3 = (stats.norm.cdf(3, loc=media, scale=desvio_padrao) * 100).round(2)\n",
    "print(f\"Probabilidade de um usuário esperar menos de 3 minutos: {probabilidade_menor_3}%\")\n",
    "\n",
    "\n",
    "# Qual é a probabilidade de um usuário esperar entre 4 e 6 minutos?\n",
    "probabilidade_intervalo_4_6 = ((stats.norm.cdf(6, loc=media, scale=desvio_padrao) - stats.norm.cdf(4, loc=media, scale=desvio_padrao)) * 100).round(2)\n",
    "print(f\"Probabilidade de um usuário esperar entre 4 e 6 minutos: {probabilidade_intervalo_4_6}%\")\n",
    "\n",
    "# Qual é a probabilidade de um usuário esperar mais de 8 minutos?\n",
    "probabilidade_maior_8 = ((1 - stats.norm.cdf(8, loc=media, scale=desvio_padrao)) * 100).round(2)\n",
    "print(f\"Probabilidade de um usuário esperar mais de 8 minutos: {probabilidade_maior_8} %\")\n",
    "\n",
    "\n"
   ]
  },
  {
   "attachments": {},
   "cell_type": "markdown",
   "metadata": {},
   "source": [
    "# Problema - Tempo de permanência em biblioteca\n",
    "\n",
    "Suponha que o tempo de permanência dos usuários em uma biblioteca siga uma distribuição normal, com média μ = 120 minutos e desvio padrão σ = 30 minutos.\n",
    "\n",
    "-> Qual é a probabilidade de um usuário ficar na biblioteca por menos de 90 minutos?\n",
    "-> Qual é a probabilidade de um usuário ficar na biblioteca por mais de 180 minutos?\n",
    "-> Qual é o tempo mínimo que um usuário deve esperar para estar entre os 10% mais rápidos em termos de tempo de permanência?"
   ]
  },
  {
   "cell_type": "code",
   "execution_count": null,
   "metadata": {},
   "outputs": [],
   "source": []
  }
 ],
 "metadata": {
  "kernelspec": {
   "display_name": "Python 3",
   "language": "python",
   "name": "python3"
  },
  "language_info": {
   "codemirror_mode": {
    "name": "ipython",
    "version": 3
   },
   "file_extension": ".py",
   "mimetype": "text/x-python",
   "name": "python",
   "nbconvert_exporter": "python",
   "pygments_lexer": "ipython3",
   "version": "3.10.6"
  },
  "orig_nbformat": 4
 },
 "nbformat": 4,
 "nbformat_minor": 2
}
