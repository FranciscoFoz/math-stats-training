{
 "cells": [
  {
   "attachments": {},
   "cell_type": "markdown",
   "metadata": {},
   "source": [
    "# Probabilidade e amostragem"
   ]
  },
  {
   "attachments": {},
   "cell_type": "markdown",
   "metadata": {},
   "source": [
    "## Importando bibliotecas"
   ]
  },
  {
   "cell_type": "code",
   "execution_count": 1,
   "metadata": {},
   "outputs": [],
   "source": [
    "import pandas as pd\n",
    "import numpy as np\n",
    "import scipy \n",
    "import matplotlib.pyplot as plt\n"
   ]
  },
  {
   "attachments": {},
   "cell_type": "markdown",
   "metadata": {},
   "source": [
    "## Importando dados"
   ]
  },
  {
   "cell_type": "code",
   "execution_count": 2,
   "metadata": {},
   "outputs": [],
   "source": [
    "df_pnad = pd.read_csv('/home/franciscofoz/Documents/GitHub/math-stats-training/Estatística/Datasets/dados_curso_estatistica_2.csv')\n",
    "df_spaceship = pd.read_csv('/home/franciscofoz/Documents/GitHub/math-stats-training/Estatística/Datasets/spaceship_titanic_train.csv')\n",
    "\n"
   ]
  },
  {
   "attachments": {},
   "cell_type": "markdown",
   "metadata": {},
   "source": [
    "# 1 - Distribuição binomial"
   ]
  },
  {
   "attachments": {},
   "cell_type": "markdown",
   "metadata": {},
   "source": [
    "    Um evento binomial é caracterizado pela possibilidade de ocorrência de apenas duas categorias.\n",
    "\n",
    "* Probabilidade é um número que vai de 0 a 1.\n",
    "* Problemas de \"sucesso ou fracasso\"\n",
    "\n",
    "1. Realização de n ensaios idênticos\n",
    "2. Ensaios independentes\n",
    "3. Apenas dois resultados possíveis\n",
    "4. Probabilidade é representada por p e a de fracasso é 1 - p = q.\n"
   ]
  },
  {
   "attachments": {},
   "cell_type": "markdown",
   "metadata": {},
   "source": [
    "### Média da distribuição binomial\n",
    "\n",
    "$$ \\mu = n * p $$\n",
    "\n",
    "n = número de experimentos realizados\n",
    "\n",
    "p = probabilidade de chance de ocorrência"
   ]
  },
  {
   "attachments": {},
   "cell_type": "markdown",
   "metadata": {},
   "source": [
    "### Desvio padrão da distribuição binomial\n",
    "\n",
    "$$ \\sigma = \\sqrt{n * p * q} $$\n",
    "\n",
    "n = número de experimentos realizados\n",
    "\n",
    "p = probabilidade de chance de ocorrência\n",
    "\n",
    "q = probabilidade de fracasso"
   ]
  },
  {
   "attachments": {},
   "cell_type": "markdown",
   "metadata": {},
   "source": [
    "### Combinações"
   ]
  },
  {
   "attachments": {},
   "cell_type": "markdown",
   "metadata": {},
   "source": [
    "Número de combinações de N objetos, tomados K cada vez"
   ]
  },
  {
   "cell_type": "code",
   "execution_count": 3,
   "metadata": {},
   "outputs": [],
   "source": [
    "from scipy.special import comb"
   ]
  },
  {
   "cell_type": "code",
   "execution_count": 4,
   "metadata": {},
   "outputs": [
    {
     "name": "stdout",
     "output_type": "stream",
     "text": [
      "Combinações 50063860.0\n",
      "Probabilidade de acerto: 0.000000019974489\n"
     ]
    }
   ],
   "source": [
    "# Espaço amostral da mega-sena\n",
    "\n",
    "combinacoes = comb(60,6)\n",
    "print('Combinações',combinacoes)\n",
    "probabilidade_acerto = 1/combinacoes\n",
    "print('Probabilidade de acerto:','%0.15f' % probabilidade_acerto)"
   ]
  },
  {
   "attachments": {},
   "cell_type": "markdown",
   "metadata": {},
   "source": [
    "### $$P(k)=\\binom{n}{k} p^k q^{n-k}$$\n",
    "\n",
    "$p$ = probabilidade de sucesso\n",
    "\n",
    "$q = (1 - p)$ = probabilidade de fracasso\n",
    "\n",
    "$n$ = número de eventos estudados\n",
    "\n",
    "$k$ = número de eventos desejados que tenham sucesso"
   ]
  },
  {
   "attachments": {},
   "cell_type": "markdown",
   "metadata": {},
   "source": [
    "###  Concurso para cientista de dados"
   ]
  },
  {
   "cell_type": "code",
   "execution_count": 5,
   "metadata": {},
   "outputs": [
    {
     "name": "stdout",
     "output_type": "stream",
     "text": [
      "\n",
      " 10 \n",
      " 0.3333333333333333 \n",
      " 0.6666666666666667 \n",
      " 5\n"
     ]
    }
   ],
   "source": [
    "'''\n",
    "* 10 questões de múltipla escolha, com 3 alternativas.\n",
    "* Chutar todas as questões\n",
    "\n",
    "* Assumindo que a prova valha 10 e a nota de corte seja 5, qual a probabilidade do candidato passar?\n",
    "'''\n",
    "# Ensaios\n",
    "n = 10\n",
    "\n",
    "numero_alternativas_por_questao = 3\n",
    "p = 1/3\n",
    "\n",
    "q = 1 - p\n",
    "\n",
    "k = 5\n",
    "\n",
    "print('\\n',n,'\\n',p,'\\n',q,'\\n',k)"
   ]
  },
  {
   "cell_type": "code",
   "execution_count": 6,
   "metadata": {},
   "outputs": [
    {
     "data": {
      "text/plain": [
       "0.13656454808718185"
      ]
     },
     "execution_count": 6,
     "metadata": {},
     "output_type": "execute_result"
    }
   ],
   "source": [
    "# Solução 1\n",
    "\n",
    "probabilidade = (comb(n,k)) * (p ** k) * (q ** (n - k))\n",
    "probabilidade\n"
   ]
  },
  {
   "cell_type": "code",
   "execution_count": 7,
   "metadata": {},
   "outputs": [
    {
     "data": {
      "text/plain": [
       "0.1365645480871816"
      ]
     },
     "execution_count": 7,
     "metadata": {},
     "output_type": "execute_result"
    }
   ],
   "source": [
    "# Solução 2\n",
    "\n",
    "from scipy.stats import binom\n",
    "\n",
    "probabilidade = binom.pmf(k,n,p)\n",
    "probabilidade"
   ]
  },
  {
   "attachments": {},
   "cell_type": "markdown",
   "metadata": {},
   "source": [
    "Probabilidade do candidadato passar \n",
    "\n",
    "$ P (acertar >= 5) - P(5) + P(6) + P(7) + P(8) + P(9) + P(10) $"
   ]
  },
  {
   "cell_type": "code",
   "execution_count": 8,
   "metadata": {},
   "outputs": [
    {
     "data": {
      "text/plain": [
       "0.21312808006909492"
      ]
     },
     "execution_count": 8,
     "metadata": {},
     "output_type": "execute_result"
    }
   ],
   "source": [
    "binom.pmf(5,n,p) + binom.pmf(6,n,p) + binom.pmf(7,n,p) + binom.pmf(8,n,p) + binom.pmf(9,n,p) + binom.pmf(10,n,p)"
   ]
  },
  {
   "cell_type": "code",
   "execution_count": 9,
   "metadata": {},
   "outputs": [
    {
     "data": {
      "text/plain": [
       "0.21312808006909492"
      ]
     },
     "execution_count": 9,
     "metadata": {},
     "output_type": "execute_result"
    }
   ],
   "source": [
    "binom.pmf([5,6,7,8,9,10],n,p).sum()\n"
   ]
  },
  {
   "cell_type": "code",
   "execution_count": 10,
   "metadata": {},
   "outputs": [
    {
     "data": {
      "text/plain": [
       "0.21312808006909523"
      ]
     },
     "execution_count": 10,
     "metadata": {},
     "output_type": "execute_result"
    }
   ],
   "source": [
    "1 - binom.cdf(4,n,p)"
   ]
  },
  {
   "cell_type": "code",
   "execution_count": 11,
   "metadata": {},
   "outputs": [
    {
     "data": {
      "text/plain": [
       "0.21312808006909525"
      ]
     },
     "execution_count": 11,
     "metadata": {},
     "output_type": "execute_result"
    }
   ],
   "source": [
    "binom.sf(4,n,p)"
   ]
  },
  {
   "attachments": {},
   "cell_type": "markdown",
   "metadata": {},
   "source": [
    "###  Gincana"
   ]
  },
  {
   "cell_type": "code",
   "execution_count": 12,
   "metadata": {},
   "outputs": [
    {
     "name": "stdout",
     "output_type": "stream",
     "text": [
      "Probabilidade:\t0.21284093952\n",
      "Equipes:\t6.3852281856\n"
     ]
    }
   ],
   "source": [
    "'''\n",
    "Uma gincana no qual a última ocorrência contou com uma participaçãop de 60% de mulheres.\n",
    "\n",
    "* Total de equipe desse ano com 12 integrantes inscrita é 30.\n",
    "\n",
    "Quantas equipes deverão ser formadas por 8 mulheres?\n",
    "'''\n",
    "\n",
    "p = 0.6\n",
    "\n",
    "n = 12 \n",
    "\n",
    "k = 8\n",
    "\n",
    "probabilidade = binom.pmf(k,n,p)\n",
    "\n",
    "equipes = 30 * probabilidade\n",
    "\n",
    "print(f'Probabilidade:\\t{probabilidade}\\nEquipes:\\t{equipes}')\n"
   ]
  },
  {
   "cell_type": "markdown",
   "metadata": {},
   "source": []
  },
  {
   "cell_type": "code",
   "execution_count": null,
   "metadata": {},
   "outputs": [],
   "source": []
  },
  {
   "attachments": {},
   "cell_type": "markdown",
   "metadata": {},
   "source": [
    "# 2 - Distribuição de Poisson"
   ]
  },
  {
   "attachments": {},
   "cell_type": "markdown",
   "metadata": {},
   "source": [
    "É empregada para descrever o número de ocorrências em um intervalo de tempo ou espaço específico. Os eventos são caracterizados pela possibilidade de contagem dos sucessos, mas a não possibilidade de contagem dos fracassos.\n",
    "\n",
    "Como exemplos de processos onde podemos aplicar a distribuição de Poisson temos a determinação do número de clientes que entram em uma loja em determinada hora, o número de carros que chegam em um drive-thru de uma lanchonete na hora do almoço, a determinação do número de acidentes registrados em um trecho de estrada etc.\n",
    "\n",
    "# $$P(k) = \\frac{e^{-\\mu}(\\mu)^k}{k!}$$\n",
    "\n",
    "Onde:\n",
    "\n",
    "$e$ = constante cujo valor aproximado é 2,718281828459045\n",
    "\n",
    "$\\mu$ = representa o número médio de ocorrências em um determinado intervalo de tempo ou espaço\n",
    "\n",
    "$k$ = número de sucessos no intervalo desejado"
   ]
  },
  {
   "attachments": {},
   "cell_type": "markdown",
   "metadata": {},
   "source": [
    "## Experimento de Poisson\n",
    "\n",
    "1. A probabilidade de uma ocorrência é a mesma em todo o intervalo observado.\n",
    "\n",
    "2. O número de ocorrências em determinado intervalo é independente do número de ocorrências em outros intervalos.\n",
    "\n",
    "3. A probabilidade de uma ocorrência é a mesma em intervalos de igual comprimento."
   ]
  },
  {
   "attachments": {},
   "cell_type": "markdown",
   "metadata": {},
   "source": [
    "## Problema - Pedidos restaurante"
   ]
  },
  {
   "attachments": {},
   "cell_type": "markdown",
   "metadata": {},
   "source": [
    "Um restaurante recebe em média **20 pedidos por hora**. \n",
    "\n",
    "Qual a chance de que, em determinada hora escolhida ao acaso, o restaurante receba **15 pedidos**?"
   ]
  },
  {
   "cell_type": "code",
   "execution_count": 96,
   "metadata": {},
   "outputs": [
    {
     "data": {
      "text/plain": [
       "0.0516488535317584"
      ]
     },
     "execution_count": 96,
     "metadata": {},
     "output_type": "execute_result"
    }
   ],
   "source": [
    "#SOLUÇÃO 1\n",
    "e = np.e\n",
    "k = 15 #número de sucessos desejados\n",
    "media = 20\n",
    "k_fatorial = np.math.factorial(k)\n",
    "\n",
    "probabilidade = ((e** (-media)) * (media**k)) / (k_fatorial)\n",
    "probabilidade"
   ]
  },
  {
   "cell_type": "code",
   "execution_count": 97,
   "metadata": {},
   "outputs": [
    {
     "data": {
      "text/plain": [
       "0.05164885353175814"
      ]
     },
     "execution_count": 97,
     "metadata": {},
     "output_type": "execute_result"
    }
   ],
   "source": [
    "#SOLUÇÃO 2\n",
    "\n",
    "from scipy.stats import poisson\n",
    "\n",
    "probabilidade = poisson.pmf(k, media)\n",
    "probabilidade"
   ]
  },
  {
   "attachments": {},
   "cell_type": "markdown",
   "metadata": {},
   "source": [
    "## Problema - Call Center\n",
    "\n",
    "Uma empresa de call center recebe em média 120 ligações por hora durante o horário de pico. A gerência da empresa quer saber qual é a probabilidade de receber 150 ligações em uma hora específica durante o horário de pico. "
   ]
  },
  {
   "cell_type": "code",
   "execution_count": 98,
   "metadata": {},
   "outputs": [
    {
     "name": "stdout",
     "output_type": "stream",
     "text": [
      "A probabilidade de receber exatamente 150 ligações em uma hora específica é de 0.0015 ou 0.15 %.\n"
     ]
    }
   ],
   "source": [
    "from scipy.stats import poisson\n",
    "\n",
    "k = 120\n",
    "media = 150\n",
    "\n",
    "probabilidade = poisson.pmf(k, media)\n",
    "probabilidade_percentual = probabilidade * 100\n",
    "\n",
    "print(f\"A probabilidade de receber exatamente {media} ligações em uma hora específica é de {probabilidade:.4f} ou {probabilidade_percentual:.2f} %.\")\n"
   ]
  },
  {
   "attachments": {},
   "cell_type": "markdown",
   "metadata": {},
   "source": [
    "## Problema - Loja online\n",
    "\n",
    "Uma loja online recebe em média 10 reclamações de clientes por dia. \n",
    "\n",
    "Qual é a probabilidade de que, em um dia específico, a loja receba mais de 15 reclamações de clientes?"
   ]
  },
  {
   "cell_type": "code",
   "execution_count": 99,
   "metadata": {},
   "outputs": [
    {
     "name": "stdout",
     "output_type": "stream",
     "text": [
      "A probabilidade é de 0.0347 ou 3.47 %.\n"
     ]
    }
   ],
   "source": [
    "from scipy.stats import poisson\n",
    "\n",
    "k = 15\n",
    "media = 10\n",
    "\n",
    "probabilidade = poisson.pmf(k, media)\n",
    "probabilidade_percentual = probabilidade * 100\n",
    "\n",
    "print(f\"A probabilidade é de {probabilidade:.4f} ou {probabilidade_percentual:.2f} %.\")\n"
   ]
  },
  {
   "attachments": {},
   "cell_type": "markdown",
   "metadata": {},
   "source": [
    "## Problema - Biblioteca\n",
    "\n",
    "Uma biblioteca recebe em média 989 visitas por dia. \n",
    "\n",
    "Qual é a probabilidade de que, em um dia específico, a biblioteca receba 1500 visitas?"
   ]
  },
  {
   "cell_type": "code",
   "execution_count": 100,
   "metadata": {},
   "outputs": [
    {
     "name": "stdout",
     "output_type": "stream",
     "text": [
      "A probabilidade é de 0.0127 ou 1.27 %.\n"
     ]
    }
   ],
   "source": [
    "k = 989\n",
    "media = 989\n",
    "\n",
    "probabilidade = poisson.pmf(k, media)\n",
    "probabilidade_percentual = probabilidade * 100\n",
    "\n",
    "print(f\"A probabilidade é de {probabilidade:.4f} ou {probabilidade_percentual:.2f} %.\")"
   ]
  },
  {
   "attachments": {},
   "cell_type": "markdown",
   "metadata": {},
   "source": [
    "# 3 - Distribuição Normal"
   ]
  },
  {
   "attachments": {},
   "cell_type": "markdown",
   "metadata": {},
   "source": [
    "A distribuição normal é uma das mais utilizadas em estatística. É uma distribuição contínua, onde a distribuição de frequências de uma variável quantitativa apresenta a forma de sino e é simétrica em relação a sua média.\n",
    "\n",
    "![alt text](https://caelum-online-public.s3.amazonaws.com/1178-estatistica-parte2/01/img002.png)\n",
    "\n",
    "\n",
    "#### Características importantes\n",
    "\n",
    "1. É simétrica em torno da média;\n",
    "\n",
    "2. A área sob a curva corresponde à proporção 1 ou 100%;\n",
    "\n",
    "3. As medidas de tendência central (média, mediana e moda) apresentam o mesmo valor;\n",
    "\n",
    "4. Os extremos da curva tendem ao infinito em ambas as direções e, teoricamente, jamais tocam o eixo $x$;\n",
    "\n",
    "5. O desvio padrão define o achatamento e largura da distribuição. Curvas mais largas e mais achatadas apresentam valores maiores de desvio padrão;\n",
    "\n",
    "6. A distribuição é definida por sua média e desvio padrão;\n",
    "\n",
    "7. A probabilidade sempre será igual à área sob a curva, delimitada pelos limites inferior e superior.\n",
    "\n",
    "# $$f(x) = \\frac{1}{\\sqrt{2\\pi\\sigma}}e^{-\\frac{1}{2}\\left(\\frac{x-\\mu}{\\sigma}\\right)^2}$$\n",
    "\n",
    "Onde:\n",
    "\n",
    "$x$ = variável normal\n",
    "\n",
    "$\\sigma$ = desvio padrão\n",
    "\n",
    "$\\mu$ = média\n",
    "\n",
    "A probabilidade é obtida a partir da área sob a curva, delimitada pelos limites inferior e superior especificados. Um exemplo pode ser visto na figura abaixo."
   ]
  },
  {
   "attachments": {},
   "cell_type": "markdown",
   "metadata": {},
   "source": [
    "Para obter a área acima basta calcular a integral da função para os intervalos determinados. Conforme equação abaixo:\n",
    "\n",
    "# $$P(L_i<x<L_s) = \\int_{L_i}^{L_s}\\frac{1}{\\sqrt{2\\pi\\sigma}}e^{-\\frac{1}{2}\\left(\\frac{x-\\mu}{\\sigma}\\right)^2}$$\n",
    "\n",
    "Onde:\n",
    "\n",
    "$x$ = variável normal\n",
    "\n",
    "$\\sigma$ = desvio padrão\n",
    "\n",
    "$\\mu$ = média\n",
    "\n",
    "$L_i$ = limite inferior\n",
    "\n",
    "$L_s$ = limite superior"
   ]
  },
  {
   "attachments": {},
   "cell_type": "markdown",
   "metadata": {},
   "source": [
    "#### Tabelas padronizadas\n",
    "\n",
    "As tabelas padronizadas foram criadas para facilitar a obtenção dos valores das áreas sob a curva normal e eliminar a necessidade de solucionar integrais definidas.\n",
    "\n",
    "Para consultarmos os valores em uma tabela padronizada basta transformarmos nossa variável em uma variável padronizada $Z$.\n",
    "\n",
    "Esta variável $Z$ representa o afastamento em desvios padrões de um valor da variável original em relação à média.\n",
    "\n",
    "### $$Z = \\frac{x-\\mu}{\\sigma}$$\n",
    "\n",
    "Onde:\n",
    "\n",
    "$x$ = variável normal com média $\\mu$ e desvio padrão $\\sigma$\n",
    "\n",
    "$\\sigma$ = desvio padrão\n",
    "\n",
    "$\\mu$ = média"
   ]
  },
  {
   "attachments": {},
   "cell_type": "markdown",
   "metadata": {},
   "source": [
    "## Problema - Qual a sua altura?\n",
    "\n",
    "Em um estudo sobre as alturas dos moradores de uma cidade verificou-se que o conjunto de dados segue uma **distribuição aproximadamente normal**, com **média 1,70** e **desvio padrão de 0,1**. Com estas informações obtenha o seguinte conjunto de probabilidades:\n",
    "\n",
    "> **A.** probabilidade de uma pessoa, selecionada ao acaso, ter menos de 1,80 metros.\n",
    "\n",
    "> **B.** probabilidade de uma pessoa, selecionada ao acaso, ter entre 1,60 metros e 1,80 metros.    \n",
    "\n",
    "> **C.** probabilidade de uma pessoa, selecionada ao acaso, ter mais de 1,90 metros."
   ]
  },
  {
   "attachments": {},
   "cell_type": "markdown",
   "metadata": {},
   "source": [
    "### **A.** probabilidade de uma pessoa, selecionada ao acaso, ter menos de 1,80 metros."
   ]
  },
  {
   "attachments": {},
   "cell_type": "markdown",
   "metadata": {},
   "source": [
    "### Solução 1\n"
   ]
  },
  {
   "cell_type": "code",
   "execution_count": 101,
   "metadata": {},
   "outputs": [
    {
     "data": {
      "text/plain": [
       "1.0000000000000009"
      ]
     },
     "execution_count": 101,
     "metadata": {},
     "output_type": "execute_result"
    }
   ],
   "source": [
    "media = 1.7\n",
    "desvio_padrao = 0.1\n",
    "Z = (1.8 - media) / desvio_padrao\n",
    "Z"
   ]
  },
  {
   "cell_type": "code",
   "execution_count": 102,
   "metadata": {},
   "outputs": [
    {
     "name": "stdout",
     "output_type": "stream",
     "text": [
      "A probabilidade é de 84.13 %\n"
     ]
    }
   ],
   "source": [
    "probabilidade = 0.8413 * 100\n",
    "\n",
    "print(f'A probabilidade é de {probabilidade:.2f} %')"
   ]
  },
  {
   "attachments": {},
   "cell_type": "markdown",
   "metadata": {},
   "source": [
    "### Solução 2\n"
   ]
  },
  {
   "cell_type": "code",
   "execution_count": 103,
   "metadata": {},
   "outputs": [
    {
     "name": "stdout",
     "output_type": "stream",
     "text": [
      "A probabilidade é de 84.13 %\n"
     ]
    }
   ],
   "source": [
    "from scipy.stats import norm\n",
    "probabilidade = norm.cdf(Z) * 100\n",
    "print(f'A probabilidade é de {probabilidade:.2f} %')"
   ]
  },
  {
   "attachments": {},
   "cell_type": "markdown",
   "metadata": {},
   "source": [
    "### **B.** probabilidade de uma pessoa, selecionada ao acaso, ter entre 1,60 metros e 1,80 metros.    \n"
   ]
  },
  {
   "attachments": {},
   "cell_type": "markdown",
   "metadata": {},
   "source": [
    "### Solução 1"
   ]
  },
  {
   "cell_type": "code",
   "execution_count": 104,
   "metadata": {},
   "outputs": [
    {
     "data": {
      "text/plain": [
       "-1"
      ]
     },
     "execution_count": 104,
     "metadata": {},
     "output_type": "execute_result"
    }
   ],
   "source": [
    "media = 1.7\n",
    "desvio_padrao = 0.1\n",
    "z_inferior = round((1.6 - media) / desvio_padrao)\n",
    "z_inferior"
   ]
  },
  {
   "cell_type": "code",
   "execution_count": 105,
   "metadata": {},
   "outputs": [
    {
     "data": {
      "text/plain": [
       "1"
      ]
     },
     "execution_count": 105,
     "metadata": {},
     "output_type": "execute_result"
    }
   ],
   "source": [
    "media = 1.7\n",
    "desvio_padrao = 0.1\n",
    "z_superior = round((1.8 - media) / desvio_padrao)\n",
    "z_superior"
   ]
  },
  {
   "cell_type": "code",
   "execution_count": 106,
   "metadata": {},
   "outputs": [
    {
     "data": {
      "text/plain": [
       "0.6826000000000001"
      ]
     },
     "execution_count": 106,
     "metadata": {},
     "output_type": "execute_result"
    }
   ],
   "source": [
    "probabilidade = (0.8413 - 0.5) * 2\n",
    "probabilidade"
   ]
  },
  {
   "attachments": {},
   "cell_type": "markdown",
   "metadata": {},
   "source": [
    "### Solução 2\n"
   ]
  },
  {
   "cell_type": "code",
   "execution_count": 107,
   "metadata": {},
   "outputs": [
    {
     "name": "stdout",
     "output_type": "stream",
     "text": [
      "A probabilidade é de 68.27 %\n"
     ]
    }
   ],
   "source": [
    "from scipy.stats import norm\n",
    "\n",
    "probabilidade = (norm.cdf(z_superior) - norm.cdf(z_inferior)) * 100\n",
    "\n",
    "print(f'A probabilidade é de {probabilidade:.2f} %')"
   ]
  },
  {
   "attachments": {},
   "cell_type": "markdown",
   "metadata": {},
   "source": [
    "### **C.** probabilidade de uma pessoa, selecionada ao acaso, ter mais de 1,90 metros."
   ]
  },
  {
   "attachments": {},
   "cell_type": "markdown",
   "metadata": {},
   "source": [
    "### Solução 1"
   ]
  },
  {
   "cell_type": "code",
   "execution_count": 108,
   "metadata": {},
   "outputs": [
    {
     "data": {
      "text/plain": [
       "1.9999999999999996"
      ]
     },
     "execution_count": 108,
     "metadata": {},
     "output_type": "execute_result"
    }
   ],
   "source": [
    "media = 1.7\n",
    "desvio_padrao = 0.1\n",
    "z = (1.9 - media) / desvio_padrao\n",
    "z"
   ]
  },
  {
   "cell_type": "code",
   "execution_count": 109,
   "metadata": {},
   "outputs": [
    {
     "name": "stdout",
     "output_type": "stream",
     "text": [
      "A probabilidade é de 2.33 %\n"
     ]
    }
   ],
   "source": [
    "probabilidade = 0.9767\n",
    "maior_que_1_e_90 = (1 - probabilidade) * 100\n",
    "print(f'A probabilidade é de {maior_que_1_e_90:.2f} %')"
   ]
  },
  {
   "attachments": {},
   "cell_type": "markdown",
   "metadata": {},
   "source": [
    "### Solução 2"
   ]
  },
  {
   "cell_type": "code",
   "execution_count": 110,
   "metadata": {},
   "outputs": [
    {
     "name": "stdout",
     "output_type": "stream",
     "text": [
      "A probabilidade é de 2.28 %\n"
     ]
    }
   ],
   "source": [
    "from scipy.stats import norm\n",
    "\n",
    "probabilidade = (1 - norm.cdf(z)) * 100\n",
    "\n",
    "print(f'A probabilidade é de {probabilidade:.2f} %')"
   ]
  },
  {
   "cell_type": "code",
   "execution_count": 111,
   "metadata": {},
   "outputs": [
    {
     "name": "stdout",
     "output_type": "stream",
     "text": [
      "A probabilidade é de 2.28 %\n"
     ]
    }
   ],
   "source": [
    "from scipy.stats import norm\n",
    "\n",
    "probabilidade = norm.cdf(-z) * 100\n",
    "\n",
    "print(f'A probabilidade é de {probabilidade:.2f} %')"
   ]
  },
  {
   "attachments": {},
   "cell_type": "markdown",
   "metadata": {},
   "source": [
    "# Problema - Tempo de espera em biblioteca\n",
    "\n",
    "Suponha que o tempo de espera dos usuários em uma biblioteca siga uma distribuição normal, com média μ = 5 minutos e desvio padrão σ = 2 minutos.\n",
    "\n",
    "Desafio:\n",
    "\n",
    "-> Qual é a probabilidade de um usuário esperar menos de 3 minutos?\n",
    "\n",
    "-> Qual é a probabilidade de um usuário esperar entre 4 e 6 minutos?\n",
    "\n",
    "-> Qual é a probabilidade de um usuário esperar mais de 8 minutos?"
   ]
  },
  {
   "cell_type": "code",
   "execution_count": 112,
   "metadata": {},
   "outputs": [
    {
     "name": "stdout",
     "output_type": "stream",
     "text": [
      "Probabilidade de um usuário esperar menos de 3 minutos: 15.87%\n",
      "Probabilidade de um usuário esperar entre 4 e 6 minutos: 38.29%\n",
      "Probabilidade de um usuário esperar mais de 8 minutos: 6.68 %\n"
     ]
    }
   ],
   "source": [
    "import scipy.stats as stats\n",
    "\n",
    "media = 5\n",
    "desvio_padrao = 2\n",
    "\n",
    "# Qual é a probabilidade de um usuário esperar menos de 3 minutos?\n",
    "probabilidade_menor_3 = (stats.norm.cdf(3, loc=media, scale=desvio_padrao) * 100).round(2)\n",
    "print(f\"Probabilidade de um usuário esperar menos de 3 minutos: {probabilidade_menor_3}%\")\n",
    "\n",
    "\n",
    "# Qual é a probabilidade de um usuário esperar entre 4 e 6 minutos?\n",
    "probabilidade_intervalo_4_6 = ((stats.norm.cdf(6, loc=media, scale=desvio_padrao) - stats.norm.cdf(4, loc=media, scale=desvio_padrao)) * 100).round(2)\n",
    "print(f\"Probabilidade de um usuário esperar entre 4 e 6 minutos: {probabilidade_intervalo_4_6}%\")\n",
    "\n",
    "# Qual é a probabilidade de um usuário esperar mais de 8 minutos?\n",
    "probabilidade_maior_8 = ((1 - stats.norm.cdf(8, loc=media, scale=desvio_padrao)) * 100).round(2)\n",
    "print(f\"Probabilidade de um usuário esperar mais de 8 minutos: {probabilidade_maior_8} %\")\n",
    "\n",
    "\n"
   ]
  },
  {
   "attachments": {},
   "cell_type": "markdown",
   "metadata": {},
   "source": [
    "# Problema - Tempo de permanência em biblioteca\n",
    "\n",
    "Suponha que o tempo de permanência dos usuários em uma biblioteca siga uma distribuição normal, com média μ = 120 minutos e desvio padrão σ = 30 minutos.\n",
    "\n",
    "-> Qual é a probabilidade de um usuário ficar na biblioteca por menos de 90 minutos?\n",
    "\n",
    "-> Qual é a probabilidade de um usuário ficar na biblioteca por mais de 180 minutos?\n",
    "\n",
    "-> Qual é o tempo mínimo que um usuário deve esperar para estar entre os 10% mais rápidos em termos de tempo de permanência?"
   ]
  },
  {
   "cell_type": "code",
   "execution_count": 113,
   "metadata": {},
   "outputs": [
    {
     "name": "stdout",
     "output_type": "stream",
     "text": [
      "Probabilidade de um usuário ficar na biblioteca por menos de 90 minutos: 15.87\n",
      "Probabilidade de um usuário ficar na biblioteca por mais de 180 minutos: 2.28\n",
      "Tempo mínimo para estar entre os 10% mais rápidos: 82 minutos.\n"
     ]
    }
   ],
   "source": [
    "import scipy.stats as stats\n",
    "\n",
    "# Desafio 1\n",
    "probabilidade_menor_90 = stats.norm.cdf(90, loc=120, scale=30)\n",
    "print(\"Probabilidade de um usuário ficar na biblioteca por menos de 90 minutos:\", round(probabilidade_menor_90*100,2))\n",
    "\n",
    "# Desafio 2\n",
    "probabilidade_maior_180 = 1 - stats.norm.cdf(180, loc=120, scale=30)\n",
    "print(\"Probabilidade de um usuário ficar na biblioteca por mais de 180 minutos:\", round(probabilidade_maior_180*100,2))\n",
    "\n",
    "# Desafio 3\n",
    "tempo_minimo_10_percent = stats.norm.ppf(0.1, loc=120, scale=30)\n",
    "print(\"Tempo mínimo para estar entre os 10% mais rápidos:\", round(tempo_minimo_10_percent),'minutos.')\n"
   ]
  },
  {
   "attachments": {},
   "cell_type": "markdown",
   "metadata": {},
   "source": [
    "# 4 - Técnicas de amostragem"
   ]
  },
  {
   "attachments": {},
   "cell_type": "markdown",
   "metadata": {},
   "source": [
    "## Amostragem aleatória simples"
   ]
  },
  {
   "cell_type": "code",
   "execution_count": 114,
   "metadata": {},
   "outputs": [
    {
     "name": "stdout",
     "output_type": "stream",
     "text": [
      "Tamanho total (8693, 14)\n",
      "Tamanho da amostra (1000, 14)\n"
     ]
    }
   ],
   "source": [
    "import pandas as pd\n",
    "import numpy as np\n",
    "import matplotlib.pyplot as plt\n",
    "\n",
    "spaceship_df = pd.read_csv('/home/franciscofoz/Documents/GitHub/math-stats-training/Estatística/Datasets/spaceship_titanic_train.csv')\n",
    "print('Tamanho total',spaceship_df.shape)\n",
    "\n",
    "amostra = spaceship_df.sample(n=1000, random_state=109)\n",
    "print('Tamanho da amostra',amostra.shape)"
   ]
  },
  {
   "cell_type": "code",
   "execution_count": 115,
   "metadata": {},
   "outputs": [
    {
     "data": {
      "text/plain": [
       "HomePlanet\n",
       "Earth     0.542\n",
       "Europa    0.251\n",
       "Mars      0.207\n",
       "Name: proportion, dtype: float64"
      ]
     },
     "execution_count": 115,
     "metadata": {},
     "output_type": "execute_result"
    }
   ],
   "source": [
    "spaceship_df.HomePlanet.value_counts(normalize=True).round(3)"
   ]
  },
  {
   "cell_type": "code",
   "execution_count": 116,
   "metadata": {},
   "outputs": [
    {
     "data": {
      "text/plain": [
       "HomePlanet\n",
       "Earth     0.533\n",
       "Europa    0.255\n",
       "Mars      0.212\n",
       "Name: proportion, dtype: float64"
      ]
     },
     "execution_count": 116,
     "metadata": {},
     "output_type": "execute_result"
    }
   ],
   "source": [
    "amostra.HomePlanet.value_counts(normalize=True).round(3)"
   ]
  },
  {
   "attachments": {},
   "cell_type": "markdown",
   "metadata": {},
   "source": [
    "# 5 - Nível e Intervalo de confiança"
   ]
  },
  {
   "attachments": {},
   "cell_type": "markdown",
   "metadata": {},
   "source": [
    "## Estimação"
   ]
  },
  {
   "cell_type": "code",
   "execution_count": 117,
   "metadata": {},
   "outputs": [],
   "source": [
    "import numpy as np\n",
    "import matplotlib.pyplot as plt\n",
    "\n",
    "seed = np.random.seed(seed=7)\n",
    "dados = np.random.randint(low=0,high=1000,size=50000)"
   ]
  },
  {
   "cell_type": "code",
   "execution_count": 118,
   "metadata": {},
   "outputs": [
    {
     "name": "stdout",
     "output_type": "stream",
     "text": [
      "Média real: 499.01716\n",
      "\n",
      "Média Bootstrap: 499.06545084\n",
      "Desvio Padrão Bootstrap: 1.2937713734718717\n"
     ]
    },
    {
     "data": {
      "image/png": "[encoded data removed]",
      "text/plain": [
       "<Figure size 432x288 with 1 Axes>"
      ]
     },
     "metadata": {
      "needs_background": "light"
     },
     "output_type": "display_data"
    },
    {
     "data": {
      "text/plain": [
       "1.289536022494404"
      ]
     },
     "execution_count": 118,
     "metadata": {},
     "output_type": "execute_result"
    }
   ],
   "source": [
    "def bootstrap(dados, n_iteracoes, estatistica):\n",
    "    estatisticas_bootstrap = []\n",
    "    n = len(dados)\n",
    "    \n",
    "    for _ in range(n_iteracoes):\n",
    "        amostra = np.random.choice(dados, size=n, replace=True)\n",
    "        estatistica_bootstrap = estatistica(amostra)\n",
    "        estatisticas_bootstrap.append(estatistica_bootstrap)\n",
    "    \n",
    "    return estatisticas_bootstrap\n",
    "\n",
    "# Executar o Bootstrap para estimar a média\n",
    "estatisticas_bootstrap = bootstrap(dados, n_iteracoes=1000, estatistica=np.mean)\n",
    "print(f'Média real: {np.mean(dados)}\\n')\n",
    "\n",
    "print(f'Média Bootstrap: {np.mean(estatisticas_bootstrap)}')\n",
    "print(f'Desvio Padrão Bootstrap: {np.std(estatisticas_bootstrap)}')\n",
    "\n",
    "# Histograma das estatísticas bootstrap\n",
    "plt.hist(estatisticas_bootstrap, bins=30)\n",
    "plt.xlabel('Média')\n",
    "plt.ylabel('Frequência')\n",
    "plt.title('Distribuição Bootstrap da Média')\n",
    "plt.show()\n",
    "\n",
    "\n",
    "np.std(dados) / np.sqrt(len(dados))"
   ]
  },
  {
   "attachments": {},
   "cell_type": "markdown",
   "metadata": {},
   "source": [
    "    O Teorema do Limite Central é um dos resultados fundamentais da teoria estatística e afirma que, sob certas condições, a média de uma grande quantidade de amostras independentes de uma população, independentemente da distribuição dessa população, seguirá aproximadamente uma distribuição normal. Isso significa que, mesmo que a população original não seja normalmente distribuída, a distribuição das médias das amostras se aproximará de uma distribuição normal à medida que o tamanho da amostra aumenta.\n",
    "\n",
    "    O Bootstrap, por outro lado, é um método estatístico que permite estimar a incerteza associada a uma estimativa usando apenas uma amostra dos dados. O Bootstrap é baseado na ideia de reamostragem com reposição, em que várias amostras \"fictícias\" são criadas a partir da amostra original. Essas amostras bootstrap são usadas para estimar a distribuição amostral de uma estatística, permitindo calcular intervalos de confiança e realizar testes de hipóteses.\n",
    "\n",
    "    A relação entre o TLC e o Bootstrap reside no fato de que o Bootstrap pode ser visto como uma forma prática de aplicar o TLC.\n",
    "    \n",
    "    O Bootstrap usa a reamostragem para simular a variabilidade da amostra original e, assim, obter uma estimativa da distribuição amostral de uma estatística. Essa distribuição amostral, estimada pelo Bootstrap, pode se aproximar da distribuição esperada de acordo com o Teorema do Limite Central.\n",
    "\n",
    "    Em resumo, o Teorema do Limite Central é um resultado teórico que descreve a distribuição das médias das amostras, enquanto o Bootstrap é um método prático que utiliza a reamostragem para estimar a distribuição amostral de uma estatística. O Bootstrap pode ser considerado uma aplicação do Teorema do Limite Central no contexto da estimação e inferência estatística."
   ]
  },
  {
   "attachments": {},
   "cell_type": "markdown",
   "metadata": {},
   "source": [
    "## Nível de confiança e significância"
   ]
  },
  {
   "cell_type": "code",
   "execution_count": 119,
   "metadata": {},
   "outputs": [
    {
     "data": {
      "text/plain": [
       "0.95"
      ]
     },
     "execution_count": 119,
     "metadata": {},
     "output_type": "execute_result"
    }
   ],
   "source": [
    "media_amostra = 5050\n",
    "significancia = 0.05\n",
    "confianca = 1 - significancia\n",
    "confianca"
   ]
  },
  {
   "cell_type": "code",
   "execution_count": 120,
   "metadata": {},
   "outputs": [],
   "source": [
    "import scipy.stats as stats\n",
    "import numpy as np"
   ]
  },
  {
   "cell_type": "code",
   "execution_count": 121,
   "metadata": {},
   "outputs": [
    {
     "data": {
      "text/plain": [
       "1.64"
      ]
     },
     "execution_count": 121,
     "metadata": {},
     "output_type": "execute_result"
    }
   ],
   "source": [
    "z = stats.norm.ppf(0.95).round(2)\n",
    "z"
   ]
  },
  {
   "cell_type": "code",
   "execution_count": 122,
   "metadata": {},
   "outputs": [
    {
     "data": {
      "text/plain": [
       "1.96"
      ]
     },
     "execution_count": 122,
     "metadata": {},
     "output_type": "execute_result"
    }
   ],
   "source": [
    "z = stats.norm.ppf(0.975).round(2)\n",
    "z"
   ]
  },
  {
   "cell_type": "code",
   "execution_count": 123,
   "metadata": {},
   "outputs": [
    {
     "data": {
      "text/plain": [
       "2.58"
      ]
     },
     "execution_count": 123,
     "metadata": {},
     "output_type": "execute_result"
    }
   ],
   "source": [
    "z = stats.norm.ppf(0.995).round(2)\n",
    "z"
   ]
  },
  {
   "cell_type": "code",
   "execution_count": 124,
   "metadata": {},
   "outputs": [],
   "source": [
    "desv_pad = 150\n",
    "n = 20\n",
    "raiz_n = np.sqrt(n)\n"
   ]
  },
  {
   "cell_type": "code",
   "execution_count": 125,
   "metadata": {},
   "outputs": [
    {
     "data": {
      "text/plain": [
       "(4984.2596014615065, 5115.7403985384935)"
      ]
     },
     "execution_count": 125,
     "metadata": {},
     "output_type": "execute_result"
    }
   ],
   "source": [
    "z = stats.norm.ppf(0.975).round(2)\n",
    "sigma = desv_pad / raiz_n\n",
    "e = z * sigma\n",
    "\n",
    "intervalo = (\n",
    "    media_amostra - e,\n",
    "    media_amostra + e\n",
    ")\n",
    "intervalo"
   ]
  },
  {
   "cell_type": "code",
   "execution_count": 126,
   "metadata": {},
   "outputs": [
    {
     "data": {
      "text/plain": [
       "(4984.260809456757, 5115.739190543243)"
      ]
     },
     "execution_count": 126,
     "metadata": {},
     "output_type": "execute_result"
    }
   ],
   "source": [
    "stats.norm.interval(alpha=0.95,loc=media_amostra,scale=desv_pad / raiz_n)"
   ]
  },
  {
   "attachments": {},
   "cell_type": "markdown",
   "metadata": {},
   "source": [
    "    \"Para estimar o valor médio gasto por cada cliente de uma grande rede de fast-food, foi selecionada uma amostra de 50 clientes.\n",
    "\n",
    "    Assumindo que o valor do desvio padrão da população seja de R$ 6,00 e que esta população se distribui normalmente, obtenha a margem de erro desta estimativa para um nível de confiança de 95%.\""
   ]
  },
  {
   "cell_type": "code",
   "execution_count": 127,
   "metadata": {},
   "outputs": [
    {
     "name": "stdout",
     "output_type": "stream",
     "text": [
      "R$ 1.40\n"
     ]
    }
   ],
   "source": [
    "z = stats.norm.ppf(0.95)\n",
    "desv_pad = 6\n",
    "n = 50\n",
    "raiz_n = np.sqrt(n)\n",
    "\n",
    "sigma = desv_pad / np.sqrt(n)\n",
    "e = z * sigma\n",
    "print(\"R$ {0:0.2f}\".format(e))"
   ]
  },
  {
   "attachments": {},
   "cell_type": "markdown",
   "metadata": {},
   "source": [
    "# 6 - Calculando o tamanho da amostra"
   ]
  },
  {
   "attachments": {},
   "cell_type": "markdown",
   "metadata": {},
   "source": [
    "## População infinita"
   ]
  },
  {
   "attachments": {},
   "cell_type": "markdown",
   "metadata": {},
   "source": [
    "# $$e = z \\frac{\\sigma}{\\sqrt{n}}$$\n",
    "\n",
    "#### Com desvio padrão conhecido\n",
    "\n",
    "## $$n = \\left(z\\frac{\\sigma}{e}\\right)^2$$\n",
    "\n",
    "#### Com desvio padrão desconhecido\n",
    "\n",
    "## $$n = \\left(z\\frac{s}{e}\\right)^2$$\n",
    "\n",
    "Onde:\n",
    "\n",
    "$z$ = variável normal padronizada\n",
    "\n",
    "$\\sigma$ = desvio padrão populacional\n",
    "\n",
    "$s$ = desvio padrão amostral\n",
    "\n",
    "$e$ = erro inferencial"
   ]
  },
  {
   "attachments": {},
   "cell_type": "markdown",
   "metadata": {},
   "source": [
    "Estamos estudando o rendimento mensal dos chefes de domicílios com renda até R$ 5.000,00 no Brasil. Nosso supervisor determinou que o erro máximo em relação a média seja de R$ 100,00. Sabemos que o desvio padrão populacional deste grupo de trabalhadores é de R$ 3.323,39. \n",
    "\n",
    "Para um nível de confiança de 95%, qual deve ser o tamanho da amostra de nosso estudo?"
   ]
  },
  {
   "cell_type": "code",
   "execution_count": 128,
   "metadata": {},
   "outputs": [
    {
     "data": {
      "text/plain": [
       "1.959963984540054"
      ]
     },
     "execution_count": 128,
     "metadata": {},
     "output_type": "execute_result"
    }
   ],
   "source": [
    "import scipy.stats as stats\n",
    "\n",
    "\n",
    "z = stats.norm.ppf(0.975)\n",
    "z\n"
   ]
  },
  {
   "cell_type": "code",
   "execution_count": 129,
   "metadata": {},
   "outputs": [],
   "source": [
    "sigma = 3323.39\n",
    "e = 100"
   ]
  },
  {
   "cell_type": "code",
   "execution_count": 130,
   "metadata": {},
   "outputs": [
    {
     "data": {
      "text/plain": [
       "4243"
      ]
     },
     "execution_count": 130,
     "metadata": {},
     "output_type": "execute_result"
    }
   ],
   "source": [
    "n = (z * (sigma / e)) ** 2\n",
    "int(n.round())"
   ]
  },
  {
   "attachments": {},
   "cell_type": "markdown",
   "metadata": {},
   "source": [
    "## População finita"
   ]
  },
  {
   "attachments": {},
   "cell_type": "markdown",
   "metadata": {},
   "source": [
    "#### Com desvio padrão conhecido\n",
    "\n",
    "## $$n = \\frac{z^2 \\sigma^2 N}{z^2 \\sigma^2 + e^2(N-1)}$$\n",
    "\n",
    "#### Com desvio padrão desconhecido\n",
    "\n",
    "## $$n = \\frac{z^2 s^2 N}{z^2 s^2 + e^2(N-1)}$$\n",
    "\n",
    "Onde:\n",
    "\n",
    "$N$ = tamanho da população\n",
    "\n",
    "$z$ = variável normal padronizada\n",
    "\n",
    "$\\sigma$ = desvio padrão populacional\n",
    "\n",
    "$s$ = desvio padrão amostral\n",
    "\n",
    "$e$ = erro inferencial"
   ]
  },
  {
   "attachments": {},
   "cell_type": "markdown",
   "metadata": {},
   "source": [
    "Em um lote de **10.000 latas** de refrigerante foi realizada uma amostra aleatória simples de **100 latas** e foi obtido o **desvio padrão amostral do conteúdo das latas igual a 12 ml**. O fabricante estipula um **erro máximo sobre a média populacional de apenas 5 ml**. Para garantir um **nível de confiança de 95%** qual o tamanho de amostra deve ser selecionado para este estudo?"
   ]
  },
  {
   "cell_type": "code",
   "execution_count": 131,
   "metadata": {},
   "outputs": [],
   "source": [
    "n = 10000\n",
    "z = stats.norm.ppf(0.975)\n",
    "s = 12\n",
    "e = 5"
   ]
  },
  {
   "attachments": {},
   "cell_type": "markdown",
   "metadata": {},
   "source": [
    "## $$n = \\frac{z^2 \\sigma^2 N}{z^2 \\sigma^2 + e^2(N-1)}$$"
   ]
  },
  {
   "cell_type": "code",
   "execution_count": 132,
   "metadata": {},
   "outputs": [
    {
     "data": {
      "text/plain": [
       "22"
      ]
     },
     "execution_count": 132,
     "metadata": {},
     "output_type": "execute_result"
    }
   ],
   "source": [
    "amostra = ((z**2) * (s**2) * (n)) / (((z**2) * (s**2)) + (e**2) * (n-1))\n",
    "int(amostra.round())"
   ]
  },
  {
   "attachments": {},
   "cell_type": "markdown",
   "metadata": {},
   "source": [
    "# Resumo"
   ]
  },
  {
   "attachments": {},
   "cell_type": "markdown",
   "metadata": {},
   "source": [
    "Para um **nível de confiança de 95%**, qual deve ser o tamanho da amostra de nosso estudo? \n",
    "\n",
    "Qual o intervalo de confiança para a média considerando o tamanho de amostra obtido?"
   ]
  },
  {
   "cell_type": "code",
   "execution_count": 133,
   "metadata": {},
   "outputs": [],
   "source": [
    "import numpy as np\n",
    "import scipy.stats as stats\n",
    "import matplotlib.pyplot as plt\n"
   ]
  },
  {
   "cell_type": "code",
   "execution_count": 134,
   "metadata": {},
   "outputs": [
    {
     "name": "stdout",
     "output_type": "stream",
     "text": [
      "Média: 3264.52\n",
      "Desvio Padrão: 1013.69\n"
     ]
    }
   ],
   "source": [
    "np.random.seed(10)\n",
    "renda = np.random.randint(1500,5000,size=10000)\n",
    "media = np.mean(renda).round(2)\n",
    "std = np.std(renda).round(2)\n",
    "\n",
    "erro = 10\n",
    "\n",
    "print('Média:',media)\n",
    "print('Desvio Padrão:',std)"
   ]
  },
  {
   "cell_type": "code",
   "execution_count": 135,
   "metadata": {},
   "outputs": [
    {
     "data": {
      "text/plain": [
       "1.959963984540054"
      ]
     },
     "execution_count": 135,
     "metadata": {},
     "output_type": "execute_result"
    }
   ],
   "source": [
    "z = stats.norm.ppf(0.975)\n",
    "z"
   ]
  },
  {
   "cell_type": "code",
   "execution_count": 136,
   "metadata": {},
   "outputs": [
    {
     "data": {
      "text/plain": [
       "39473.57914435215"
      ]
     },
     "execution_count": 136,
     "metadata": {},
     "output_type": "execute_result"
    }
   ],
   "source": [
    "n = (z * (std / erro))**2\n",
    "n"
   ]
  },
  {
   "cell_type": "code",
   "execution_count": 137,
   "metadata": {},
   "outputs": [
    {
     "data": {
      "text/plain": [
       "(3254.52, 3274.52)"
      ]
     },
     "execution_count": 137,
     "metadata": {},
     "output_type": "execute_result"
    }
   ],
   "source": [
    "intervalo = stats.norm.interval(alpha=0.95,loc=media,scale=std/np.sqrt(n))\n",
    "intervalo"
   ]
  },
  {
   "cell_type": "code",
   "execution_count": 138,
   "metadata": {},
   "outputs": [
    {
     "name": "stdout",
     "output_type": "stream",
     "text": [
      "Média real: 3264.5234\n",
      "\n",
      "Média Bootstrap: 3264.1180303999995\n",
      "Desvio Padrão Bootstrap: 9.79493305340143\n",
      "Intervalo de confiança (95%): [3245.27256  3282.425785]\n"
     ]
    },
    {
     "data": {
      "image/png": "[encoded data removed]",
      "text/plain": [
       "<Figure size 432x288 with 1 Axes>"
      ]
     },
     "metadata": {
      "needs_background": "light"
     },
     "output_type": "display_data"
    }
   ],
   "source": [
    "def bootstrap(dados, n_iteracoes, estatistica):\n",
    "    estatisticas_bootstrap = []\n",
    "    n = len(dados)\n",
    "    \n",
    "    for _ in range(n_iteracoes):\n",
    "        amostra = np.random.choice(dados, size=n, replace=True)\n",
    "        estatistica_bootstrap = estatistica(amostra)\n",
    "        estatisticas_bootstrap.append(estatistica_bootstrap)\n",
    "    \n",
    "    return estatisticas_bootstrap\n",
    "\n",
    "# Executar o Bootstrap para estimar a média\n",
    "estatisticas_bootstrap = bootstrap(renda, n_iteracoes=1000, estatistica=np.mean)\n",
    "print(f'Média real: {np.mean(renda)}\\n')\n",
    "\n",
    "print(f'Média Bootstrap: {np.mean(estatisticas_bootstrap)}')\n",
    "print(f'Desvio Padrão Bootstrap: {np.std(estatisticas_bootstrap)}')\n",
    "\n",
    "# Calcula o intervalo de confiança de 95% usando os percentis\n",
    "intervalo_confianca = np.percentile(estatisticas_bootstrap, [2.5, 97.5])\n",
    "\n",
    "print(\"Intervalo de confiança (95%):\", intervalo_confianca)\n",
    "\n",
    "# Histograma das estatísticas bootstrap\n",
    "plt.hist(estatisticas_bootstrap, bins=30)\n",
    "plt.xlabel('Média')\n",
    "plt.ylabel('Frequência')\n",
    "plt.title('Distribuição Bootstrap da Média')\n",
    "plt.show()\n",
    "\n"
   ]
  },
  {
   "attachments": {},
   "cell_type": "markdown",
   "metadata": {},
   "source": [
    "## Projeto final"
   ]
  },
  {
   "cell_type": "code",
   "execution_count": 139,
   "metadata": {},
   "outputs": [],
   "source": [
    "import pandas as pd\n",
    "import numpy as np\n",
    "import scipy.stats as stats"
   ]
  },
  {
   "cell_type": "code",
   "execution_count": 140,
   "metadata": {},
   "outputs": [
    {
     "data": {
      "text/html": [
       "<div>\n",
       "<style scoped>\n",
       "    .dataframe tbody tr th:only-of-type {\n",
       "        vertical-align: middle;\n",
       "    }\n",
       "\n",
       "    .dataframe tbody tr th {\n",
       "        vertical-align: top;\n",
       "    }\n",
       "\n",
       "    .dataframe thead th {\n",
       "        text-align: right;\n",
       "    }\n",
       "</style>\n",
       "<table border=\"1\" class=\"dataframe\">\n",
       "  <thead>\n",
       "    <tr style=\"text-align: right;\">\n",
       "      <th></th>\n",
       "      <th>UF</th>\n",
       "      <th>Sexo</th>\n",
       "      <th>Idade</th>\n",
       "      <th>Cor</th>\n",
       "      <th>Anos de Estudo</th>\n",
       "      <th>Renda</th>\n",
       "      <th>Altura</th>\n",
       "    </tr>\n",
       "  </thead>\n",
       "  <tbody>\n",
       "    <tr>\n",
       "      <th>0</th>\n",
       "      <td>11</td>\n",
       "      <td>0</td>\n",
       "      <td>23</td>\n",
       "      <td>8</td>\n",
       "      <td>12</td>\n",
       "      <td>800</td>\n",
       "      <td>1.603808</td>\n",
       "    </tr>\n",
       "    <tr>\n",
       "      <th>1</th>\n",
       "      <td>11</td>\n",
       "      <td>1</td>\n",
       "      <td>23</td>\n",
       "      <td>2</td>\n",
       "      <td>12</td>\n",
       "      <td>1150</td>\n",
       "      <td>1.739790</td>\n",
       "    </tr>\n",
       "    <tr>\n",
       "      <th>2</th>\n",
       "      <td>11</td>\n",
       "      <td>1</td>\n",
       "      <td>35</td>\n",
       "      <td>8</td>\n",
       "      <td>15</td>\n",
       "      <td>880</td>\n",
       "      <td>1.760444</td>\n",
       "    </tr>\n",
       "    <tr>\n",
       "      <th>3</th>\n",
       "      <td>11</td>\n",
       "      <td>0</td>\n",
       "      <td>46</td>\n",
       "      <td>2</td>\n",
       "      <td>6</td>\n",
       "      <td>3500</td>\n",
       "      <td>1.783158</td>\n",
       "    </tr>\n",
       "    <tr>\n",
       "      <th>4</th>\n",
       "      <td>11</td>\n",
       "      <td>1</td>\n",
       "      <td>47</td>\n",
       "      <td>8</td>\n",
       "      <td>9</td>\n",
       "      <td>150</td>\n",
       "      <td>1.690631</td>\n",
       "    </tr>\n",
       "    <tr>\n",
       "      <th>...</th>\n",
       "      <td>...</td>\n",
       "      <td>...</td>\n",
       "      <td>...</td>\n",
       "      <td>...</td>\n",
       "      <td>...</td>\n",
       "      <td>...</td>\n",
       "      <td>...</td>\n",
       "    </tr>\n",
       "    <tr>\n",
       "      <th>76835</th>\n",
       "      <td>53</td>\n",
       "      <td>1</td>\n",
       "      <td>46</td>\n",
       "      <td>2</td>\n",
       "      <td>11</td>\n",
       "      <td>812</td>\n",
       "      <td>1.687030</td>\n",
       "    </tr>\n",
       "    <tr>\n",
       "      <th>76836</th>\n",
       "      <td>53</td>\n",
       "      <td>0</td>\n",
       "      <td>30</td>\n",
       "      <td>4</td>\n",
       "      <td>7</td>\n",
       "      <td>1500</td>\n",
       "      <td>1.792934</td>\n",
       "    </tr>\n",
       "    <tr>\n",
       "      <th>76837</th>\n",
       "      <td>53</td>\n",
       "      <td>0</td>\n",
       "      <td>32</td>\n",
       "      <td>8</td>\n",
       "      <td>12</td>\n",
       "      <td>1300</td>\n",
       "      <td>1.830587</td>\n",
       "    </tr>\n",
       "    <tr>\n",
       "      <th>76838</th>\n",
       "      <td>53</td>\n",
       "      <td>0</td>\n",
       "      <td>57</td>\n",
       "      <td>8</td>\n",
       "      <td>4</td>\n",
       "      <td>1500</td>\n",
       "      <td>1.726344</td>\n",
       "    </tr>\n",
       "    <tr>\n",
       "      <th>76839</th>\n",
       "      <td>53</td>\n",
       "      <td>0</td>\n",
       "      <td>38</td>\n",
       "      <td>8</td>\n",
       "      <td>4</td>\n",
       "      <td>900</td>\n",
       "      <td>1.658305</td>\n",
       "    </tr>\n",
       "  </tbody>\n",
       "</table>\n",
       "<p>76840 rows × 7 columns</p>\n",
       "</div>"
      ],
      "text/plain": [
       "       UF  Sexo  Idade  Cor  Anos de Estudo  Renda    Altura\n",
       "0      11     0     23    8              12    800  1.603808\n",
       "1      11     1     23    2              12   1150  1.739790\n",
       "2      11     1     35    8              15    880  1.760444\n",
       "3      11     0     46    2               6   3500  1.783158\n",
       "4      11     1     47    8               9    150  1.690631\n",
       "...    ..   ...    ...  ...             ...    ...       ...\n",
       "76835  53     1     46    2              11    812  1.687030\n",
       "76836  53     0     30    4               7   1500  1.792934\n",
       "76837  53     0     32    8              12   1300  1.830587\n",
       "76838  53     0     57    8               4   1500  1.726344\n",
       "76839  53     0     38    8               4    900  1.658305\n",
       "\n",
       "[76840 rows x 7 columns]"
      ]
     },
     "execution_count": 140,
     "metadata": {},
     "output_type": "execute_result"
    }
   ],
   "source": [
    "dados_pnad = pd.read_csv('/home/franciscofoz/Documents/GitHub/math-stats-training/Estatística/Datasets/dados_curso_estatistica_2.csv')\n",
    "dados_pnad"
   ]
  },
  {
   "cell_type": "code",
   "execution_count": 141,
   "metadata": {},
   "outputs": [
    {
     "data": {
      "text/plain": [
       "Sexo\n",
       "0    0.692998\n",
       "1    0.307002\n",
       "Name: proportion, dtype: float64"
      ]
     },
     "execution_count": 141,
     "metadata": {},
     "output_type": "execute_result"
    }
   ],
   "source": [
    "dados_pnad.Sexo.value_counts(normalize=True)"
   ]
  },
  {
   "attachments": {},
   "cell_type": "markdown",
   "metadata": {},
   "source": [
    "#### Qual a probabilidade de se retirar uma amostra (aleatória) com 10 indivíduos, que contenha a mesma distribuição de Sexo da amostra?"
   ]
  },
  {
   "cell_type": "code",
   "execution_count": 163,
   "metadata": {},
   "outputs": [
    {
     "data": {
      "text/plain": [
       "0.2665193398841657"
      ]
     },
     "execution_count": 163,
     "metadata": {},
     "output_type": "execute_result"
    }
   ],
   "source": [
    "k = 7 #Eventos que deseja obter sucesso\n",
    "n = 10 #Total de ensaios\n",
    "p = 0.692998 # probabilidade do evento ocorrer\n",
    "\n",
    "probabilidade = stats.binom.pmf(k,n,p)\n",
    "probabilidade\n"
   ]
  },
  {
   "attachments": {},
   "cell_type": "markdown",
   "metadata": {},
   "source": [
    "#### Quantos grupos de 10 indivíduos nós precisaríamos selecionar, de forma aleatória, para conseguir 100 grupos na mesma proporção?"
   ]
  },
  {
   "cell_type": "code",
   "execution_count": 149,
   "metadata": {},
   "outputs": [
    {
     "data": {
      "text/plain": [
       "375.2072928120784"
      ]
     },
     "execution_count": 149,
     "metadata": {},
     "output_type": "execute_result"
    }
   ],
   "source": [
    "n = 100 / probabilidade\n",
    "n"
   ]
  },
  {
   "attachments": {},
   "cell_type": "markdown",
   "metadata": {},
   "source": [
    "# Exercícios"
   ]
  },
  {
   "cell_type": "markdown",
   "metadata": {},
   "source": [
    "### Distribuição Binomial"
   ]
  },
  {
   "cell_type": "markdown",
   "metadata": {},
   "source": [
    "1. Você está interessado em calcular a probabilidade de ter um número específico de conversões em um determinado número de visitantes. A taxa de conversão de visitantes para clientes em um site de comércio eletrônico é de 6%. Em um determinado dia, a empresa teve 500 visitantes.\n",
    "\n",
    "- Qual é a probabilidade de exatamente 50 desses visitantes se converterem em clientes?\n",
    "- Qual é a probabilidade de pelo menos 60 desses visitantes se converterem em clientes?\n",
    "- Qual é a probabilidade de no máximo 40 desses visitantes se converterem em clientes?"
   ]
  },
  {
   "cell_type": "code",
   "execution_count": 1,
   "metadata": {},
   "outputs": [],
   "source": [
    "from scipy.stats import binom"
   ]
  },
  {
   "cell_type": "code",
   "execution_count": 3,
   "metadata": {},
   "outputs": [
    {
     "name": "stdout",
     "output_type": "stream",
     "text": [
      "a 0.00015119566633061912\n",
      "b 0.999999841349716\n",
      "c 0.9718595759291869\n"
     ]
    }
   ],
   "source": [
    "k_a = 50 #Eventos que deseja obter sucesso\n",
    "k_b = 60\n",
    "k_c = 40\n",
    "\n",
    "n = 500 #Total de ensaios\n",
    "p = 0.06 # probabilidade do evento ocorrer\n",
    "\n",
    "a_probabilidade = binom.pmf(k_a,n,p)\n",
    "print('a',a_probabilidade)\n",
    "\n",
    "b_probabilidade = binom.cdf(k_b,n,p)\n",
    "print('b',b_probabilidade)\n",
    "\n",
    "c_probabilidade = binom.cdf(k_c,n,p)\n",
    "print('c',c_probabilidade)"
   ]
  },
  {
   "cell_type": "markdown",
   "metadata": {},
   "source": [
    "2. Você está analisando os resultados de um teste A/B realizado em um site para avaliar a eficácia de um novo design de página na taxa de cliques. Na versão A (antiga), a taxa de cliques é de 12%. Na versão B (nova), a empresa espera que a taxa de cliques aumente para 15%.\n",
    "\n",
    "Suponha que você escolheu aleatoriamente 200 visitantes para participar do teste.\n",
    "\n",
    "- Qual é a probabilidade de exatamente 25 visitantes clicarem na versão A?\n",
    "- Qual é a probabilidade de no máximo 20 visitantes clicarem na versão A?\n",
    "\n"
   ]
  },
  {
   "cell_type": "code",
   "execution_count": 13,
   "metadata": {},
   "outputs": [
    {
     "name": "stdout",
     "output_type": "stream",
     "text": [
      "a 0.08304276220696191\n",
      "b 0.22663078625694755\n"
     ]
    }
   ],
   "source": [
    "#Site A\n",
    "k_a = 25\n",
    "k_b = 20\n",
    "\n",
    "n = 200 #Total de ensaios\n",
    "p = 0.12 # probabilidade do evento ocorrer\n",
    "\n",
    "a_probabilidade = binom.pmf(k_a,n,p)\n",
    "print('a',a_probabilidade)\n",
    "\n",
    "b_probabilidade = binom.cdf(k_b,n,p)\n",
    "print('b',b_probabilidade)\n"
   ]
  },
  {
   "cell_type": "markdown",
   "metadata": {},
   "source": [
    "- Qual é a probabilidade de pelo menos 30 visitantes clicarem na versão B?"
   ]
  },
  {
   "cell_type": "code",
   "execution_count": 5,
   "metadata": {},
   "outputs": [
    {
     "name": "stdout",
     "output_type": "stream",
     "text": [
      "a 0.5485114722990486\n"
     ]
    }
   ],
   "source": [
    "#Site B\n",
    "k_a = 30\n",
    "\n",
    "n = 200 #Total de ensaios\n",
    "p = 0.15 # probabilidade do evento ocorrer\n",
    "\n",
    "a_probabilidade = binom.cdf(k_a,n,p)\n",
    "print('a',a_probabilidade)\n",
    "\n"
   ]
  },
  {
   "cell_type": "markdown",
   "metadata": {},
   "source": [
    "3. Suponha que você está analisando a distribuição de cliques em anúncios online. A taxa média de cliques em um anúncio específico é de 8%. Você está interessado em explorar a média e a variação dessa distribuição binomial.\n",
    "\n",
    "- Qual é o valor médio (esperança) do número de cliques em 500 visualizações desse anúncio?\n",
    "- Qual é o desvio padrão do número de cliques em 500 visualizações desse anúncio?"
   ]
  },
  {
   "cell_type": "code",
   "execution_count": 27,
   "metadata": {},
   "outputs": [
    {
     "name": "stdout",
     "output_type": "stream",
     "text": [
      "Média 40.0\n",
      "Desvio Padrão 6.066300355241241\n",
      "Limite inferior 27.867399289517518\n",
      "Limite superior 52.13260071048248\n"
     ]
    }
   ],
   "source": [
    "n = 500 #Total de ensaios\n",
    "p = 0.08 # probabilidade do evento ocorrer\n",
    "\n",
    "media = binom(n,p).mean()\n",
    "desvio_padrao = binom(n,p).std()\n",
    "limite_inferior = media - 2*desvio_padrao\n",
    "limite_superior = media + 2*desvio_padrao\n",
    "\n",
    "\n",
    "print('Média',media)\n",
    "print('Desvio Padrão',desvio_padrao)\n",
    "print('Limite inferior',limite_inferior)\n",
    "print('Limite superior',limite_superior)\n",
    "\n"
   ]
  },
  {
   "cell_type": "markdown",
   "metadata": {},
   "source": [
    "### Distribuição geométrica"
   ]
  },
  {
   "cell_type": "markdown",
   "metadata": {},
   "source": [
    "2 - Contexto:\n",
    "A empresa lançou recentemente um novo recurso em seu site que exibe produtos recomendados para os usuários com base em seus históricos de compras e comportamentos de navegação.\n",
    "\n",
    "Desafio:\n",
    "\n",
    "A probabilidade de um usuário clicar em um produto recomendado específico é modelada como uma distribuição geométrica, com uma taxa de sucesso de 0.2 (ou seja, a probabilidade de sucesso em cada tentativa é 0.2).\n",
    "\n",
    "Parte 1: Teoria\n",
    "\n",
    "a. Qual é a probabilidade de que um usuário clique no produto recomendado logo na primeira tentativa?\n",
    "\n",
    "b. Qual é a probabilidade de que o primeiro clique ocorra somente na terceira tentativa?\n",
    "\n",
    "Parte 2: Aplicação Prática\n",
    "\n",
    "A equipe de marketing está interessada em saber quantas recomendações, em média, são necessárias antes que um usuário clique em um produto. Para isso, responda:\n",
    "\n",
    "a. Qual é o número esperado de tentativas (cliques) necessário para que um usuário clique em um produto recomendado?\n",
    "\n",
    "b. Suponha que a equipe de marketing considera aceitável que 90% dos usuários cliquem em um produto recomendado dentro das primeiras cinco tentativas. Qual é a probabilidade de que um usuário clique em um produto recomendado nas primeiras cinco tentativas?\n",
    "\n"
   ]
  },
  {
   "cell_type": "code",
   "execution_count": 3,
   "metadata": {},
   "outputs": [
    {
     "data": {
      "text/plain": [
       "0.2"
      ]
     },
     "execution_count": 3,
     "metadata": {},
     "output_type": "execute_result"
    }
   ],
   "source": [
    "from scipy.stats import geom\n",
    "\n",
    "#a. Qual é a probabilidade de que um usuário clique no produto recomendado logo na primeira tentativa?\n",
    "\n",
    "p = 0.2\n",
    "geom.pmf(1,p)"
   ]
  },
  {
   "cell_type": "code",
   "execution_count": 4,
   "metadata": {},
   "outputs": [
    {
     "data": {
      "text/plain": [
       "0.12800000000000003"
      ]
     },
     "execution_count": 4,
     "metadata": {},
     "output_type": "execute_result"
    }
   ],
   "source": [
    "#b. Qual é a probabilidade de que o primeiro clique ocorra somente na terceira tentativa?\n",
    "\n",
    "p = 0.2\n",
    "geom.pmf(3,p)"
   ]
  },
  {
   "cell_type": "code",
   "execution_count": 5,
   "metadata": {},
   "outputs": [
    {
     "data": {
      "text/plain": [
       "5.0"
      ]
     },
     "execution_count": 5,
     "metadata": {},
     "output_type": "execute_result"
    }
   ],
   "source": [
    "# a. Qual é o número esperado de tentativas (cliques) necessário para que um usuário clique em um produto recomendado?\n",
    "\n",
    "taxa_sucesso = 0.2\n",
    "media_tentativas = 1 / taxa_sucesso\n",
    "\n",
    "media_tentativas"
   ]
  },
  {
   "cell_type": "code",
   "execution_count": 8,
   "metadata": {},
   "outputs": [
    {
     "data": {
      "text/plain": [
       "0.67232"
      ]
     },
     "execution_count": 8,
     "metadata": {},
     "output_type": "execute_result"
    }
   ],
   "source": [
    "'''\n",
    "b. Suponha que a equipe de marketing considera aceitável que 90% dos usuários \n",
    "cliquem em um produto recomendado dentro das primeiras cinco tentativas. \n",
    "Qual é a probabilidade de que um usuário clique em um produto recomendado nas primeiras cinco tentativas?\n",
    "'''\n",
    "\n",
    "p = 0.2\n",
    "geom.cdf(5,p)"
   ]
  },
  {
   "cell_type": "markdown",
   "metadata": {},
   "source": [
    "### Distribuição Normal"
   ]
  },
  {
   "cell_type": "code",
   "execution_count": 1,
   "metadata": {},
   "outputs": [
    {
     "data": {
      "text/plain": [
       "93.52931993606438"
      ]
     },
     "execution_count": 1,
     "metadata": {},
     "output_type": "execute_result"
    }
   ],
   "source": [
    "from scipy.stats import norm\n",
    "\n",
    "mu = 181\n",
    "desvpad = 37.6\n",
    "\n",
    "norm.ppf(0.01, mu, desvpad)"
   ]
  },
  {
   "cell_type": "markdown",
   "metadata": {},
   "source": [
    "### Técnicas de amostragem"
   ]
  },
  {
   "cell_type": "markdown",
   "metadata": {},
   "source": [
    "- Simples\n",
    "- Estratificada\n",
    "- Conglomerado"
   ]
  },
  {
   "cell_type": "markdown",
   "metadata": {},
   "source": [
    "### Nível e intervalo de confiança"
   ]
  },
  {
   "cell_type": "code",
   "execution_count": 2,
   "metadata": {},
   "outputs": [],
   "source": [
    "import numpy as np\n",
    "\n",
    "desvpad = 150\n",
    "n = 20\n",
    "\n",
    "raiz_n = np.sqrt(n)\n",
    "\n",
    "sigma = desvpad / raiz_n\n",
    "\n",
    "e = 1.96 * sigma"
   ]
  },
  {
   "cell_type": "code",
   "execution_count": 5,
   "metadata": {},
   "outputs": [
    {
     "data": {
      "text/plain": [
       "(5434.2596014615065, 5565.7403985384935)"
      ]
     },
     "execution_count": 5,
     "metadata": {},
     "output_type": "execute_result"
    }
   ],
   "source": [
    "intervalo = (\n",
    "    5500 - e,\n",
    "    5500 + e\n",
    ")\n",
    "intervalo"
   ]
  },
  {
   "cell_type": "code",
   "execution_count": 6,
   "metadata": {},
   "outputs": [
    {
     "data": {
      "text/plain": [
       "(5434.260809456757, 5565.739190543243)"
      ]
     },
     "execution_count": 6,
     "metadata": {},
     "output_type": "execute_result"
    }
   ],
   "source": [
    "from scipy.stats import norm\n",
    "\n",
    "norm.interval(0.95,5500,sigma)"
   ]
  },
  {
   "cell_type": "markdown",
   "metadata": {},
   "source": [
    "### Cálculo do tamanho da amostra"
   ]
  },
  {
   "cell_type": "markdown",
   "metadata": {},
   "source": [
    "#### População infinita"
   ]
  },
  {
   "cell_type": "markdown",
   "metadata": {},
   "source": [
    "Com o exemplo do rendimento mensal dos chefes de domicílio no Brasil, o supervisor determinou que o erro máximo em relação à média deverá ser de 100 reais, o Desvio Padrão Populacional de 3.323,39 reais e nível de confiança de 95%, e com isso deveremos descobrir qual deverá ser o tamanho da amostra."
   ]
  },
  {
   "cell_type": "code",
   "execution_count": 9,
   "metadata": {},
   "outputs": [
    {
     "data": {
      "text/plain": [
       "4243.0"
      ]
     },
     "execution_count": 9,
     "metadata": {},
     "output_type": "execute_result"
    }
   ],
   "source": [
    "from scipy.stats import norm\n",
    "\n",
    "z = norm.ppf(1-(0.05/2))\n",
    "e = 100\n",
    "sigma = 3323.39\n",
    "\n",
    "n = ((z * sigma) / e)**2\n",
    "n.round(0)"
   ]
  },
  {
   "cell_type": "markdown",
   "metadata": {},
   "source": [
    "#### População finita"
   ]
  },
  {
   "cell_type": "markdown",
   "metadata": {},
   "source": [
    "Foi realizada uma amostra aleatória simples de 100 latas e foi obtido o desvio padrão amostral do conteúdo de cada lata, igual a 12ml.\n",
    "\n",
    "O fabricante estipula um erro máximo sobre a Média Populacional de apenas 5ml. Para garantirmos o Nível de Confiança de 95%, qual deve ser o tamanho da amostra?"
   ]
  },
  {
   "cell_type": "code",
   "execution_count": 11,
   "metadata": {},
   "outputs": [
    {
     "data": {
      "text/plain": [
       "22.080154500190364"
      ]
     },
     "execution_count": 11,
     "metadata": {},
     "output_type": "execute_result"
    }
   ],
   "source": [
    "from scipy.stats import norm\n",
    "\n",
    "N = 10000\n",
    "z = norm.ppf(1-(0.05/2))\n",
    "s = 12\n",
    "e = 5\n",
    "\n",
    "n = ((z**2) * (s**2) * N) / (((z**2) * (s**2)) + (e**2) * (N-1))\n",
    "n\n"
   ]
  },
  {
   "cell_type": "markdown",
   "metadata": {},
   "source": []
  },
  {
   "cell_type": "markdown",
   "metadata": {},
   "source": []
  }
 ],
 "metadata": {
  "kernelspec": {
   "display_name": "Python 3",
   "language": "python",
   "name": "python3"
  },
  "language_info": {
   "codemirror_mode": {
    "name": "ipython",
    "version": 3
   },
   "file_extension": ".py",
   "mimetype": "text/x-python",
   "name": "python",
   "nbconvert_exporter": "python",
   "pygments_lexer": "ipython3",
   "version": "3.10.12"
  },
  "orig_nbformat": 4
 },
 "nbformat": 4,
 "nbformat_minor": 2
}
