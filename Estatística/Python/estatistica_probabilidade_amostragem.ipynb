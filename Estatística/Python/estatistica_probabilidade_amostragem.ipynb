{
 "cells": [
  {
   "attachments": {},
   "cell_type": "markdown",
   "metadata": {},
   "source": [
    "# Probabilidade e amostragem"
   ]
  },
  {
   "attachments": {},
   "cell_type": "markdown",
   "metadata": {},
   "source": [
    "## Importando bibliotecas"
   ]
  },
  {
   "cell_type": "code",
   "execution_count": 1,
   "metadata": {},
   "outputs": [],
   "source": [
    "import pandas as pd\n",
    "import numpy as np\n",
    "import scipy \n",
    "import matplotlib.pyplot as plt\n"
   ]
  },
  {
   "attachments": {},
   "cell_type": "markdown",
   "metadata": {},
   "source": [
    "## Importando dados"
   ]
  },
  {
   "cell_type": "code",
   "execution_count": 4,
   "metadata": {},
   "outputs": [],
   "source": [
    "df_pnad = pd.read_csv('/home/franciscofoz/Documents/GitHub/math-stats-training/Estatística/Datasets/dados_curso_estatistica_2.csv')\n",
    "df_spaceship = pd.read_csv('/home/franciscofoz/Documents/GitHub/math-stats-training/Estatística/Datasets/spaceship_titanic_train.csv')\n",
    "\n"
   ]
  },
  {
   "attachments": {},
   "cell_type": "markdown",
   "metadata": {},
   "source": [
    "# Distribuição binomial"
   ]
  },
  {
   "attachments": {},
   "cell_type": "markdown",
   "metadata": {},
   "source": [
    "    Um evento binomial é caracterizado pela possibilidade de ocorrência de apenas duas categorias.\n",
    "\n",
    "* Probabilidade é um número que vai de 0 a 1.\n",
    "* Problemas de \"sucesso ou fracasso\"\n",
    "\n",
    "1. Realização de n ensaios idênticos\n",
    "2. Ensaios independentes\n",
    "3. Apenas dois resultados possíveis\n",
    "4. Probabilidade é representada por p e a de fracasso é 1 - p = q.\n"
   ]
  },
  {
   "attachments": {},
   "cell_type": "markdown",
   "metadata": {},
   "source": [
    "### Média da distribuição binomial\n",
    "\n",
    "$$ \\mu = n * p $$\n",
    "\n",
    "n = número de experimentos realizados\n",
    "\n",
    "p = probabilidade de chance de ocorrência"
   ]
  },
  {
   "attachments": {},
   "cell_type": "markdown",
   "metadata": {},
   "source": [
    "### Desvio padrão da distribuição binomial\n",
    "\n",
    "$$ \\sigma = \\sqrt{n * p * q} $$\n",
    "\n",
    "n = número de experimentos realizados\n",
    "\n",
    "p = probabilidade de chance de ocorrência\n",
    "\n",
    "q = probabilidade de fracasso"
   ]
  },
  {
   "attachments": {},
   "cell_type": "markdown",
   "metadata": {},
   "source": [
    "### Combinações"
   ]
  },
  {
   "attachments": {},
   "cell_type": "markdown",
   "metadata": {},
   "source": [
    "Número de combinações de N objetos, tomados K cada vez"
   ]
  },
  {
   "cell_type": "code",
   "execution_count": 5,
   "metadata": {},
   "outputs": [],
   "source": [
    "from scipy.special import comb"
   ]
  },
  {
   "cell_type": "code",
   "execution_count": 10,
   "metadata": {},
   "outputs": [
    {
     "name": "stdout",
     "output_type": "stream",
     "text": [
      "Combinações 50063860.0\n",
      "Probabilidade de acerto: 0.000000019974489\n"
     ]
    }
   ],
   "source": [
    "# Espaço amostral da mega-sena\n",
    "\n",
    "combinacoes = comb(60,6)\n",
    "print('Combinações',combinacoes)\n",
    "probabilidade_acerto = 1/combinacoes\n",
    "print('Probabilidade de acerto:','%0.15f' % probabilidade_acerto)"
   ]
  },
  {
   "attachments": {},
   "cell_type": "markdown",
   "metadata": {},
   "source": [
    "### $$P(k)=\\binom{n}{k} p^k q^{n-k}$$\n",
    "\n",
    "$p$ = probabilidade de sucesso\n",
    "\n",
    "$q = (1 - p)$ = probabilidade de fracasso\n",
    "\n",
    "$n$ = número de eventos estudados\n",
    "\n",
    "$k$ = número de eventos desejados que tenham sucesso"
   ]
  },
  {
   "attachments": {},
   "cell_type": "markdown",
   "metadata": {},
   "source": [
    "###  Concurso para cientista de dados"
   ]
  },
  {
   "cell_type": "code",
   "execution_count": 18,
   "metadata": {},
   "outputs": [
    {
     "name": "stdout",
     "output_type": "stream",
     "text": [
      "\n",
      " 10 \n",
      " 0.3333333333333333 \n",
      " 0.6666666666666667 \n",
      " 5\n"
     ]
    }
   ],
   "source": [
    "'''\n",
    "* 10 questões de múltipla escolha, com 3 alternativas.\n",
    "* Chutar todas as questões\n",
    "\n",
    "* Assumindo que a prova valha 10 e a nota de corte seja 5, qual a probabilidade do candidato passar?\n",
    "'''\n",
    "# Ensaios\n",
    "n = 10\n",
    "\n",
    "numero_alternativas_por_questao = 3\n",
    "p = 1/3\n",
    "\n",
    "q = 1 - p\n",
    "\n",
    "k = 5\n",
    "\n",
    "print('\\n',n,'\\n',p,'\\n',q,'\\n',k)"
   ]
  },
  {
   "cell_type": "code",
   "execution_count": 19,
   "metadata": {},
   "outputs": [
    {
     "data": {
      "text/plain": [
       "0.13656454808718185"
      ]
     },
     "execution_count": 19,
     "metadata": {},
     "output_type": "execute_result"
    }
   ],
   "source": [
    "# Solução 1\n",
    "\n",
    "probabilidade = (comb(n,k)) * (p ** k) * (q ** (n - k))\n",
    "probabilidade\n"
   ]
  },
  {
   "cell_type": "code",
   "execution_count": 20,
   "metadata": {},
   "outputs": [
    {
     "data": {
      "text/plain": [
       "0.1365645480871816"
      ]
     },
     "execution_count": 20,
     "metadata": {},
     "output_type": "execute_result"
    }
   ],
   "source": [
    "# Solução 2\n",
    "\n",
    "from scipy.stats import binom\n",
    "\n",
    "probabilidade = binom.pmf(k,n,p)\n",
    "probabilidade"
   ]
  },
  {
   "attachments": {},
   "cell_type": "markdown",
   "metadata": {},
   "source": [
    "Probabilidade do candidadato passar \n",
    "\n",
    "$ P (acertar >= 5) - P(5) + P(6) + P(7) + P(8) + P(9) + P(10) $"
   ]
  },
  {
   "cell_type": "code",
   "execution_count": 21,
   "metadata": {},
   "outputs": [
    {
     "data": {
      "text/plain": [
       "0.21312808006909492"
      ]
     },
     "execution_count": 21,
     "metadata": {},
     "output_type": "execute_result"
    }
   ],
   "source": [
    "binom.pmf(5,n,p) + binom.pmf(6,n,p) + binom.pmf(7,n,p) + binom.pmf(8,n,p) + binom.pmf(9,n,p) + binom.pmf(10,n,p)"
   ]
  },
  {
   "cell_type": "code",
   "execution_count": 23,
   "metadata": {},
   "outputs": [
    {
     "data": {
      "text/plain": [
       "0.21312808006909492"
      ]
     },
     "execution_count": 23,
     "metadata": {},
     "output_type": "execute_result"
    }
   ],
   "source": [
    "binom.pmf([5,6,7,8,9,10],n,p).sum()\n"
   ]
  },
  {
   "cell_type": "code",
   "execution_count": 25,
   "metadata": {},
   "outputs": [
    {
     "data": {
      "text/plain": [
       "0.21312808006909523"
      ]
     },
     "execution_count": 25,
     "metadata": {},
     "output_type": "execute_result"
    }
   ],
   "source": [
    "1 - binom.cdf(4,n,p)"
   ]
  },
  {
   "cell_type": "code",
   "execution_count": 26,
   "metadata": {},
   "outputs": [
    {
     "data": {
      "text/plain": [
       "0.21312808006909525"
      ]
     },
     "execution_count": 26,
     "metadata": {},
     "output_type": "execute_result"
    }
   ],
   "source": [
    "binom.sf(4,n,p)"
   ]
  },
  {
   "attachments": {},
   "cell_type": "markdown",
   "metadata": {},
   "source": [
    "###  Gincana"
   ]
  },
  {
   "cell_type": "code",
   "execution_count": 36,
   "metadata": {},
   "outputs": [
    {
     "name": "stdout",
     "output_type": "stream",
     "text": [
      "Probabilidade:\t0.21284093952\n",
      "Equipes:\t6.3852281856\n"
     ]
    }
   ],
   "source": [
    "'''\n",
    "Uma gincana no qual a última ocorrência contou com uma participaçãop de 60% de mulheres.\n",
    "\n",
    "* Total de equipe desse ano com 12 integrantes inscrita é 30.\n",
    "\n",
    "Quantas equipes deverão ser formadas por 8 mulheres?\n",
    "'''\n",
    "\n",
    "p = 0.6\n",
    "\n",
    "n = 12 \n",
    "\n",
    "k = 8\n",
    "\n",
    "probabilidade = binom.pmf(k,n,p)\n",
    "\n",
    "equipes = 30 * probabilidade\n",
    "\n",
    "print(f'Probabilidade:\\t{probabilidade}\\nEquipes:\\t{equipes}')\n"
   ]
  },
  {
   "cell_type": "code",
   "execution_count": null,
   "metadata": {},
   "outputs": [],
   "source": []
  }
 ],
 "metadata": {
  "kernelspec": {
   "display_name": "Python 3",
   "language": "python",
   "name": "python3"
  },
  "language_info": {
   "codemirror_mode": {
    "name": "ipython",
    "version": 3
   },
   "file_extension": ".py",
   "mimetype": "text/x-python",
   "name": "python",
   "nbconvert_exporter": "python",
   "pygments_lexer": "ipython3",
   "version": "3.10.6"
  },
  "orig_nbformat": 4
 },
 "nbformat": 4,
 "nbformat_minor": 2
}
