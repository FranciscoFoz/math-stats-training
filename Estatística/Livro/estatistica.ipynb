{
 "cells": [
  {
   "attachments": {},
   "cell_type": "markdown",
   "metadata": {},
   "source": [
    "# Estatística"
   ]
  },
  {
   "attachments": {},
   "cell_type": "markdown",
   "metadata": {},
   "source": [
    "## 1. Análise exploratória\n",
    "\n",
    "A \"Análise Exploratória de Dados\", foi originada (formalmente) em 1977 com a publicação da obra \"Exploratory Data Analysis\", de John Tukey.\n",
    "\n",
    "Aliada a computação, com o desenvolvimento de novas tecnologias e maior uso de dados, a análise exploratória de dados evoluiu muito além de seu escopo original."
   ]
  },
  {
   "attachments": {},
   "cell_type": "markdown",
   "metadata": {},
   "source": [
    "### 1.1 Elementos de Dados Estruturados\n",
    "\n",
    "Os dados vêm de várias fontes: medições de sensores, eventos, texto, imagens e vídeos.\n",
    "\n",
    "O grande desafio da ciência de dados é transformar esse volume imenso de dados brutos, em informações acionáveis."
   ]
  },
  {
   "attachments": {},
   "cell_type": "markdown",
   "metadata": {},
   "source": [
    "TIPOS DE DADOS\n",
    "* Contínuo\n",
    "\n",
    "    Dados que podem assumir qualquer valor em um intervalo\n",
    "    \n",
    "* Discreto\n",
    "\n",
    "    Dados que podem assumir apenas valores inteiros, como contagens.\n",
    "\n",
    "* Categórico\n",
    "\n",
    "    Dados que podem assumir apenas um conjunto específico de valores que representam um conjunto de categorias possíveis.\n",
    "\n",
    "    * Binário\n",
    "\n",
    "        Um caso especial de dados categóricos com apenas duas categorias de valores (0/1, verdadeiro/falso).\n",
    "\n",
    "* Ordinal\n",
    "\n",
    "    Dados categóricos que possuem uma ordenação explícita.\n",
    "\n",
    "\n",
    "\n",
    "#### *Por que nos preocupamos com uma taxonomia de tipos de dados?*\n",
    "\n",
    "\n",
    "Para fins de análise de dados e modelagem preditiva, o tipo de dados é importante para ajudar a determinar o tipo de exibição\n",
    "visual, análise de dados ou modelo estatístico. \n",
    "\n",
    "Mais importante, o tipo de dados para uma variável determina como o software irá lidar com cálculos para aquela variável.\n"
   ]
  },
  {
   "attachments": {},
   "cell_type": "markdown",
   "metadata": {},
   "source": [
    "### 1.2 \"Dados Retangulares\"\n",
    "\n",
    "Os \"dados retangulares\" são essencialmente uma matriz bidimensional com linhas indicando registros (casos) e colunas indicando características (variáveis).\n"
   ]
  },
  {
   "attachments": {},
   "cell_type": "markdown",
   "metadata": {},
   "source": [
    "#### Data Frames e Índices\n",
    "\n",
    "Tabelas possuem índices, seja em um banco de dados ou uma estrutura em linguagem Python ou R.\n",
    "\n",
    "* Python - Pandas = DataFrame\n",
    "* R = data.frame\n",
    "\n",
    "#### Estruturas de dados não retangulares\n",
    "\n"
   ]
  },
  {
   "attachments": {},
   "cell_type": "markdown",
   "metadata": {},
   "source": [
    "Existem outras estruturas de dados além dos dados retangulares.\n",
    "\n",
    "* Estrutura de dados de séries temporais: medições sucessivas da mesma variável.\n",
    "* Estrutura de dados espaciais: mapeamento e na análise de localização (coordenadas). \n",
    "* Estruturas de dados de conexões (ou rede): são usadas para representar relacionamentos físicos, sociais e abstratos (redes sociais, centros de distribuição etc.). São úteis para certos tipos de problemas, como otimização de rede e sistemas de recomendação.\n",
    "\n",
    "**Cada um desses tipos de dados tem sua metodologia especializada em ciência de dados.**\n"
   ]
  },
  {
   "attachments": {},
   "cell_type": "markdown",
   "metadata": {},
   "source": [
    "### 1.3 Média, Moda e Mediana "
   ]
  },
  {
   "attachments": {},
   "cell_type": "markdown",
   "metadata": {},
   "source": [
    "#### Média\n",
    "\n",
    "Média: soma de todos os valores dividida pelo número de valores.\n",
    "Média aparada: média descartando valores extremos.\n",
    "Média ponderada: média que multiplica cada valor por um peso em específico.\n",
    "\n",
    "#### Moda\n",
    "Moda: valor que mais se repete em um conjunto.\n",
    "\n",
    "#### Mediana\n",
    "\n",
    "Mediana: o número do meio em uma lista classificada de dados.\n",
    "Mediana ponderada: mediana que multiplica cada valor por um peso em específico.\n",
    "\n"
   ]
  },
  {
   "attachments": {},
   "cell_type": "markdown",
   "metadata": {},
   "source": [
    "#### Outliers\n",
    "\n",
    "\"A definição exata de um outlier é um tanto subjetiva, embora certas convenções sejam usadas\n",
    "em vários resumos e gráficos de dados (quartis, boxplots)\"\n"
   ]
  },
  {
   "attachments": {},
   "cell_type": "markdown",
   "metadata": {},
   "source": [
    "### 1.4 Variabilidade "
   ]
  },
  {
   "attachments": {},
   "cell_type": "markdown",
   "metadata": {},
   "source": [
    "Também conhecida como dispersão, mede se os valores dos dados estão bem agrupados ou dispersos"
   ]
  },
  {
   "attachments": {},
   "cell_type": "markdown",
   "metadata": {},
   "source": [
    "#### Desvio médio absoluto\n",
    "\n",
    "Desvio médio absoluto: média da diferença entre cada dado e a média de todos os dados.\n",
    "\n",
    "#### Variância\n",
    "\n",
    "Variância: é a média dos desvios ao quadrado.\n",
    "\n",
    "#### Desvio padrão\n",
    "\n",
    "Desvio padrão: é a raiz quadrada da variância.\n",
    "\n",
    "    \"...matematicamente, trabalhar com valores ao quadrado é muito mais conveniente do que valores absolutos, especialmente para modelos estatísticos.\"\n",
    "\n",
    "### Desvio mediano absoluto\n",
    "Desvio mediano absoluto: mediana da diferença entre cada dado e a mmediana de todos os dados.\n",
    "\n",
    "    Consequentemente também existe a variância e desvio padrão medianos.\n",
    "\n",
    "    Mais utilizado para não incluir outliers"
   ]
  },
  {
   "attachments": {},
   "cell_type": "markdown",
   "metadata": {},
   "source": [
    "### 1.5 Explorando a distribuição de dados"
   ]
  },
  {
   "attachments": {},
   "cell_type": "markdown",
   "metadata": {},
   "source": [
    "* Percentis e Boxplot\n",
    "* Tabela de frequência\n",
    "* Histograma\n",
    "* Density plot\n"
   ]
  },
  {
   "attachments": {},
   "cell_type": "markdown",
   "metadata": {},
   "source": [
    "### 1.6 Explorando dados categóricos e binários"
   ]
  },
  {
   "attachments": {},
   "cell_type": "markdown",
   "metadata": {},
   "source": [
    "* Tabela de Frequência\n",
    "* Moda\n",
    "* \"Valor esperado\" (média ponderada)\n",
    "* Gráfico de Barras\n",
    "* Gráfico de setores\n"
   ]
  },
  {
   "attachments": {},
   "cell_type": "markdown",
   "metadata": {},
   "source": [
    "### 1.7 Correlação\n",
    "\n",
    "* Coeficiente de correlação\n",
    "* Matriz de correlação\n",
    "* Gráfico de dispersão"
   ]
  },
  {
   "attachments": {},
   "cell_type": "markdown",
   "metadata": {},
   "source": [
    "Pontos importantes da correlação:\n",
    "\n",
    "* O coeficiente de correlação mede até que ponto duas variáveis são associados um ao outro.\n",
    "* Quando valores altos de v1 vão com valores altos de v2, v1 e v2 são associados positivamente.\n",
    "* Quando valores altos de v1 estão associados a valores baixos de v2, v1 e v2 estão negativamente associados.\n",
    "* O coeficiente de correlação é uma métrica padronizada para que sempre varie de –1 (correlação negativa perfeita) a +1 (correlação positiva perfeita).\n",
    "* Um coeficiente de correlação de 0 indica nenhuma correlação, mas esteja ciente de que arranjos aleatórios de dados produzirão valores positivos e negativos para o coeficiente de correlação apenas por acaso."
   ]
  },
  {
   "attachments": {},
   "cell_type": "markdown",
   "metadata": {},
   "source": [
    "#### **Coeficiente de correlação**\n",
    "\n",
    "Mede até que ponto as variáveis numéricas estão associadas umas às outras (varia de –1 a +1).\n",
    "\n",
    "* Pearson\n",
    "* Spearman\n",
    "* Kendall"
   ]
  },
  {
   "attachments": {},
   "cell_type": "markdown",
   "metadata": {},
   "source": [
    "#### **Matriz de correlação**\n",
    "\n",
    "Tabela com os coeficientes de correlação entre variáveis"
   ]
  },
  {
   "attachments": {},
   "cell_type": "markdown",
   "metadata": {},
   "source": [
    "#### **Gráfico de dispersão**\n",
    "\n",
    "Gráfico onde o eixo x é uma variável e o eixo y é outra variável"
   ]
  },
  {
   "attachments": {},
   "cell_type": "markdown",
   "metadata": {},
   "source": [
    "#### Covariância\n",
    "\n",
    "É a medida do grau de interdependência (ou inter-relação) numérica entre duas variáveis."
   ]
  },
  {
   "attachments": {},
   "cell_type": "markdown",
   "metadata": {},
   "source": [
    "### 1.8 Explorando duas ou mais variáveis"
   ]
  },
  {
   "cell_type": "code",
   "execution_count": null,
   "metadata": {},
   "outputs": [],
   "source": []
  }
 ],
 "metadata": {
  "kernelspec": {
   "display_name": "Python 3",
   "language": "python",
   "name": "python3"
  },
  "language_info": {
   "codemirror_mode": {
    "name": "ipython",
    "version": 3
   },
   "file_extension": ".py",
   "mimetype": "text/x-python",
   "name": "python",
   "nbconvert_exporter": "python",
   "pygments_lexer": "ipython3",
   "version": "3.10.6"
  },
  "orig_nbformat": 4,
  "vscode": {
   "interpreter": {
    "hash": "916dbcbb3f70747c44a77c7bcd40155683ae19c65e1c03b4aa3499c5328201f1"
   }
  }
 },
 "nbformat": 4,
 "nbformat_minor": 2
}
