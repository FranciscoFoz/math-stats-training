{
 "cells": [
  {
   "attachments": {},
   "cell_type": "markdown",
   "metadata": {},
   "source": [
    "# Estatística"
   ]
  },
  {
   "attachments": {},
   "cell_type": "markdown",
   "metadata": {},
   "source": [
    "## 1. Análise exploratória\n",
    "\n",
    "A \"Análise Exploratória de Dados\", foi originada (formalmente) em 1977 com a publicação da obra \"Exploratory Data Analysis\", de John Tukey.\n",
    "\n",
    "Aliada a computação, com o desenvolvimento de novas tecnologias e maior uso de dados, a análise exploratória de dados evoluiu muito além de seu escopo original."
   ]
  },
  {
   "attachments": {},
   "cell_type": "markdown",
   "metadata": {},
   "source": [
    "### Elementos de Dados Estruturados\n",
    "\n",
    "Os dados vêm de várias fontes: medições de sensores, eventos, texto, imagens e vídeos.\n",
    "\n",
    "O grande desafio da ciência de dados é transformar esse volume imenso de dados brutos, em informações acionáveis."
   ]
  },
  {
   "attachments": {},
   "cell_type": "markdown",
   "metadata": {},
   "source": [
    "TIPOS DE DADOS\n",
    "* Contínuo\n",
    "\n",
    "    Dados que podem assumir qualquer valor em um intervalo\n",
    "    \n",
    "* Discreto\n",
    "\n",
    "    Dados que podem assumir apenas valores inteiros, como contagens.\n",
    "\n",
    "* Categórico\n",
    "\n",
    "    Dados que podem assumir apenas um conjunto específico de valores que representam um conjunto de categorias possíveis.\n",
    "\n",
    "    * Binário\n",
    "\n",
    "        Um caso especial de dados categóricos com apenas duas categorias de valores (0/1, verdadeiro/falso).\n",
    "\n",
    "* Ordinal\n",
    "\n",
    "    Dados categóricos que possuem uma ordenação explícita.\n",
    "\n",
    "\n",
    "\n",
    "#### *Por que nos preocupamos com uma taxonomia de tipos de dados?*\n",
    "\n",
    "\n",
    "Para fins de análise de dados e modelagem preditiva, o tipo de dados é importante para ajudar a determinar o tipo de exibição\n",
    "visual, análise de dados ou modelo estatístico. \n",
    "\n",
    "Mais importante, o tipo de dados para uma variável determina como o software irá lidar com cálculos para aquela variável.\n"
   ]
  },
  {
   "attachments": {},
   "cell_type": "markdown",
   "metadata": {},
   "source": [
    "### \"Dados Retangulares\"\n",
    "\n",
    "Os \"dados retangulares\" são essencialmente uma matriz bidimensional com linhas indicando registros (casos) e colunas indicando características (variáveis).\n"
   ]
  },
  {
   "attachments": {},
   "cell_type": "markdown",
   "metadata": {},
   "source": [
    "#### Data Frames e Índices\n",
    "\n",
    "Tabelas possuem índices, seja em um banco de dados ou uma estrutura em linguagem Python ou R.\n",
    "\n",
    "* Python - Pandas = DataFrame\n",
    "* R = data.frame\n",
    "\n",
    "#### Estruturas de dados não retangulares\n",
    "\n"
   ]
  },
  {
   "cell_type": "markdown",
   "metadata": {},
   "source": []
  }
 ],
 "metadata": {
  "kernelspec": {
   "display_name": "Python 3",
   "language": "python",
   "name": "python3"
  },
  "language_info": {
   "name": "python",
   "version": "3.10.6"
  },
  "orig_nbformat": 4,
  "vscode": {
   "interpreter": {
    "hash": "916dbcbb3f70747c44a77c7bcd40155683ae19c65e1c03b4aa3499c5328201f1"
   }
  }
 },
 "nbformat": 4,
 "nbformat_minor": 2
}
