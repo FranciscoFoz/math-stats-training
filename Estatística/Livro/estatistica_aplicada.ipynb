{
 "cells": [
  {
   "cell_type": "markdown",
   "metadata": {},
   "source": [
    "# Estatística aplicada - Ron Larson e Betsy Farber"
   ]
  },
  {
   "cell_type": "markdown",
   "metadata": {},
   "source": [
    "## 3. Probabilidade"
   ]
  },
  {
   "cell_type": "markdown",
   "metadata": {},
   "source": [
    "### 3.1 Conceitos básicos de probabilidade e contagem"
   ]
  },
  {
   "cell_type": "markdown",
   "metadata": {},
   "source": [
    "    - Definição:\n",
    "\n",
    "    Um experimento probabilístico é uma ação, ou tentativa sujeita à lei do acaso, pela qual resultados específicos (contagens, medições ou respostas) são obtidos. O produto de uma única tentativa em um experimento probabilístico é um resultado. O conjunto de todos os resultados possíveis de um experimento probabilístico é o espaço amostral. Um evento é um subconjunto do espaço amostral. Ele pode consistir em um ou mais resultados."
   ]
  },
  {
   "cell_type": "code",
   "execution_count": 12,
   "metadata": {},
   "outputs": [
    {
     "name": "stdout",
     "output_type": "stream",
     "text": [
      "\n",
      "    Espaço Amostral (S)\n",
      "       ----------------\n",
      "      | 1  |  2  |  3  |\n",
      "       ----------------\n",
      "      | 4  |  5  |  6  |\n",
      "       ----------------\n",
      "\n",
      "        Evento (E)\n",
      "        ---------\n",
      "        |   Cara   |\n",
      "        ---------\n",
      "        \n",
      "----------------------------------------------------------------------------------------------------\n",
      "\n",
      "    Espaço Amostral (S) - LANÇAMENTO DE UM DADO\n",
      "       ----------------\n",
      "      | 1  |  2  |  3  |\n",
      "       ----------------\n",
      "      | 4  |  5  |  6  |\n",
      "       ----------------\n",
      "\n",
      "    Evento (E) - PAR\n",
      "       ----------------\n",
      "      | 2  |  4  |  6  |\n",
      "       ----------------\n",
      "\n"
     ]
    }
   ],
   "source": [
    "exemplo_espaco_amostral_evento = '''\n",
    "    Espaço Amostral (S)\n",
    "       ----------------\n",
    "      | 1  |  2  |  3  |\n",
    "       ----------------\n",
    "      | 4  |  5  |  6  |\n",
    "       ----------------\n",
    "\n",
    "        Evento (E)\n",
    "        ---------\n",
    "        |   Cara   |\n",
    "        ---------\n",
    "        '''\n",
    "    \n",
    "exemplo2_espaco_amostral_evento = '''\n",
    "    Espaço Amostral (S) - LANÇAMENTO DE UM DADO\n",
    "       ----------------\n",
    "      | 1  |  2  |  3  |\n",
    "       ----------------\n",
    "      | 4  |  5  |  6  |\n",
    "       ----------------\n",
    "\n",
    "    Evento (E) - PAR\n",
    "       ----------------\n",
    "      | 2  |  4  |  6  |\n",
    "       ----------------\n",
    "'''\n",
    "print(exemplo_espaco_amostral_evento)\n",
    "print(100*'-')\n",
    "print(exemplo2_espaco_amostral_evento)"
   ]
  },
  {
   "cell_type": "markdown",
   "metadata": {},
   "source": [
    "    - O princípio fundamental da contagem:\n",
    "    \n",
    "    Se um evento pode ocorrer de m maneiras e um segundo evento pode ocorrer\n",
    "    de n maneiras, o número de maneiras que os dois eventos podem ocorrer em\n",
    "    sequên­cia é m # n. Essa regra pode ser estendida para qualquer número de\n",
    "    eventos ocorrendo em sequência."
   ]
  },
  {
   "cell_type": "code",
   "execution_count": 28,
   "metadata": {},
   "outputs": [
    {
     "name": "stdout",
     "output_type": "stream",
     "text": [
      "A quantidadede de variações de tipo combustivel é: 7\n",
      "A quantidadede de categorias é: 11\n",
      "A quantidadede de variacoes de cilindradas é: 13\n",
      "\n",
      "Portanto a quantidade de combinações diferentes é: 1001\n"
     ]
    }
   ],
   "source": [
    "import pandas as pd\n",
    "\n",
    "df = pd.read_csv('/home/franciscofoz/Documents/GitHub/math-stats-training/Datasets/car-price/car-price_formatado.csv')\n",
    "\n",
    "tipo_combustivel = df.tipo_combustivel.unique()\n",
    "categoria = df.categoria.unique()\n",
    "cilindradas = df.cilindradas.unique()\n",
    "\n",
    "print('A quantidadede de variações de tipo combustivel é:',len(tipo_combustivel))\n",
    "print('A quantidadede de categorias é:',len(categoria))\n",
    "print('A quantidadede de variacoes de cilindradas é:',len(cilindradas))\n",
    "\n",
    "\n",
    "print('\\nPortanto a quantidade de combinações diferentes é:',len(tipo_combustivel)*len(categoria)*len(cilindradas))\n"
   ]
  },
  {
   "cell_type": "markdown",
   "metadata": {},
   "source": [
    "#### -> Exercício: \n",
    "\n",
    "O código de acesso para o sistema de segurança de um carro consiste em quatro dígitos. Cada dígito pode ser qualquer número de 0 a 9.\n",
    "\n",
    "Quantos códigos de acesso são possíveis se:\n",
    "- 1. Cada dígito pode ser usado somente uma vez e não pode ser repetido?\n",
    "- 2. Cada dígito pode ser repetido?\n",
    "- 3. Cada dígito pode ser repetido, mas o primeiro dígito não pode ser 0\n",
    "ou 1?"
   ]
  },
  {
   "cell_type": "code",
   "execution_count": 33,
   "metadata": {},
   "outputs": [
    {
     "name": "stdout",
     "output_type": "stream",
     "text": [
      "1. A quantidade total de variações de código é: 5040\n",
      "1. A quantidade total de variações de código é: 10000\n",
      "1. A quantidade total de variações de código é: 8000\n"
     ]
    }
   ],
   "source": [
    "#1 \n",
    "digito_1 = 10\n",
    "digito_2 = 9\n",
    "digito_3 = 8\n",
    "digito_4 = 7\n",
    "\n",
    "print('1. A quantidade total de variações de código é:', digito_1 * digito_2 * digito_3 * digito_4)\n",
    "\n",
    "#2 \n",
    "digito_1 = 10\n",
    "digito_2 = 10\n",
    "digito_3 = 10\n",
    "digito_4 = 10\n",
    "\n",
    "print('1. A quantidade total de variações de código é:', digito_1 * digito_2 * digito_3 * digito_4)\n",
    "\n",
    "#3 \n",
    "digito_1 = 8\n",
    "digito_2 = 10\n",
    "digito_3 = 10\n",
    "digito_4 = 10\n",
    "\n",
    "print('1. A quantidade total de variações de código é:', digito_1 * digito_2 * digito_3 * digito_4)"
   ]
  },
  {
   "cell_type": "code",
   "execution_count": 35,
   "metadata": {},
   "outputs": [
    {
     "name": "stdout",
     "output_type": "stream",
     "text": [
      "1. A quantidade total de variações de código é: 5040\n",
      "2. A quantidade total de variações de código é: 10000\n",
      "3. A quantidade total de variações de código é: 8000\n"
     ]
    }
   ],
   "source": [
    "from scipy.special import perm\n",
    "\n",
    "# 1. \n",
    "resposta_1 = perm(10, 4,exact=True)\n",
    "\n",
    "# 2. \n",
    "resposta_2 = 10 ** 4\n",
    "\n",
    "# 3.\n",
    "resposta_3 = 8 * (10 ** 3)\n",
    "\n",
    "print(\"1. A quantidade total de variações de código é:\", resposta_1)\n",
    "print(\"2. A quantidade total de variações de código é:\", resposta_2)\n",
    "print(\"3. A quantidade total de variações de código é:\", resposta_3)"
   ]
  },
  {
   "cell_type": "markdown",
   "metadata": {},
   "source": [
    "#### -> Exercício: \n",
    "\n",
    "Quantas placas de automóvel você pode formar, se cada placa con­siste em:\n",
    "\n",
    "1. Seis (de 26) letras do alfabeto, cada uma podendo ser repetida?\n",
    "2. Seis (de 26) letras do alfabeto, cada uma não podendo ser repetida?\n",
    "3. Seis (de 26) letras do alfabeto, cada letra podendo ser repetida, mas\n",
    "a primeira não pode ser A, B, C ou D?\n"
   ]
  },
  {
   "cell_type": "code",
   "execution_count": 48,
   "metadata": {},
   "outputs": [
    {
     "name": "stdout",
     "output_type": "stream",
     "text": [
      "1. A quantidade de variações de placas são: 308915776\n",
      "2. A quantidade de variações de placas são: 165765600\n",
      "3. A quantidade de variações de placas são: 285153024\n"
     ]
    }
   ],
   "source": [
    "from scipy.special import perm\n",
    "\n",
    "# 1. \n",
    "resposta_1 = 26**6\n",
    "\n",
    "# 2. \n",
    "resposta_2 = perm(26, 6,exact=True)\n",
    "\n",
    "# 3. \n",
    "resposta_3 = 24 * (26**5)\n",
    "\n",
    "print(\"1. A quantidade de variações de placas são:\", resposta_1)\n",
    "print(\"2. A quantidade de variações de placas são:\", resposta_2)\n",
    "print(\"3. A quantidade de variações de placas são:\", resposta_3)\n"
   ]
  },
  {
   "cell_type": "markdown",
   "metadata": {},
   "source": [
    "### Tipos de probabilidade"
   ]
  },
  {
   "cell_type": "markdown",
   "metadata": {},
   "source": [
    "Há três tipos:\n",
    "* probabilidade clássica\n",
    "* probabilidade empírica e\n",
    "* probabilidade subjetiva."
   ]
  },
  {
   "cell_type": "markdown",
   "metadata": {},
   "source": [
    "#### Probabilidade clássica\n",
    "\n",
    "1. Probabilidade clássica (ou teórica) é usada quando cada resultado em um espaço amostral é igualmente possível de ocorrer.\n",
    "A probabilidade clássica para um evento E é dada por:\n",
    "\n",
    "$$ P(E) = \\frac{NúmeroDeResultadosNoEventoE}{NúmeroTotalDeResultadosNoEspaçoAmostral} $$"
   ]
  },
  {
   "cell_type": "markdown",
   "metadata": {},
   "source": [
    "a) Você joga um dado de seis faces. Calcule a probabilidade de cada\n",
    "evento.\n",
    "1. Evento A: sair um 3.\n",
    "2. Evento B: sair um 7.\n",
    "3. Evento C: sair um número menor que 5."
   ]
  },
  {
   "cell_type": "code",
   "execution_count": 3,
   "metadata": {},
   "outputs": [
    {
     "name": "stdout",
     "output_type": "stream",
     "text": [
      "0.16666666666666666\n",
      "0.0\n",
      "0.6666666666666666\n"
     ]
    }
   ],
   "source": [
    "#1.as_integer_ratio\n",
    "respostas = [1/6, 0/6, 4/6]\n",
    "\n",
    "for resposta in respostas:\n",
    "    print(resposta)"
   ]
  },
  {
   "cell_type": "markdown",
   "metadata": {},
   "source": [
    "b) Você seleciona uma carta de um baralho normal"
   ]
  },
  {
   "cell_type": "markdown",
   "metadata": {},
   "source": [
    "![Alt text](image.png)"
   ]
  },
  {
   "cell_type": "markdown",
   "metadata": {},
   "source": [
    "1. Evento D: selecionar o nove de paus.\n",
    "\n",
    "2. Evento E: selecionar uma carta de ouros.\n",
    "\n",
    "3. Evento F: selecionar uma carta de ouros, copas, paus ou espadas.\n",
    "\n",
    "a. Identificar o número total de resultados do espaço amostral.\n",
    "b. Calcular o número de resultados do evento.\n",
    "c. Determinar a probabilidade clássica do evento."
   ]
  },
  {
   "cell_type": "code",
   "execution_count": 7,
   "metadata": {},
   "outputs": [
    {
     "name": "stdout",
     "output_type": "stream",
     "text": [
      "0.019230769230769232\n",
      "0.25\n",
      "1\n"
     ]
    }
   ],
   "source": [
    "'''\n",
    "a) Espaço amostral: 52,4,52\n",
    "b) Resultados do evento: 1,1,52\n",
    "c)\n",
    "'''\n",
    "\n",
    "\n",
    "respostas = [(1/4)*(1/13),(1/4),52/52]\n",
    "\n",
    "_ = [print(resposta) for resposta in respostas]"
   ]
  },
  {
   "cell_type": "markdown",
   "metadata": {},
   "source": [
    "#### Probabilidade empírica\n",
    "\n",
    "1. Probabilidade empírica (ou estatística) é baseada em observações obtidas de experimentos probabilísticos. A probabilidade empírica de um evento E é a frequência relativa do evento E.\n",
    "\n",
    "$$ P(E) = \\frac{FrequênciaDoEventoE}{FrequênciaTotal} $$\n",
    "\n",
    "    Quando um experimento é repetido muitas vezes, são formados padrões regulares. Esses padrões permitem encontrar a probabilidade empírica, a  qual pode ser usada mesmo quando cada resultado de um evento não é igualmente provável de ocorrer."
   ]
  },
  {
   "cell_type": "markdown",
   "metadata": {},
   "source": [
    "Uma companhia de seguro descobre que, de cada 100 reclamações, 4 são fraudulentas.\n",
    "Qual é a probabilidade de que a próxima reclamação recebida pela empresa seja fraudulenta?\n",
    "\n",
    "\n",
    "a. Identifique o evento e encontre sua frequência.\n",
    "b. Calcule a frequência total para o experimento.\n",
    "c. Determine a probabilidade empírica do evento."
   ]
  },
  {
   "cell_type": "code",
   "execution_count": 5,
   "metadata": {},
   "outputs": [
    {
     "name": "stdout",
     "output_type": "stream",
     "text": [
      "A probabilidade é de:  0.04 ou  4.0 %\n"
     ]
    }
   ],
   "source": [
    "a = 4\n",
    "b = 100\n",
    "c = 4/100\n",
    "\n",
    "print('A probabilidade é de: ', c, 'ou ', c*100,'%')"
   ]
  },
  {
   "cell_type": "markdown",
   "metadata": {},
   "source": [
    "    Conforme aumenta o número de vezes que um experimento proba­bilístico é repetido, a probabilidade empírica (frequência relativa) de um evento aproxima-se de sua probabilidade teórica. Isso é conhecido como lei dos grandes números."
   ]
  },
  {
   "cell_type": "markdown",
   "metadata": {},
   "source": [
    "#### Probabilidade subjetiva\n",
    "\n",
    "O terceiro tipo de probabilidade é a probabilidade subjetiva, que\n",
    "resulta de conjeturas e de estimativas por intuição. Por exemplo, dada\n",
    "a saúde de um paciente e a extensão dos ferimentos, um médico pode\n",
    "sentir que o paciente tem 90% de chance de recuperação total. Ou um\n",
    "analista de negócios pode prever que a chance de os funcionários de\n",
    "certa empresa entrarem em greve é de 0,25."
   ]
  },
  {
   "cell_type": "markdown",
   "metadata": {},
   "source": [
    "    Uma probabilidade não pode ser negativa ou maior que 1, conforme estabelecido na regra a seguir.\n",
    "    Quando a probabilidade de um evento é 1, é certa a ocorrência do evento. Quando a probabilidade de um evento é 0, o evento é impossí­vel. \n",
    "    Uma probabilidade de 0,5 indica que um evento tem uma chanceigual de ocorrer ou não ocorrer."
   ]
  },
  {
   "cell_type": "markdown",
   "metadata": {},
   "source": [
    "### Eventos complementares"
   ]
  },
  {
   "cell_type": "markdown",
   "metadata": {},
   "source": [
    "A soma das probabilidades de todos os resultados em um espaço amostral é 1 ou 100%.\n",
    "\n",
    "Um resultado importante desse fato é que, quan­do sabemos a probabilidade de um evento E, podemos encontrar a pro­ babilidade do complemento do evento E.\n",
    "\n",
    "\n",
    "O complemento do evento E é o conjunto de todos os resultados em um espaço amostral que não estão incluídos no evento E. \n",
    "\n",
    "O complemento do evento E é denotado por E ′ e é lido como “E linha”."
   ]
  },
  {
   "attachments": {
    "image.png": {
     "image/png": "[encoded data removed]"
    }
   },
   "cell_type": "markdown",
   "metadata": {},
   "source": [
    "Por exemplo, quando você jogar um dado e, sendo E o evento “o número é ao menos 5”, o complemento de E é o evento “o número é menor que 5”.\n",
    "\n",
    "Em símbolos, E = {5, 6} e E′ = {1, 2, 3, 4}.\n",
    "\n",
    "Usando a definição do complemento de um evento e o fato de a soma das probabilidades de todos os resultados ser 1, pode-se escrever\n",
    "que:\n",
    "\n",
    "![image.png](attachment:image.png)"
   ]
  },
  {
   "cell_type": "markdown",
   "metadata": {},
   "source": [
    "### Aplicações da probabilidade"
   ]
  },
  {
   "cell_type": "markdown",
   "metadata": {},
   "source": [
    "Determine a probabilidade de sair uma coroa e um número menor que 6.\n",
    "\n",
    "a. Determine o número de resultados no evento.\n",
    "\n",
    "b. Calcule a probabilidade do evento."
   ]
  },
  {
   "cell_type": "code",
   "execution_count": 6,
   "metadata": {},
   "outputs": [
    {
     "name": "stdout",
     "output_type": "stream",
     "text": [
      "A probabilidade é de 31.25%.\n"
     ]
    }
   ],
   "source": [
    "a = 5\n",
    "b = 16\n",
    "prob = 5/16\n",
    "\n",
    "print(f'A probabilidade é de {prob * 100}%.')"
   ]
  },
  {
   "cell_type": "markdown",
   "metadata": {},
   "source": [
    "Seu número de identificação na faculdade consiste em 9 dígitos. \n",
    "\n",
    "Os dois primeiros dígitos de cada número serão os dois últimos dígitos do ano previsto para sua graduação.\n",
    "\n",
    "Os outros dígitos podem ser quaisquer números de 0 a 9 e cada dígito pode ser repetido.\n",
    "\n",
    "Qual é a probabilidade de você obter seu número de identificação quando geramos aleatoria­mente os outros sete dígitos?\n",
    "\n",
    "\n",
    "    a. Calcule o número total de possíveis números de identificação.\n",
    "\n",
    "    b. Determine a probabilidade de gerar aleatoriamente seu número de identificação.'"
   ]
  },
  {
   "cell_type": "code",
   "execution_count": 9,
   "metadata": {},
   "outputs": [
    {
     "name": "stdout",
     "output_type": "stream",
     "text": [
      "A probabilidade é de 9.999999999999999e-06%\n"
     ]
    }
   ],
   "source": [
    "a = 10 **7\n",
    "b = 1/a\n",
    "print(f'A probabilidade é de {b*100}%') "
   ]
  },
  {
   "cell_type": "markdown",
   "metadata": {},
   "source": [
    "### 3.2 Probabilidade condicional e a regra da multiplicação"
   ]
  },
  {
   "cell_type": "markdown",
   "metadata": {},
   "source": [
    "Nesta seção, você aprenderá como encontrar a probabilidade de dois eventos ocorrerem em sequência. \n",
    "\n",
    "Antes que você possa encontrar essa probabilidade, entretanto, você deve saber como encontrar probabilidades condicionais."
   ]
  },
  {
   "cell_type": "markdown",
   "metadata": {},
   "source": [
    "    Uma probabilidade condicional é a probabilidade de um evento ocorrer, dado que outro evento já tenha ocorrido. A probabilidade condicional de o evento B ocorrer, dado que o evento A tenha ocorrido, é denotada por P (B |A) e lê-se “probabilidade de B, dado A”."
   ]
  },
  {
   "cell_type": "markdown",
   "metadata": {},
   "source": [
    "#### Eventos independentes e dependentes"
   ]
  },
  {
   "cell_type": "markdown",
   "metadata": {},
   "source": [
    "Em alguns experimentos, um evento não afeta a probabilidade de ou­ tro.\n",
    "Por exemplo, quando você joga um dado e uma moeda, o resultado do dado não afeta a probabilidade de sair cara na moeda.\n",
    "Esses dois eventos são independentes. \n",
    "A questão da independência de dois ou mais eventos é importante para pesquisadores em áreas como marketing, medicina e psicologia.\n",
    "\n",
    "Você pode usar probabilidades condicionais para determinar se os eventos são independentes."
   ]
  },
  {
   "cell_type": "markdown",
   "metadata": {},
   "source": [
    "    Para determinar se A e B são independentes, primeiro calcule P(B), a probabilidade do evento B.\n",
    "    Então, calcule P(B|A), a probabilidade de B, dado A.\n",
    "    Se os valores forem iguais, os eventos são independentes. \n",
    "    Se P(B) Z P(B|A), então A e B são eventos dependentes."
   ]
  },
  {
   "cell_type": "markdown",
   "metadata": {},
   "source": [
    "#### A regra da multiplicação"
   ]
  },
  {
   "cell_type": "markdown",
   "metadata": {},
   "source": [
    "Para encontrar a probabilidade de dois eventos ocorrendo em se­\n",
    "quên­cia, podemos usar a regra da multiplicação."
   ]
  },
  {
   "cell_type": "markdown",
   "metadata": {},
   "source": []
  },
  {
   "cell_type": "markdown",
   "metadata": {},
   "source": [
    "### 3.3 A regra da adição"
   ]
  },
  {
   "cell_type": "markdown",
   "metadata": {},
   "source": [
    "#### Eventos mutuamente exclusivos"
   ]
  },
  {
   "cell_type": "markdown",
   "metadata": {},
   "source": [
    "Na Seção 3.2, aprendemos como encontrar a probabilidade de dois even­tos A e B, ocorrendo em sequência.\n",
    "Tais probabilidades são denotadas por P(A e B). \n",
    "\n",
    "Nesta seção, aprenderemos como encontrar a probabilidade de que ao menos um de dois eventos ocorra.\n",
    "\n",
    "Probabilidades como essas são deno­tadas por P(A ou B), e dependem se os eventos são mutuamente exclusivos."
   ]
  },
  {
   "cell_type": "markdown",
   "metadata": {},
   "source": [
    "Em palavras, para encontrar a probabilidade de um evento ou o outro ocorrer, some as probabilidades individuais de cada evento e subtraia a\n",
    "probabilidade de ambos ocorrerem simultaniamente.\n",
    "\n",
    "$P(A ou B) = P(A) + P(B) - P(A-B)$"
   ]
  },
  {
   "cell_type": "markdown",
   "metadata": {},
   "source": [
    "Usando a regra da soma para encontrar probabilidades"
   ]
  },
  {
   "cell_type": "markdown",
   "metadata": {},
   "source": [
    "### 3.4 Tópicos adicionais sobre probabilidade e contagem"
   ]
  },
  {
   "cell_type": "markdown",
   "metadata": {},
   "source": [
    "#### Permutações"
   ]
  },
  {
   "cell_type": "markdown",
   "metadata": {},
   "source": [
    "Uma permutação é um arranjo ordenado de objetos. O número de diferentes\n",
    "permutações de n objetos distintos é n!."
   ]
  },
  {
   "cell_type": "markdown",
   "metadata": {},
   "source": [
    "Os times femininos de hóquei que se classificaram para as Olimpía­ das de 2014 foram: Canadá, Finlândia, Alemanha, Japão, Rússia, Sué­cia, Suíça e Estados Unidos. Quantas classificações finais diferentes são possíveis?\n",
    "\n",
    "a. Identifique o número total de objetos n.\n",
    "\n",
    "b. Calcule n!."
   ]
  },
  {
   "cell_type": "code",
   "execution_count": 3,
   "metadata": {},
   "outputs": [
    {
     "name": "stdout",
     "output_type": "stream",
     "text": [
      "fatorial = 40320\n"
     ]
    },
    {
     "data": {
      "text/plain": [
       "40320"
      ]
     },
     "execution_count": 3,
     "metadata": {},
     "output_type": "execute_result"
    }
   ],
   "source": [
    "a = 8\n",
    "fatorial = 8*7*6*5*4*3*2*1\n",
    "print('fatorial =',fatorial)\n",
    "\n",
    "import math\n",
    "\n",
    "math.factorial(a)"
   ]
  },
  {
   "cell_type": "markdown",
   "metadata": {},
   "source": [
    "Você pode querer escolher alguns objetos (r dos n) em um grupo e\n",
    "colocá-los em ordem. Tal ordenação é chamada de arranjo de n objetos\n",
    "tomados r a r."
   ]
  },
  {
   "cell_type": "markdown",
   "metadata": {},
   "source": [
    "Arranjo de $n$ objetos tomatos $r$ a $r$.\n",
    "\n",
    "$$ A_{nr} = \\frac{n!}{(n-r!)} $$"
   ]
  },
  {
   "cell_type": "markdown",
   "metadata": {},
   "source": [
    "Encontre o número de maneiras de formar códigos de quatro dígitos em que nenhum dígito é repetido.\n",
    "\n",
    "\n",
    "Solução: $ \\frac{10!}{(10-4!)} $"
   ]
  },
  {
   "cell_type": "markdown",
   "metadata": {},
   "source": [
    "Você pode querer ordenar um grupo de n objetos sendo que alguns de­\n",
    "les são os mesmos. Por exemplo, considere o grupo de letras AAAABBC.\n",
    "Esse grupo tem quatro As, dois Bs e um C. De quantas maneiras você pode\n",
    "ordenar tal grupo? Usando a fórmula An,r, você pode concluir que há A7,7 = 7!\n",
    "ordens possíveis. Entretanto, como alguns objetos são os mesmos, nem to­\n",
    "dos esses arranjos3 são distinguíveis. Quantas permutações distinguíveis\n",
    "são possíveis? A resposta pode ser encontrada usando a fórmula da per-\n",
    "mutação com elementos repetidos."
   ]
  },
  {
   "cell_type": "markdown",
   "metadata": {},
   "source": [
    "**Permutação com elementos repetidos**\n",
    "\n",
    "O número de permutações com elementos repetidos de n objetos, em que\n",
    "n1 são de um tipo, n2 de outro tipo, e assim por diante, é:\n",
    "\n",
    "\n",
    "\n",
    "$$ \\frac{n!}{n_1! * n_2! * n_3!...n_k!} $$"
   ]
  },
  {
   "cell_type": "markdown",
   "metadata": {},
   "source": [
    "#### Combinações"
   ]
  },
  {
   "cell_type": "markdown",
   "metadata": {},
   "source": [
    "**Combinação de n objetos tomados r a r**\n",
    "\n",
    "O número de combinações de r objetos selecionados de um grupo de n obje-\n",
    "tos sem considerar a ordem é:\n",
    "\n",
    "$$C_{nr} = \\frac{n!}{(n - r)!*r}! $$"
   ]
  },
  {
   "cell_type": "markdown",
   "metadata": {},
   "source": [
    "## 4. Distribuições discretas de probabilidade"
   ]
  },
  {
   "cell_type": "markdown",
   "metadata": {},
   "source": [
    "### 4.1 Distribuições de probabilidade"
   ]
  },
  {
   "cell_type": "markdown",
   "metadata": {},
   "source": [
    "#### Variáveis aleatórias"
   ]
  },
  {
   "cell_type": "markdown",
   "metadata": {},
   "source": [
    "Uma variável aleatória x representa um valor numérico associado a cada resultado de um experimento probabilístico (ou aleatório).\n",
    "\n",
    "A palavra aleatória indica que x é determinado em função de um objeto escolhido ao acaso.\n",
    "\n",
    "Há dois tipos de variáveis aleatórias: discreta e contínua."
   ]
  },
  {
   "cell_type": "markdown",
   "metadata": {},
   "source": [
    "#### Distribuições discretas de probabilidade"
   ]
  },
  {
   "cell_type": "markdown",
   "metadata": {},
   "source": [
    "Uma distribuição discreta de probabilidade lista cada valor possível que a variável aleatória pode assumir, com sua respectiva probabilidade."
   ]
  },
  {
   "cell_type": "markdown",
   "metadata": {},
   "source": [
    "Como probabilidades podem ser indicadas por frequências relativas,\n",
    "uma distribuição de probabilidades discreta pode ser representada grafi-\n",
    "camente em um histograma de frequência relativa (matematicamente, o\n",
    "usual é um gráfico de barras ou segmentos verticais)."
   ]
  },
  {
   "cell_type": "markdown",
   "metadata": {},
   "source": [
    "#### Média, variância e desvio padrão"
   ]
  },
  {
   "cell_type": "markdown",
   "metadata": {},
   "source": [
    "A média de uma variável aleatória discreta é dada por:\n",
    "\n",
    "$$ \\mu = \\Sigma xP(x) $$"
   ]
  },
  {
   "cell_type": "markdown",
   "metadata": {},
   "source": [
    "#### Variância e desvio padrão de uma variável aleatória discreta\n",
    "\n",
    "Variância:\n",
    "\n",
    "$$ \\sigma^2 = (\\Sigma x^2P(x)) - \\mu^2 $$\n",
    "\n",
    "\n",
    "Desvio Padrão:\n",
    "\n",
    "$$ \\sigma = \\sqrt{\\sigma^2}  = \\sqrt{\\Sigma(x - \\mu)^2P(x)} $$"
   ]
  },
  {
   "cell_type": "markdown",
   "metadata": {},
   "source": [
    "#### Valor esperado"
   ]
  },
  {
   "cell_type": "markdown",
   "metadata": {},
   "source": [
    "A média de uma variável aleatória representa o que você esperaria\n",
    "acontecer com a média de milhares de testes (população). Ela também é\n",
    "chamada de valor esperado."
   ]
  },
  {
   "cell_type": "markdown",
   "metadata": {},
   "source": [
    "### 4.2 Distribuições binomiais"
   ]
  },
  {
   "cell_type": "markdown",
   "metadata": {},
   "source": [
    "#### Experimentos binomiais\n",
    "\n",
    "Há muitos experimentos probabilísticos para os quais os resultados de cada tentativa podem ser reduzidos a dois resultados: sucesso e fracasso.\n",
    "Por exemplo, quando um jogador de basquete tenta um lance livre, ele pode fazer a cesta ou não. Experimentos de probabilidade como esses são\n",
    "chamados de experimentos binomiais."
   ]
  },
  {
   "cell_type": "markdown",
   "metadata": {},
   "source": [
    "Um experimento binomial é um experimento probabilístico que satisfaz as seguintes condições:\n",
    "\n",
    "1. O experimento tem um número fixo de tentativas, em que cada tentativa é independente das outras.\n",
    "2. Há apenas dois resultados possíveis para cada tentativa, que podem ser classificados como sucesso (S) ou fracasso (F).\n",
    "3. A probabilidade de um sucesso é a mesma para cada tentativa.\n",
    "4. A variável aleatória x conta o número de tentativas com sucesso."
   ]
  },
  {
   "attachments": {
    "image.png": {
     "image/png": "[encoded data removed]"
    }
   },
   "cell_type": "markdown",
   "metadata": {},
   "source": [
    "![image.png](attachment:image.png)"
   ]
  },
  {
   "cell_type": "markdown",
   "metadata": {},
   "source": [
    "#### Determinando probabilidades binomiais"
   ]
  },
  {
   "cell_type": "markdown",
   "metadata": {},
   "source": [
    "Os resultados de uma pesquisa recente indicam que 67% dos adultos americanos consideram o ar-condicionado uma necessidade.\n",
    "\n",
    "Você seleciona aleatoriamente 100 adultos. Qual é a probabilidade de que exatamente 75 adultos considerem o ar-condicionado uma necessidade?\n",
    "Use uma ferramenta tecnológica para encontrar a probabilidade. (Fonte:Opinion Research Company.)"
   ]
  },
  {
   "cell_type": "code",
   "execution_count": 1,
   "metadata": {},
   "outputs": [],
   "source": [
    "from scipy.stats import binom"
   ]
  },
  {
   "cell_type": "code",
   "execution_count": 2,
   "metadata": {},
   "outputs": [
    {
     "data": {
      "text/plain": [
       "0.020100411631154308"
      ]
     },
     "execution_count": 2,
     "metadata": {},
     "output_type": "execute_result"
    }
   ],
   "source": [
    "binom.pmf(75,100,0.67)"
   ]
  },
  {
   "cell_type": "markdown",
   "metadata": {},
   "source": [
    "#### Representando graficamente distribuições binomiais\n"
   ]
  },
  {
   "cell_type": "markdown",
   "metadata": {},
   "source": [
    "Um estudo recente descobriu que 19% das pessoas (com idades acima de 16 anos) nos Estados Unidos possuem um leitor de livros digitais.\n",
    "\n",
    "Você seleciona aleatoriamente 4 pessoas (com idades acima de 16 anos) e pergunta se elas possuem um leitor de livros digitais. \n",
    "\n",
    "Construa uma distribuição de probabilidade para a variável aleatória x. \n",
    "\n",
    "Depois, represente-a graficamente. \n",
    "(Fonte: Pew Internet & American Life Project.)\n",
    "\n",
    "--\n",
    "\n",
    "a. Determine a probabilidade binomial para cada valor da variável aleatória x.\n",
    "\n",
    "b. Organize os valores de x e as probabilidades correspondentes em uma tabela.\n",
    "\n",
    "c. Use um histograma para representar graficamente a distribuição binomial. Descreva seu formato.\n",
    "\n",
    "d. Algum dos eventos é incomum? Explique."
   ]
  },
  {
   "cell_type": "code",
   "execution_count": 75,
   "metadata": {},
   "outputs": [],
   "source": [
    "from scipy.stats import binom\n",
    "import pandas as pd\n",
    "import seaborn as sns\n",
    "import matplotlib.pyplot as plt\n",
    "\n",
    "#pmf(x, n, p, loc=0)\tProbability mass function.\n",
    "# https://docs.scipy.org/doc/scipy/reference/generated/scipy.stats.binom.html"
   ]
  },
  {
   "cell_type": "code",
   "execution_count": 39,
   "metadata": {},
   "outputs": [],
   "source": [
    "n = 4\n",
    "p = 0.19\n",
    "x = range(0,5)"
   ]
  },
  {
   "cell_type": "code",
   "execution_count": 40,
   "metadata": {},
   "outputs": [
    {
     "data": {
      "text/html": [
       "<div>\n",
       "<style scoped>\n",
       "    .dataframe tbody tr th:only-of-type {\n",
       "        vertical-align: middle;\n",
       "    }\n",
       "\n",
       "    .dataframe tbody tr th {\n",
       "        vertical-align: top;\n",
       "    }\n",
       "\n",
       "    .dataframe thead th {\n",
       "        text-align: right;\n",
       "    }\n",
       "</style>\n",
       "<table border=\"1\" class=\"dataframe\">\n",
       "  <thead>\n",
       "    <tr style=\"text-align: right;\">\n",
       "      <th></th>\n",
       "      <th>x</th>\n",
       "      <th>p(x)</th>\n",
       "    </tr>\n",
       "  </thead>\n",
       "  <tbody>\n",
       "    <tr>\n",
       "      <th>0</th>\n",
       "      <td>0</td>\n",
       "      <td>0.430467</td>\n",
       "    </tr>\n",
       "    <tr>\n",
       "      <th>1</th>\n",
       "      <td>1</td>\n",
       "      <td>0.403895</td>\n",
       "    </tr>\n",
       "    <tr>\n",
       "      <th>2</th>\n",
       "      <td>2</td>\n",
       "      <td>0.142111</td>\n",
       "    </tr>\n",
       "    <tr>\n",
       "      <th>3</th>\n",
       "      <td>3</td>\n",
       "      <td>0.022223</td>\n",
       "    </tr>\n",
       "    <tr>\n",
       "      <th>4</th>\n",
       "      <td>4</td>\n",
       "      <td>0.001303</td>\n",
       "    </tr>\n",
       "  </tbody>\n",
       "</table>\n",
       "</div>"
      ],
      "text/plain": [
       "   x      p(x)\n",
       "0  0  0.430467\n",
       "1  1  0.403895\n",
       "2  2  0.142111\n",
       "3  3  0.022223\n",
       "4  4  0.001303"
      ]
     },
     "execution_count": 40,
     "metadata": {},
     "output_type": "execute_result"
    }
   ],
   "source": [
    "x_lista = []\n",
    "p_lista = []\n",
    "for i in x:\n",
    "    x_lista.append(i)\n",
    "    p_lista.append(binom.pmf(i,n,p))\n",
    "    \n",
    "t_prob = pd.DataFrame({'x':x_lista,'p(x)':p_lista})\n",
    "t_prob"
   ]
  },
  {
   "cell_type": "code",
   "execution_count": 77,
   "metadata": {},
   "outputs": [
    {
     "data": {
      "image/png": "[encoded data removed]",
      "text/plain": [
       "<Figure size 432x288 with 1 Axes>"
      ]
     },
     "metadata": {},
     "output_type": "display_data"
    }
   ],
   "source": [
    "sns.barplot(x='x', y='p(x)', color='blue',data=t_prob)\n",
    "\n",
    "plt.xlabel('x')\n",
    "plt.ylabel('p(x)')\n",
    "plt.title('Histograma da Tabela')\n",
    "\n",
    "plt.show()\n"
   ]
  },
  {
   "cell_type": "markdown",
   "metadata": {},
   "source": [
    "#### Média, variância e desvio padrão"
   ]
  },
  {
   "attachments": {
    "image.png": {
     "image/png": "[encoded data removed]"
    }
   },
   "cell_type": "markdown",
   "metadata": {},
   "source": [
    "![image.png](attachment:image.png)"
   ]
  },
  {
   "cell_type": "markdown",
   "metadata": {},
   "source": [
    "Em São Francisco, Califórnia, cerca de 44% dos dias em um ano apresentam tempo limpo. \n",
    "\n",
    "Calcule a média, a variância e o desvio padrão para o número de dias limpos durante o mês de maio.\n",
    "\n",
    "Interprete os resultados e determine quaisquer valores incomuns.\n",
    "(Fonte: National Climatic Data Center.)\n",
    "\n",
    "\n",
    "a. Identifique o evento sucesso e os valores de n, p e q.\n",
    "\n",
    "b. Determine o produto de n e p para calcular a média.\n",
    "\n",
    "c. Determine o produto de n, p e q para calcular a variância.\n",
    "\n",
    "d. Determine a raiz quadrada da variância para calcular o desvio padrão.\n",
    "\n",
    "e. Interprete os resultados.\n",
    "\n",
    "f. Determine quaisquer eventos incomuns."
   ]
  },
  {
   "cell_type": "code",
   "execution_count": 92,
   "metadata": {},
   "outputs": [
    {
     "name": "stdout",
     "output_type": "stream",
     "text": [
      "Média: 13.2\n",
      "Variância: 7.392\n",
      "Desvio Padrão: 2.718823274874629\n"
     ]
    }
   ],
   "source": [
    "n = 30\n",
    "p = 0.44\n",
    "\n",
    "dist_binomial = binom(n, p)\n",
    "\n",
    "media = dist_binomial.mean()\n",
    "variancia = dist_binomial.var()\n",
    "desvio_padrao = dist_binomial.std()\n",
    "\n",
    "# Imprima os resultados\n",
    "print(\"Média:\", media)\n",
    "print(\"Variância:\", variancia)\n",
    "print(\"Desvio Padrão:\", desvio_padrao)\n"
   ]
  },
  {
   "cell_type": "code",
   "execution_count": 96,
   "metadata": {},
   "outputs": [
    {
     "name": "stdout",
     "output_type": "stream",
     "text": [
      "Limite inferior:  7.762353450250742\n",
      "Limite superior:  18.637646549749256\n"
     ]
    }
   ],
   "source": [
    "print('Limite inferior: ',media - 2*desvio_padrao)\n",
    "print('Limite superior: ',media + 2*desvio_padrao)\n"
   ]
  },
  {
   "cell_type": "markdown",
   "metadata": {},
   "source": [
    "### 4.3 Mais distribuições discretas de probabilidade"
   ]
  },
  {
   "cell_type": "markdown",
   "metadata": {},
   "source": [
    "#### A distribuição geométrica\n",
    "\n",
    "Muitas ações na vida são repetidas até que um sucesso ocorra. Por\n",
    "exemplo, você pode ter que enviar um e-mail diversas vezes antes de ser\n",
    "enviado com sucesso. Uma situação como essa pode ser representada por\n",
    "uma distribuição geométrica."
   ]
  },
  {
   "cell_type": "markdown",
   "metadata": {},
   "source": [
    "Uma distribuição geométrica é uma distribuição discreta de probabilidade de uma variável aleatória x que satisfaz as seguintes condições:\n",
    "\n",
    "1. Uma tentativa é repetida até que um sucesso ocorra.\n",
    "2. As tentativas repetidas são independentes umas das outras.\n",
    "3. A probabilidade de sucesso p é a mesma para cada tentativa.\n",
    "4. A variável aleatória x representa o número de tentativas até ocorrer o primeiro sucesso."
   ]
  },
  {
   "attachments": {
    "image.png": {
     "image/png": "[encoded data removed]"
    }
   },
   "cell_type": "markdown",
   "metadata": {},
   "source": [
    "![image.png](attachment:image.png)"
   ]
  },
  {
   "cell_type": "markdown",
   "metadata": {},
   "source": [
    "EXERCÍCIO\n",
    "\n",
    "1. O jogador de basquete LeBron James acerta um lance livre cerca de\n",
    "75% das vezes. Calcule a probabilidade de que o primeiro lance livre\n",
    "que ele acerta ocorra na terceira ou quarta tentativa."
   ]
  },
  {
   "cell_type": "code",
   "execution_count": 7,
   "metadata": {},
   "outputs": [
    {
     "data": {
      "text/plain": [
       "0.01171875"
      ]
     },
     "execution_count": 7,
     "metadata": {},
     "output_type": "execute_result"
    }
   ],
   "source": [
    "p = 0.75\n",
    "q = 1-p\n",
    "x = 4 #Quantidade de tentativas\n",
    "p_x = p*(q**(x-1))\n",
    "p_x"
   ]
  },
  {
   "cell_type": "code",
   "execution_count": 13,
   "metadata": {},
   "outputs": [
    {
     "data": {
      "text/plain": [
       "0.046875"
      ]
     },
     "execution_count": 13,
     "metadata": {},
     "output_type": "execute_result"
    }
   ],
   "source": [
    "p = 0.75\n",
    "q = 1-p\n",
    "x = 3 #Quantidade de tentativas\n",
    "p_x = p*(q**(x-1))\n",
    "p_x"
   ]
  },
  {
   "cell_type": "code",
   "execution_count": 24,
   "metadata": {},
   "outputs": [
    {
     "data": {
      "text/plain": [
       "0.01171875"
      ]
     },
     "execution_count": 24,
     "metadata": {},
     "output_type": "execute_result"
    }
   ],
   "source": [
    "from scipy.stats import geom\n",
    "\n",
    "geom.pmf(4,p)"
   ]
  },
  {
   "cell_type": "code",
   "execution_count": 25,
   "metadata": {},
   "outputs": [
    {
     "data": {
      "text/plain": [
       "0.046875"
      ]
     },
     "execution_count": 25,
     "metadata": {},
     "output_type": "execute_result"
    }
   ],
   "source": [
    "geom.pmf(3,p)"
   ]
  },
  {
   "cell_type": "markdown",
   "metadata": {},
   "source": [
    "EXERCÍCIO\n",
    "\n",
    "Determine a probabilidade de que LeBron James acerte seu primeiro lance livre antes de sua terceira tentativa.\n",
    "\n",
    "a. Use a distribuição geométrica para encontrar P(1) e P(2).\n",
    "\n",
    "b. Calcule a soma de P(1) e P(2).\n",
    "\n",
    "c. Escreva o resultado em uma frase."
   ]
  },
  {
   "cell_type": "code",
   "execution_count": 17,
   "metadata": {},
   "outputs": [
    {
     "data": {
      "text/plain": [
       "0.75"
      ]
     },
     "execution_count": 17,
     "metadata": {},
     "output_type": "execute_result"
    }
   ],
   "source": [
    "p = 0.75\n",
    "q = 1-p\n",
    "x = 1 #Quantidade de tentativas\n",
    "p_x_1 = p*(q**(x-1))\n",
    "p_x_1"
   ]
  },
  {
   "cell_type": "code",
   "execution_count": 18,
   "metadata": {},
   "outputs": [
    {
     "data": {
      "text/plain": [
       "0.1875"
      ]
     },
     "execution_count": 18,
     "metadata": {},
     "output_type": "execute_result"
    }
   ],
   "source": [
    "p = 0.75\n",
    "q = 1-p\n",
    "x = 2 #Quantidade de tentativas\n",
    "p_x_2 = p*(q**(x-1))\n",
    "p_x_2"
   ]
  },
  {
   "cell_type": "code",
   "execution_count": 19,
   "metadata": {},
   "outputs": [
    {
     "data": {
      "text/plain": [
       "0.9375"
      ]
     },
     "execution_count": 19,
     "metadata": {},
     "output_type": "execute_result"
    }
   ],
   "source": [
    "p_x_1+p_x_2"
   ]
  },
  {
   "cell_type": "code",
   "execution_count": 30,
   "metadata": {},
   "outputs": [
    {
     "data": {
      "text/plain": [
       "0.9375"
      ]
     },
     "execution_count": 30,
     "metadata": {},
     "output_type": "execute_result"
    }
   ],
   "source": [
    "from scipy.stats import geom\n",
    "\n",
    "geom.cdf(2,p)"
   ]
  },
  {
   "cell_type": "markdown",
   "metadata": {},
   "source": [
    "    Ainda que teoricamente um sucesso possa nunca ocorrer, a distribuição\n",
    "    geométrica é uma distribuição discreta de probabilidade porque os valores \n",
    "    de x podem ser enumerados: 1, 2, 3, ... Perceba que, conforme x se torna\n",
    "    maior, P(x) se aproxima de zero"
   ]
  },
  {
   "cell_type": "code",
   "execution_count": 35,
   "metadata": {},
   "outputs": [
    {
     "data": {
      "text/plain": [
       "[0.75,\n",
       " 0.1875,\n",
       " 0.046875,\n",
       " 0.01171875,\n",
       " 0.0029296875,\n",
       " 0.000732421875,\n",
       " 0.00018310546875,\n",
       " 4.57763671875e-05,\n",
       " 1.1444091796875e-05,\n",
       " 2.86102294921875e-06]"
      ]
     },
     "execution_count": 35,
     "metadata": {},
     "output_type": "execute_result"
    }
   ],
   "source": [
    "probabilities"
   ]
  },
  {
   "cell_type": "code",
   "execution_count": 54,
   "metadata": {},
   "outputs": [
    {
     "name": "stdout",
     "output_type": "stream",
     "text": [
      "0.75\n",
      "0.1875\n",
      "0.046875\n",
      "0.01171875\n",
      "0.0029296875\n",
      "0.000732421875\n",
      "0.00018310546875\n",
      "4.57763671875e-05\n",
      "1.1444091796875e-05\n",
      "2.86102294921875e-06\n"
     ]
    },
    {
     "data": {
      "image/png": "[encoded data removed]",
      "text/plain": [
       "<Figure size 432x288 with 1 Axes>"
      ]
     },
     "metadata": {
      "needs_background": "light"
     },
     "output_type": "display_data"
    }
   ],
   "source": [
    "import matplotlib.pyplot as plt\n",
    "import seaborn as sns\n",
    "\n",
    "p = 0.75\n",
    "\n",
    "probs = [geom.pmf(i, p) for i in range(1,11)]\n",
    "[print(i)for i in probs]\n",
    "\n",
    "plt.bar(range(1,11), probs)\n",
    "plt.title('Função de Massa de Probabilidade Geométrica')\n",
    "plt.xlabel('X')\n",
    "plt.ylabel('P(X)')\n",
    "plt.show()"
   ]
  },
  {
   "cell_type": "markdown",
   "metadata": {},
   "source": [
    "#### A distribuição de Poisson\n"
   ]
  },
  {
   "cell_type": "markdown",
   "metadata": {},
   "source": [
    "Em um experimento binomial, você está interessado em determinar a probabilidade de um número específico de sucessos em um dado número de tentativas. \n",
    "\n",
    "Suponha que, em vez disso, você queira saber a probabilidade de que um número específico de ocorrências aconteça dentro de uma dada\n",
    "unidade de **tempo**, **área** ou **volume**. \n",
    "\n",
    "Por exemplo, para determinar a probabilidade de que um funcionário fique doente por 15 dias dentro de um ano, você pode usar a distribuição de Poisson."
   ]
  },
  {
   "cell_type": "markdown",
   "metadata": {},
   "source": [
    "A distribuição de Poisson é uma distribuição discreta de probabilidade de uma variável aleatória x que satisfaz as seguintes condições:\n",
    "\n",
    "1. O experimento consiste em contar o número de vezes, x, que um evento ocorre em um dado intervalo contínuo. O intervalo pode ser de tempo, área,\n",
    "volume ou outro intervalo contínuo.\n",
    "\n",
    "2. A probabilidade de um evento acontecer é a mesma para intervalos de mesmo tamanho.\n",
    "\n",
    "3. O número de ocorrências em um intervalo é independente do número de ocorrências em outros intervalos não sobrepostos.\n"
   ]
  },
  {
   "attachments": {
    "image.png": {
     "image/png": "[encoded data removed]"
    }
   },
   "cell_type": "markdown",
   "metadata": {},
   "source": [
    "![image.png](attachment:image.png)"
   ]
  },
  {
   "cell_type": "markdown",
   "metadata": {},
   "source": [
    "EXERCÍCIO\n",
    "\n",
    "O número médio de acidentes por mês em certo cruzamento é três.\n",
    "\n",
    "Qual é a probabilidade de que mais de quatro acidentes ocorram em qualquer mês no cruzamento?\n",
    "\n",
    "a. Use a distribuição de Poisson para encontrar P(0), P(1), P(2), P(3) e P(4).\n",
    "\n",
    "b. Calcule a soma de P(0), P(1), P(2), P(3) e P(4).\n",
    "\n",
    "c. Subtraia a soma de 1.\n",
    "\n",
    "d. Escreva o resultado como uma frase."
   ]
  },
  {
   "cell_type": "code",
   "execution_count": 15,
   "metadata": {},
   "outputs": [
    {
     "data": {
      "text/plain": [
       "0.18473675547622792"
      ]
     },
     "execution_count": 15,
     "metadata": {},
     "output_type": "execute_result"
    }
   ],
   "source": [
    "from scipy.stats import poisson\n",
    "\n",
    "p = 0\n",
    "for i in range(5):\n",
    "    p += poisson.pmf(i, mu=3)\n",
    "\n",
    "1- p\n",
    "\n"
   ]
  },
  {
   "cell_type": "code",
   "execution_count": 17,
   "metadata": {},
   "outputs": [
    {
     "data": {
      "text/plain": [
       "0.18473675547622787"
      ]
     },
     "execution_count": 17,
     "metadata": {},
     "output_type": "execute_result"
    }
   ],
   "source": [
    "poisson.sf(4, mu=3)\n",
    "\n",
    "\n",
    "#A probabilidade de ocorrer mais de 4 acidentes em qualquer mês é de 18.5 %"
   ]
  },
  {
   "cell_type": "markdown",
   "metadata": {},
   "source": [
    "EXERCÍCIO\n",
    "\n",
    "Duas mil trutas marrons são colocadas em um pequeno lago. O lago tem um volume de 20.000 metros cúbicos. Use a tabela para encontrar a\n",
    "probabilidade de que três trutas sejam encontradas em qualquer metro cúbico do lago.\n",
    "\n",
    "a. Determine o número médio de trutas marrons por metro cúbico.\n",
    "\n",
    "b. Identifique m e x.\n",
    "\n",
    "c. Use a Tabela B.3 do Apêndice B para encontrar a probabilidade de Poisson.\n",
    "\n",
    "d. Interprete os resultados.\n",
    "\n",
    "e. Determine se o evento é incomum. Explique."
   ]
  },
  {
   "cell_type": "code",
   "execution_count": 19,
   "metadata": {},
   "outputs": [
    {
     "data": {
      "text/plain": [
       "0.1"
      ]
     },
     "execution_count": 19,
     "metadata": {},
     "output_type": "execute_result"
    }
   ],
   "source": [
    "trutas_por_metro_cubico = 2000/20000\n",
    "trutas_por_metro_cubico"
   ]
  },
  {
   "cell_type": "code",
   "execution_count": null,
   "metadata": {},
   "outputs": [],
   "source": [
    "m = 0.1\n",
    "x = 3"
   ]
  },
  {
   "cell_type": "markdown",
   "metadata": {},
   "source": [
    "De acordo com a tabela é de 0.0002"
   ]
  },
  {
   "cell_type": "code",
   "execution_count": 22,
   "metadata": {},
   "outputs": [
    {
     "data": {
      "text/plain": [
       "0.00015080623633932676"
      ]
     },
     "execution_count": 22,
     "metadata": {},
     "output_type": "execute_result"
    }
   ],
   "source": [
    "poisson.pmf(3, mu=0.1)"
   ]
  },
  {
   "cell_type": "markdown",
   "metadata": {},
   "source": [
    "##### Diferenças\n",
    "\n",
    "- **Binomial**: Em uma distribuição binomial, a variável x representa o número de sucessos em um número fixo de tentativas independentes, onde cada tentativa tem apenas dois resultados possíveis (geralmente rotulados como sucesso ou fracasso). A distribuição binomial é caracterizada pelos parâmetros n (número total de tentativas) e p (probabilidade de sucesso em uma única tentativa).\n",
    "\n",
    "- **Geométrica**: Já em uma distribuição geométrica, a variável x representa o número de tentativas independentes necessárias para obter o primeiro sucesso. Em outras palavras, a distribuição geométrica modela o número de falhas antes do primeiro sucesso em uma sequência de tentativas independentes, onde cada tentativa tem apenas dois resultados possíveis (sucesso ou fracasso). A distribuição geométrica é caracterizada apenas pelo parâmetro p (probabilidade de sucesso em uma única tentativa).\n",
    "\n",
    "- **Poisson**: Em uma distribuição de Poisson, a variável x representa o número de eventos que ocorrem em um intervalo contínuo de tempo ou espaço. A distribuição de Poisson é usada quando o número médio de eventos em um intervalo é conhecido, mas o momento exato em que eles ocorrem é aleatório. A distribuição de Poisson é caracterizada pelo parâmetro λ (taxa média de ocorrência de eventos por unidade de tempo ou espaço).\n",
    "\n",
    "\n",
    "        A distribuição binomial é adequada para experimentos com um número fixo de tentativas, a distribuição de Poisson é usada para modelar a ocorrência de eventos em um intervalo contínuo, onde a média de ocorrências por unidade é conhecida e a distribuição geométrica é o número de tentativas até o primeiro sucesso.\n",
    "\n",
    "Exemplo\n",
    "- Binomial: Número de caras ao lançar uma moeda 5 vezes \n",
    "- Geométrica: Número de lançamentos até obter a primeira cara\n",
    "- Poisson: Número de acidentes de carro por dia em uma cidade"
   ]
  },
  {
   "cell_type": "markdown",
   "metadata": {},
   "source": [
    "### Exercícios Distribuições Discretas de Probabilidade"
   ]
  },
  {
   "cell_type": "markdown",
   "metadata": {},
   "source": [
    "**11 - Vendas por telefone** \n",
    "\n",
    "A probabilidade de que você faça uma venda em qualquer telefonema dado é 0,19.\n",
    " \n",
    "Determine a probabilidade de que você:\n",
    "\n",
    "(a) faça sua primeira venda na quinta ligação\n",
    "\n",
    "(b) faça sua primeira venda na primeira, segunda ou terceira ligação\n",
    "\n",
    "(c) não faça uma venda nas três primeiras ligações."
   ]
  },
  {
   "cell_type": "code",
   "execution_count": 9,
   "metadata": {},
   "outputs": [
    {
     "data": {
      "text/plain": [
       "8.18"
      ]
     },
     "execution_count": 9,
     "metadata": {},
     "output_type": "execute_result"
    }
   ],
   "source": [
    "#11 a)\n",
    "from scipy.stats import geom\n",
    "\n",
    "p = 0.19\n",
    "\n",
    "resultado = geom.pmf(5,p)\n",
    "\n",
    "resultado_formatado = (resultado * 100).round(2)\n",
    "resultado_formatado"
   ]
  },
  {
   "cell_type": "code",
   "execution_count": 11,
   "metadata": {},
   "outputs": [
    {
     "data": {
      "text/plain": [
       "46.86"
      ]
     },
     "execution_count": 11,
     "metadata": {},
     "output_type": "execute_result"
    }
   ],
   "source": [
    "p = 0.19\n",
    "\n",
    "resultado = geom.cdf(3,p)\n",
    "\n",
    "resultado_formatado = (resultado * 100).round(2)\n",
    "resultado_formatado"
   ]
  },
  {
   "cell_type": "code",
   "execution_count": 16,
   "metadata": {},
   "outputs": [
    {
     "data": {
      "text/plain": [
       "53.14"
      ]
     },
     "execution_count": 16,
     "metadata": {},
     "output_type": "execute_result"
    }
   ],
   "source": [
    "p = 0.19\n",
    "\n",
    "resultado = geom.sf(3,p)\n",
    "\n",
    "resultado_formatado = (resultado * 100).round(2)\n",
    "resultado_formatado"
   ]
  },
  {
   "cell_type": "markdown",
   "metadata": {},
   "source": [
    "---"
   ]
  },
  {
   "cell_type": "markdown",
   "metadata": {},
   "source": [
    "**12. Peças defeituosas**\n",
    "\n",
    "Um vendedor de peças de automóvel descobriu que 1 em cada 100 peças vendidas é defeituosa.\n",
    "\n",
    "Calcule a probabilidade de que\n",
    "\n",
    "(a) a primeira peça defeituosa seja a décima peça vendida\n",
    "\n",
    "(b) a primeira peça defeituosa seja a primeira, segunda ou terceira peça vendida e \n",
    "\n",
    "(c) nenhuma das 10 primeiras peças vendidas seja defeituosa"
   ]
  },
  {
   "cell_type": "code",
   "execution_count": 44,
   "metadata": {},
   "outputs": [
    {
     "data": {
      "text/plain": [
       "0.91"
      ]
     },
     "execution_count": 44,
     "metadata": {},
     "output_type": "execute_result"
    }
   ],
   "source": [
    "#12 a)\n",
    "from scipy.stats import geom\n",
    "\n",
    "p = 1/100\n",
    "\n",
    "resultado = geom.pmf(10,p)\n",
    "\n",
    "resultado_formatado = (resultado * 100).round(2)\n",
    "resultado_formatado"
   ]
  },
  {
   "cell_type": "code",
   "execution_count": 45,
   "metadata": {},
   "outputs": [
    {
     "data": {
      "text/plain": [
       "2.97"
      ]
     },
     "execution_count": 45,
     "metadata": {},
     "output_type": "execute_result"
    }
   ],
   "source": [
    "#12 B)\n",
    "from scipy.stats import geom\n",
    "\n",
    "p = 1/100\n",
    "\n",
    "resultado = geom.cdf(3,p)\n",
    "\n",
    "resultado_formatado = (resultado * 100).round(2)\n",
    "resultado_formatado"
   ]
  },
  {
   "cell_type": "code",
   "execution_count": 47,
   "metadata": {},
   "outputs": [
    {
     "data": {
      "text/plain": [
       "90.44"
      ]
     },
     "execution_count": 47,
     "metadata": {},
     "output_type": "execute_result"
    }
   ],
   "source": [
    "#12 C)\n",
    "from scipy.stats import geom\n",
    "\n",
    "p = 1/100\n",
    "\n",
    "resultado = geom.sf(10,p)\n",
    "\n",
    "resultado_formatado = (resultado * 100).round(2)\n",
    "resultado_formatado"
   ]
  },
  {
   "cell_type": "markdown",
   "metadata": {},
   "source": [
    "**13. Nascimentos**\n",
    "\n",
    "O número médio de nascimentos por minuto nos Estados Unidos, em um ano recente, era cerca de oito.\n",
    "Determine a probabilidade de que o número de nascimentos em qualquer minuto dado seja\n",
    "\n",
    "(a) exatamente cinco,\n",
    "\n",
    "(b) pelo menos cinco e\n",
    "\n",
    "(c) mais que cinco"
   ]
  },
  {
   "cell_type": "code",
   "execution_count": 51,
   "metadata": {},
   "outputs": [
    {
     "data": {
      "text/plain": [
       "9.16"
      ]
     },
     "execution_count": 51,
     "metadata": {},
     "output_type": "execute_result"
    }
   ],
   "source": [
    "#12 (a) exatamente cinco,\n",
    "from scipy.stats import poisson\n",
    "\n",
    "k = 5\n",
    "mu = 8\n",
    "\n",
    "resultado = poisson.pmf(k, mu, loc=0)\n",
    "\n",
    "resultado_formatado = (resultado * 100).round(2)\n",
    "resultado_formatado"
   ]
  },
  {
   "cell_type": "code",
   "execution_count": 52,
   "metadata": {},
   "outputs": [
    {
     "data": {
      "text/plain": [
       "19.12"
      ]
     },
     "execution_count": 52,
     "metadata": {},
     "output_type": "execute_result"
    }
   ],
   "source": [
    "#12 (b) pelo menos cinco e\n",
    "from scipy.stats import poisson\n",
    "\n",
    "k = 5\n",
    "mu = 8\n",
    "\n",
    "resultado = poisson.cdf(k, mu, loc=0)\n",
    "\n",
    "resultado_formatado = (resultado * 100).round(2)\n",
    "resultado_formatado"
   ]
  },
  {
   "cell_type": "code",
   "execution_count": 59,
   "metadata": {},
   "outputs": [
    {
     "data": {
      "text/plain": [
       "80.88"
      ]
     },
     "execution_count": 59,
     "metadata": {},
     "output_type": "execute_result"
    }
   ],
   "source": [
    "#12 (c) mais que cinco\n",
    "from scipy.stats import poisson\n",
    "\n",
    "k = 5\n",
    "mu = 8\n",
    "\n",
    "resultado = poisson.sf(k, mu, loc=0)\n",
    "\n",
    "resultado_formatado = (resultado * 100).round(2)\n",
    "resultado_formatado"
   ]
  },
  {
   "cell_type": "markdown",
   "metadata": {},
   "source": [
    "**14. Erros tipográficos**\n",
    "Um jornal descobre que o número médio de erros tipográficos por página é quatro.\n",
    "Determine a probabilidade de que o número de erros tipográficos encontrados em qualquer página dada seja\n",
    "\n",
    "(a) exatamente três\n",
    "\n",
    "(b) no máximo três e \n",
    "\n",
    "(c) mais do que três."
   ]
  },
  {
   "cell_type": "code",
   "execution_count": 61,
   "metadata": {},
   "outputs": [
    {
     "data": {
      "text/plain": [
       "19.54"
      ]
     },
     "execution_count": 61,
     "metadata": {},
     "output_type": "execute_result"
    }
   ],
   "source": [
    "#14 (a) exatamente três\n",
    "from scipy.stats import poisson\n",
    "\n",
    "k = 3\n",
    "mu = 4\n",
    "\n",
    "resultado = poisson.pmf(k, mu, loc=0)\n",
    "\n",
    "resultado_formatado = (resultado * 100).round(2)\n",
    "resultado_formatado"
   ]
  },
  {
   "cell_type": "code",
   "execution_count": 62,
   "metadata": {},
   "outputs": [
    {
     "data": {
      "text/plain": [
       "43.35"
      ]
     },
     "execution_count": 62,
     "metadata": {},
     "output_type": "execute_result"
    }
   ],
   "source": [
    "#14 (b) no máximo três e \n",
    "from scipy.stats import poisson\n",
    "\n",
    "k = 3\n",
    "mu = 4\n",
    "\n",
    "resultado = poisson.cdf(k, mu, loc=0)\n",
    "\n",
    "resultado_formatado = (resultado * 100).round(2)\n",
    "resultado_formatado"
   ]
  },
  {
   "cell_type": "code",
   "execution_count": 63,
   "metadata": {},
   "outputs": [
    {
     "data": {
      "text/plain": [
       "56.65"
      ]
     },
     "execution_count": 63,
     "metadata": {},
     "output_type": "execute_result"
    }
   ],
   "source": [
    "#14 (c) mais do que três.\n",
    "from scipy.stats import poisson\n",
    "\n",
    "k = 3\n",
    "mu = 4\n",
    "\n",
    "resultado = poisson.sf(k, mu, loc=0)\n",
    "\n",
    "resultado_formatado = (resultado * 100).round(2)\n",
    "resultado_formatado"
   ]
  },
  {
   "cell_type": "markdown",
   "metadata": {},
   "source": [
    "**15. Passes concluídos**\n",
    "O jogador de futebol americano Tom Brady completa um passe 63,7% das vezes.\n",
    "Calcule a probabilidade de que \n",
    "\n",
    "(a) o primeiro passe completado seja o segundo,\n",
    "\n",
    "(b) o primeiro passe completado seja o primeiro ou o segundo e\n",
    "\n",
    "(c) ele não complete seus dois primeiros passes."
   ]
  },
  {
   "cell_type": "code",
   "execution_count": 74,
   "metadata": {},
   "outputs": [
    {
     "data": {
      "text/plain": [
       "23.12"
      ]
     },
     "execution_count": 74,
     "metadata": {},
     "output_type": "execute_result"
    }
   ],
   "source": [
    "#15 (a) o primeiro passe completado seja o segundo,\n",
    "from scipy.stats import geom\n",
    "\n",
    "p = 0.637\n",
    "\n",
    "resultado = geom.pmf(2,p)\n",
    "\n",
    "resultado_formatado = (resultado * 100).round(2)\n",
    "resultado_formatado"
   ]
  },
  {
   "cell_type": "code",
   "execution_count": 75,
   "metadata": {},
   "outputs": [
    {
     "data": {
      "text/plain": [
       "86.82"
      ]
     },
     "execution_count": 75,
     "metadata": {},
     "output_type": "execute_result"
    }
   ],
   "source": [
    "#15 (b) o primeiro passe completado seja o primeiro ou o segundo e\n",
    "\n",
    "from scipy.stats import geom\n",
    "\n",
    "p = 0.637\n",
    "\n",
    "resultado = geom.cdf(2,p)\n",
    "\n",
    "resultado_formatado = (resultado * 100).round(2)\n",
    "resultado_formatado"
   ]
  },
  {
   "cell_type": "code",
   "execution_count": 76,
   "metadata": {},
   "outputs": [
    {
     "data": {
      "text/plain": [
       "13.18"
      ]
     },
     "execution_count": 76,
     "metadata": {},
     "output_type": "execute_result"
    }
   ],
   "source": [
    "#15 (c) ele não complete seus dois primeiros passes.\n",
    "\n",
    "from scipy.stats import geom\n",
    "\n",
    "p = 0.637\n",
    "\n",
    "resultado = geom.sf(2,p)\n",
    "\n",
    "resultado_formatado = (resultado * 100).round(2)\n",
    "resultado_formatado"
   ]
  },
  {
   "cell_type": "markdown",
   "metadata": {},
   "source": [
    "**16. Precipitação**\n",
    "\n",
    "Em Savannah, Geórgia, o número médio de dias, em julho, com 0,01 polegada ou mais de precipitação é de 13.\n",
    "\n",
    "Calcule a probabilidade de que, no próximo mês de julho, o número de dias com 0,01 polegada ou mais de precipitação em Savannah seja\n",
    "\n",
    "(a) exatamente 16 dias\n",
    "\n",
    "(b) no máximo 16 dias \n",
    "\n",
    "(c) mais de 16 dias"
   ]
  },
  {
   "cell_type": "code",
   "execution_count": 77,
   "metadata": {},
   "outputs": [
    {
     "data": {
      "text/plain": [
       "7.19"
      ]
     },
     "execution_count": 77,
     "metadata": {},
     "output_type": "execute_result"
    }
   ],
   "source": [
    "#15 (a) exatamente 16 dias\n",
    "from scipy.stats import poisson\n",
    "\n",
    "k = 16\n",
    "mu = 13\n",
    "\n",
    "resultado = poisson.pmf(k, mu, loc=0)\n",
    "\n",
    "resultado_formatado = (resultado * 100).round(2)\n",
    "resultado_formatado"
   ]
  },
  {
   "cell_type": "code",
   "execution_count": 78,
   "metadata": {},
   "outputs": [
    {
     "data": {
      "text/plain": [
       "83.55"
      ]
     },
     "execution_count": 78,
     "metadata": {},
     "output_type": "execute_result"
    }
   ],
   "source": [
    "#15 (b) no máximo 16 dias\n",
    "from scipy.stats import poisson\n",
    "\n",
    "k = 16\n",
    "mu = 13\n",
    "\n",
    "resultado = poisson.cdf(k, mu, loc=0)\n",
    "\n",
    "resultado_formatado = (resultado * 100).round(2)\n",
    "resultado_formatado"
   ]
  },
  {
   "cell_type": "code",
   "execution_count": 80,
   "metadata": {},
   "outputs": [
    {
     "data": {
      "text/plain": [
       "16.45"
      ]
     },
     "execution_count": 80,
     "metadata": {},
     "output_type": "execute_result"
    }
   ],
   "source": [
    "#15 (c) mais de 16 dias\n",
    "from scipy.stats import poisson\n",
    "\n",
    "k = 16\n",
    "mu = 13\n",
    "\n",
    "resultado = poisson.sf(k, mu, loc=0)\n",
    "\n",
    "resultado_formatado = (resultado * 100).round(2)\n",
    "resultado_formatado"
   ]
  },
  {
   "cell_type": "markdown",
   "metadata": {},
   "source": [
    "**17. Fabricante de vidro**\n",
    "Um fabricante de vidro descobre que 1 em cada 500 itens produzidos está empenado.\n",
    "Determine a probabilidade de que \n",
    "\n",
    "(a) o primeiro item de vidro deformado seja o décimo item produzido\n",
    "\n",
    "(b) o primeiro item de vidro deformado seja o primeiro, segundo ou terceiro item produzido \n",
    "\n",
    "(c) nenhum dos 10 primeiros itens de vidro produzidos seja defeituoso."
   ]
  },
  {
   "cell_type": "code",
   "execution_count": 91,
   "metadata": {},
   "outputs": [
    {
     "data": {
      "text/plain": [
       "0.2"
      ]
     },
     "execution_count": 91,
     "metadata": {},
     "output_type": "execute_result"
    }
   ],
   "source": [
    "#15 (a) o primeiro item de vidro deformado seja o décimo item produzido\n",
    "\n",
    "from scipy.stats import geom\n",
    "\n",
    "p = 1/500\n",
    "\n",
    "resultado = geom.pmf(10,p)\n",
    "\n",
    "resultado_formatado = (resultado * 100).round(2)\n",
    "resultado_formatado"
   ]
  },
  {
   "cell_type": "code",
   "execution_count": 92,
   "metadata": {},
   "outputs": [
    {
     "data": {
      "text/plain": [
       "0.6"
      ]
     },
     "execution_count": 92,
     "metadata": {},
     "output_type": "execute_result"
    }
   ],
   "source": [
    "#15 (b) o primeiro item de vidro deformado seja o primeiro, segundo ou terceiro item produzido \n",
    "\n",
    "from scipy.stats import geom\n",
    "\n",
    "p = 1/500\n",
    "\n",
    "resultado = geom.cdf(3,p)\n",
    "\n",
    "resultado_formatado = (resultado * 100).round(2)\n",
    "resultado_formatado"
   ]
  },
  {
   "cell_type": "code",
   "execution_count": 98,
   "metadata": {},
   "outputs": [
    {
     "data": {
      "text/plain": [
       "98.02"
      ]
     },
     "execution_count": 98,
     "metadata": {},
     "output_type": "execute_result"
    }
   ],
   "source": [
    "#15 (c) nenhum dos 10 primeiros itens de vidro produzidos seja defeituoso.\n",
    "\n",
    "from scipy.stats import geom\n",
    "\n",
    "p = 1/500\n",
    "\n",
    "resultado = geom.sf(10,p)\n",
    "\n",
    "resultado_formatado = (resultado * 100).round(2)\n",
    "resultado_formatado"
   ]
  },
  {
   "cell_type": "markdown",
   "metadata": {},
   "source": [
    "**18. Ganhar um prêmio**\n",
    "Um fabricante de cereais coloca uma peça de um jogo em cada uma de suas caixas de cereal.\n",
    "\t\n",
    "A probabilidade de ganhar um prêmio no jogo é 1 em 4.\n",
    "\n",
    "Determine a probabilidade de que você \n",
    "(a) ganhe seu primeiro prêmio em sua quarta compra\n",
    "\n",
    "(b) ganhe seu primeiro prêmio em sua primeira, segunda ou terceira compra e\n",
    "\n",
    "(c) não ganhe um prêmio em suas quatro primeiras compras."
   ]
  },
  {
   "cell_type": "code",
   "execution_count": 101,
   "metadata": {},
   "outputs": [
    {
     "data": {
      "text/plain": [
       "10.55"
      ]
     },
     "execution_count": 101,
     "metadata": {},
     "output_type": "execute_result"
    }
   ],
   "source": [
    "#18 (a) ganhe seu primeiro prêmio em sua quarta compra\n",
    "\n",
    "from scipy.stats import geom\n",
    "\n",
    "p = 0.25\n",
    "\n",
    "resultado = geom.pmf(4,p)\n",
    "\n",
    "resultado_formatado = (resultado * 100).round(2)\n",
    "resultado_formatado"
   ]
  },
  {
   "cell_type": "code",
   "execution_count": 102,
   "metadata": {},
   "outputs": [
    {
     "data": {
      "text/plain": [
       "57.81"
      ]
     },
     "execution_count": 102,
     "metadata": {},
     "output_type": "execute_result"
    }
   ],
   "source": [
    "#18 (b) ganhe seu primeiro prêmio em sua primeira, segunda ou terceira compra e\n",
    "\n",
    "from scipy.stats import geom\n",
    "\n",
    "\n",
    "p = 0.25\n",
    "\n",
    "resultado = geom.cdf(3,p)\n",
    "\n",
    "resultado_formatado = (resultado * 100).round(2)\n",
    "resultado_formatado"
   ]
  },
  {
   "cell_type": "code",
   "execution_count": 103,
   "metadata": {},
   "outputs": [
    {
     "data": {
      "text/plain": [
       "31.64"
      ]
     },
     "execution_count": 103,
     "metadata": {},
     "output_type": "execute_result"
    }
   ],
   "source": [
    "#18 (c) não ganhe um prêmio em suas quatro primeiras compras.\n",
    "\n",
    "from scipy.stats import geom\n",
    "\n",
    "\n",
    "p = 0.25\n",
    "\n",
    "resultado = geom.sf(4,p)\n",
    "\n",
    "resultado_formatado = (resultado * 100).round(2)\n",
    "resultado_formatado"
   ]
  },
  {
   "cell_type": "markdown",
   "metadata": {},
   "source": [
    "**19. Grandes furacões** \n",
    "\n",
    "Um grande furacão é um furacão com ventos de velocidade de 111 milhas por hora ou mais.\n",
    "\n",
    "No século XX, o número médio de grandes furacões que atingiram o território dos Estados Unidos, por ano, foi de cerca de 0,6.\n",
    "\n",
    "Determine a probabilidade de que o número de grandes furacões atingindo o território do país em qualquer ano dado seja\n",
    "\n",
    "(a) exatamente um\n",
    "\n",
    "(b) no máximo um e \n",
    "\n",
    "(c) mais que um.\n",
    "\n"
   ]
  },
  {
   "cell_type": "code",
   "execution_count": 104,
   "metadata": {},
   "outputs": [
    {
     "data": {
      "text/plain": [
       "32.93"
      ]
     },
     "execution_count": 104,
     "metadata": {},
     "output_type": "execute_result"
    }
   ],
   "source": [
    "#19 (a) exatamente um\n",
    "from scipy.stats import poisson\n",
    "\n",
    "k = 1\n",
    "mu = 0.6\n",
    "\n",
    "resultado = poisson.pmf(k, mu, loc=0)\n",
    "\n",
    "resultado_formatado = (resultado * 100).round(2)\n",
    "resultado_formatado"
   ]
  },
  {
   "cell_type": "code",
   "execution_count": 105,
   "metadata": {},
   "outputs": [
    {
     "data": {
      "text/plain": [
       "87.81"
      ]
     },
     "execution_count": 105,
     "metadata": {},
     "output_type": "execute_result"
    }
   ],
   "source": [
    "#19 (b) no máximo um e \n",
    "from scipy.stats import poisson\n",
    "\n",
    "k = 1\n",
    "mu = 0.6\n",
    "\n",
    "resultado = poisson.cdf(k, mu, loc=0)\n",
    "\n",
    "resultado_formatado = (resultado * 100).round(2)\n",
    "resultado_formatado"
   ]
  },
  {
   "cell_type": "code",
   "execution_count": 106,
   "metadata": {},
   "outputs": [
    {
     "data": {
      "text/plain": [
       "12.19"
      ]
     },
     "execution_count": 106,
     "metadata": {},
     "output_type": "execute_result"
    }
   ],
   "source": [
    "#19 (c) mais que um.\n",
    "from scipy.stats import poisson\n",
    "\n",
    "k = 1\n",
    "mu = 0.6\n",
    "\n",
    "resultado = poisson.sf(k, mu, loc=0)\n",
    "\n",
    "resultado_formatado = (resultado * 100).round(2)\n",
    "resultado_formatado"
   ]
  },
  {
   "cell_type": "markdown",
   "metadata": {},
   "source": [
    "**20. Energia nuclear**\n",
    "Cinquenta e sete por cento dos adultos americanos são a favor da utilização de energia nuclear como uma fonte de eletricidade nos Estados\n",
    "Unidos. \n",
    "\n",
    "Você seleciona aleatoriamente oito adultos americanos.\n",
    "\n",
    "Determine a probabilidade de que o número de adultos americanos que são a favor da utilização de energia nuclear como uma fonte de eletricidade nos Estados Unidos seja\n",
    "\n",
    "(a) exatamente quatro,\n",
    "\n",
    "(b) menos que cinco e\n",
    "\n",
    "(c) pelo menos três.\n",
    "\n"
   ]
  },
  {
   "cell_type": "code",
   "execution_count": 108,
   "metadata": {},
   "outputs": [
    {
     "data": {
      "text/plain": [
       "25.26"
      ]
     },
     "execution_count": 108,
     "metadata": {},
     "output_type": "execute_result"
    }
   ],
   "source": [
    "#19 (a) exatamente quatro\n",
    "from scipy.stats import binom\n",
    "\n",
    "k = 4\n",
    "n = 8\n",
    "p = 0.57\n",
    "\n",
    "resultado = binom.pmf(k, n, p, loc=0)\n",
    "\n",
    "\n",
    "resultado_formatado = (resultado * 100).round(2)\n",
    "resultado_formatado"
   ]
  },
  {
   "cell_type": "code",
   "execution_count": 120,
   "metadata": {},
   "outputs": [
    {
     "data": {
      "text/plain": [
       "47.62"
      ]
     },
     "execution_count": 120,
     "metadata": {},
     "output_type": "execute_result"
    }
   ],
   "source": [
    "#19 (b) menos que cinco e\n",
    "from scipy.stats import binom\n",
    "\n",
    "k = 4\n",
    "n = 8\n",
    "p = 0.57\n",
    "\n",
    "resultado = binom.cdf(k, n, p, loc=0)\n",
    "\n",
    "\n",
    "resultado_formatado = (resultado * 100).round(2)\n",
    "resultado_formatado"
   ]
  },
  {
   "cell_type": "code",
   "execution_count": 121,
   "metadata": {},
   "outputs": [
    {
     "data": {
      "text/plain": [
       "22.35"
      ]
     },
     "execution_count": 121,
     "metadata": {},
     "output_type": "execute_result"
    }
   ],
   "source": [
    "#19 (b) pelo menos três.\n",
    "from scipy.stats import binom\n",
    "\n",
    "k = 3\n",
    "n = 8\n",
    "p = 0.57\n",
    "\n",
    "resultado = binom.cdf(k, n, p, loc=0)\n",
    "\n",
    "\n",
    "resultado_formatado = (resultado * 100).round(2)\n",
    "resultado_formatado"
   ]
  },
  {
   "cell_type": "code",
   "execution_count": 130,
   "metadata": {},
   "outputs": [
    {
     "data": {
      "text/plain": [
       "7.84"
      ]
     },
     "execution_count": 130,
     "metadata": {},
     "output_type": "execute_result"
    }
   ],
   "source": [
    "#19 (b) pelo menos três.\n",
    "from scipy.stats import binom\n",
    "\n",
    "k =6\n",
    "n = 8\n",
    "p = 0.57\n",
    "\n",
    "resultado = binom.sf(k, n, p, loc=0)\n",
    "\n",
    "\n",
    "resultado_formatado = (resultado * 100).round(2)\n",
    "resultado_formatado"
   ]
  },
  {
   "cell_type": "markdown",
   "metadata": {},
   "source": [
    "**21. Transplantes cardíacos**\n",
    "\n",
    "O número médio de transplantes cardíacos realizados por dia nos Estados Unidos, em um ano recente, era de aproximadamente seis.\n",
    "\n",
    "Calcule a probabilidade de que o número de transplantes cardíacos realizados em qualquer dia dado seja\n",
    "\n",
    "(a) exatamente sete,\n",
    "\n",
    "(b) pelo menos oito e\n",
    "\n",
    "(c) não mais do que quatro.\n"
   ]
  },
  {
   "cell_type": "code",
   "execution_count": 139,
   "metadata": {},
   "outputs": [
    {
     "data": {
      "text/plain": [
       "13.77"
      ]
     },
     "execution_count": 139,
     "metadata": {},
     "output_type": "execute_result"
    }
   ],
   "source": [
    "#21 (a) exatamente sete,\n",
    "from scipy.stats import poisson\n",
    "\n",
    "k = 7\n",
    "mu = 6\n",
    "\n",
    "resultado = poisson.pmf(k, mu)\n",
    "\n",
    "\n",
    "resultado_formatado = (resultado * 100).round(2)\n",
    "resultado_formatado"
   ]
  },
  {
   "cell_type": "code",
   "execution_count": 140,
   "metadata": {},
   "outputs": [
    {
     "data": {
      "text/plain": [
       "84.72"
      ]
     },
     "execution_count": 140,
     "metadata": {},
     "output_type": "execute_result"
    }
   ],
   "source": [
    "#21 (b) pelo menos oito e\n",
    "from scipy.stats import poisson\n",
    "\n",
    "k = 8\n",
    "mu = 6\n",
    "\n",
    "resultado = poisson.cdf(k, mu)\n",
    "\n",
    "\n",
    "resultado_formatado = (resultado * 100).round(2)\n",
    "resultado_formatado"
   ]
  },
  {
   "cell_type": "code",
   "execution_count": 141,
   "metadata": {},
   "outputs": [
    {
     "data": {
      "text/plain": [
       "28.51"
      ]
     },
     "execution_count": 141,
     "metadata": {},
     "output_type": "execute_result"
    }
   ],
   "source": [
    "#21 (c) não mais do que quatro.\n",
    "from scipy.stats import poisson\n",
    "\n",
    "k = 4\n",
    "mu = 6\n",
    "\n",
    "resultado = poisson.cdf(k, mu)\n",
    "\n",
    "\n",
    "resultado_formatado = (resultado * 100).round(2)\n",
    "resultado_formatado"
   ]
  },
  {
   "cell_type": "markdown",
   "metadata": {},
   "source": [
    "22. Rompimento Vinte e nove por cento dos americanos com idade entre 16 e 21 anos disseram que romperiam com seus namorados ou namoradas por US$10.000.\n",
    "\n",
    "Você seleciona aleatoriamente sete pessoas com idade entre 16 e 21 anos. \n",
    "\n",
    "Calcule a probabilidade de que o número de pessoas entre 16 e 21 anos que disseram que romperiam com seus namorados ou namoradas por US$ 10.000 seja \n",
    "\n",
    "(a) exatamente dois, \n",
    "\n",
    "(b) mais de três e\n",
    "\n",
    "(c) entre um e quatro, inclusive."
   ]
  },
  {
   "cell_type": "code",
   "execution_count": 1,
   "metadata": {},
   "outputs": [
    {
     "data": {
      "text/plain": [
       "31.86"
      ]
     },
     "execution_count": 1,
     "metadata": {},
     "output_type": "execute_result"
    }
   ],
   "source": [
    "#22 (a) exatamente dois, \n",
    "from scipy.stats import binom\n",
    "\n",
    "k = 2\n",
    "n = 7\n",
    "p = 0.29\n",
    "\n",
    "resultado = binom.pmf(k, n, p, loc=0)\n",
    "\n",
    "\n",
    "resultado_formatado = (resultado * 100).round(2)\n",
    "resultado_formatado"
   ]
  },
  {
   "cell_type": "code",
   "execution_count": 2,
   "metadata": {},
   "outputs": [
    {
     "data": {
      "text/plain": [
       "11.34"
      ]
     },
     "execution_count": 2,
     "metadata": {},
     "output_type": "execute_result"
    }
   ],
   "source": [
    "#22 (b) mais de três e\n",
    "from scipy.stats import binom\n",
    "\n",
    "k = 3\n",
    "n = 7\n",
    "p = 0.29\n",
    "\n",
    "resultado = binom.sf(k, n, p, loc=0)\n",
    "\n",
    "\n",
    "resultado_formatado = (resultado * 100).round(2)\n",
    "resultado_formatado"
   ]
  },
  {
   "cell_type": "code",
   "execution_count": 6,
   "metadata": {},
   "outputs": [
    {
     "data": {
      "text/plain": [
       "99.69"
      ]
     },
     "execution_count": 6,
     "metadata": {},
     "output_type": "execute_result"
    }
   ],
   "source": [
    "#22 (c) entre um e quatro, inclusive.\n",
    "from scipy.stats import binom\n",
    "\n",
    "k = 5\n",
    "n = 7\n",
    "p = 0.29\n",
    "\n",
    "resultado = binom.cdf(k, n, p, loc=0)\n",
    "\n",
    "\n",
    "resultado_formatado = (resultado * 100).round(2)\n",
    "resultado_formatado"
   ]
  },
  {
   "cell_type": "markdown",
   "metadata": {},
   "source": [
    "23. Educação Cinquenta e quatro por cento dos pais abandonariam a televisão a cabo para poder pagar a educação de seus filhos.\n",
    "\n",
    "Você seleciona aleatoriamente cinco pais.\n",
    "\n",
    "Calcule a probabilidade de que o número de pais que abandonariam a televisão a cabo para poder pagar a educação de seus filhos seja \n",
    "\n",
    "(a) exatamente três,\n",
    "\n",
    "(b) menos de quatro e\n",
    "\n",
    "(c) pelo menos três.\n",
    "\n"
   ]
  },
  {
   "cell_type": "code",
   "execution_count": 8,
   "metadata": {},
   "outputs": [
    {
     "data": {
      "text/plain": [
       "75.85"
      ]
     },
     "execution_count": 8,
     "metadata": {},
     "output_type": "execute_result"
    }
   ],
   "source": [
    "#22 (a) exatamente três,\n",
    "from scipy.stats import binom\n",
    "\n",
    "k = 3\n",
    "n = 5\n",
    "p = 0.54\n",
    "\n",
    "resultado = binom.cdf(k, n, p, loc=0)\n",
    "\n",
    "\n",
    "resultado_formatado = (resultado * 100).round(2)\n",
    "resultado_formatado"
   ]
  },
  {
   "cell_type": "code",
   "execution_count": 15,
   "metadata": {},
   "outputs": [
    {
     "data": {
      "text/plain": [
       "75.85"
      ]
     },
     "execution_count": 15,
     "metadata": {},
     "output_type": "execute_result"
    }
   ],
   "source": [
    "#22 (b) menos de quatro e\n",
    "from scipy.stats import binom\n",
    "\n",
    "k = 3\n",
    "n = 5\n",
    "p = 0.54\n",
    "\n",
    "resultado = binom.cdf(k, n, p, loc=0)\n",
    "\n",
    "\n",
    "resultado_formatado = (resultado * 100).round(2)\n",
    "resultado_formatado"
   ]
  },
  {
   "cell_type": "code",
   "execution_count": 16,
   "metadata": {},
   "outputs": [
    {
     "data": {
      "text/plain": [
       "66.96"
      ]
     },
     "execution_count": 16,
     "metadata": {},
     "output_type": "execute_result"
    }
   ],
   "source": [
    "#22 (c) pelo menos três.\n",
    "from scipy.stats import binom\n",
    "\n",
    "k = 2\n",
    "n = 7\n",
    "p = 0.29\n",
    "\n",
    "resultado = binom.cdf(k, n, p, loc=0)\n",
    "\n",
    "\n",
    "resultado_formatado = (resultado * 100).round(2)\n",
    "resultado_formatado"
   ]
  },
  {
   "cell_type": "markdown",
   "metadata": {},
   "source": [
    "**24. Teste de piloto**\n",
    "A probabilidade de que um estudante passe no exame escrito para obter uma licença de piloto particular é 0,75.\n",
    "\n",
    "Determine a probabilidade de que o estudante \n",
    "\n",
    "(a) passe na primeira tentativa\n",
    "\n",
    "(b) passe na segunda tentativa e\n",
    "\n",
    "(c) não passe na primeira ou segunda tentativa.\n",
    "\n"
   ]
  },
  {
   "cell_type": "code",
   "execution_count": 17,
   "metadata": {},
   "outputs": [
    {
     "data": {
      "text/plain": [
       "75.0"
      ]
     },
     "execution_count": 17,
     "metadata": {},
     "output_type": "execute_result"
    }
   ],
   "source": [
    "#24 (a) passe na primeira tentativa\n",
    "\n",
    "from scipy.stats import geom\n",
    "\n",
    "\n",
    "p = 0.75\n",
    "\n",
    "resultado = geom.pmf(1,p)\n",
    "\n",
    "resultado_formatado = (resultado * 100).round(2)\n",
    "resultado_formatado"
   ]
  },
  {
   "cell_type": "code",
   "execution_count": 18,
   "metadata": {},
   "outputs": [
    {
     "data": {
      "text/plain": [
       "18.75"
      ]
     },
     "execution_count": 18,
     "metadata": {},
     "output_type": "execute_result"
    }
   ],
   "source": [
    "#24 (b) passe na segunda tentativa e\n",
    "\n",
    "from scipy.stats import geom\n",
    "\n",
    "\n",
    "p = 0.75\n",
    "\n",
    "resultado = geom.pmf(2,p)\n",
    "\n",
    "resultado_formatado = (resultado * 100).round(2)\n",
    "resultado_formatado"
   ]
  },
  {
   "cell_type": "code",
   "execution_count": 20,
   "metadata": {},
   "outputs": [
    {
     "data": {
      "text/plain": [
       "6.25"
      ]
     },
     "execution_count": 20,
     "metadata": {},
     "output_type": "execute_result"
    }
   ],
   "source": [
    "#24 (c) não passe na primeira ou segunda tentativa.\n",
    "\n",
    "from scipy.stats import geom\n",
    "\n",
    "\n",
    "p = 0.75\n",
    "\n",
    "resultado = geom.sf(2,p)\n",
    "\n",
    "resultado_formatado = (resultado * 100).round(2)\n",
    "resultado_formatado"
   ]
  },
  {
   "cell_type": "markdown",
   "metadata": {},
   "source": [
    "**25. Cola**\n",
    "Cinquenta e dois por cento dos adultos disseram que colaram em um teste ou prova anteriormente.\n",
    "\n",
    "Você seleciona aleatoriamente seis adultos.\n",
    "\n",
    "Calcule a probabilidade de que o número de adultos que disseram que já colaram em um teste ou prova seja\n",
    "\n",
    "(a) exatamente quatro,\n",
    "\n",
    "(b) mais de dois e\n",
    "\n",
    "(c) no máximo cinco."
   ]
  },
  {
   "cell_type": "code",
   "execution_count": 23,
   "metadata": {},
   "outputs": [
    {
     "data": {
      "text/plain": [
       "25.27"
      ]
     },
     "execution_count": 23,
     "metadata": {},
     "output_type": "execute_result"
    }
   ],
   "source": [
    "#25 (a) exatamente quatro,\n",
    "from scipy.stats import binom\n",
    "\n",
    "k = 4\n",
    "n = 6\n",
    "p = 0.52\n",
    "\n",
    "resultado = binom.pmf(k,n,p)\n",
    "\n",
    "resultado_formatado = (resultado * 100).round(2)\n",
    "resultado_formatado\n"
   ]
  },
  {
   "cell_type": "code",
   "execution_count": 25,
   "metadata": {},
   "outputs": [
    {
     "data": {
      "text/plain": [
       "69.3"
      ]
     },
     "execution_count": 25,
     "metadata": {},
     "output_type": "execute_result"
    }
   ],
   "source": [
    "#25 (b) mais de dois e\n",
    "from scipy.stats import binom\n",
    "\n",
    "k = 2\n",
    "n = 6\n",
    "p = 0.52\n",
    "\n",
    "resultado = binom.sf(k,n,p)\n",
    "\n",
    "resultado_formatado = (resultado * 100).round(2)\n",
    "resultado_formatado\n"
   ]
  },
  {
   "cell_type": "code",
   "execution_count": 28,
   "metadata": {},
   "outputs": [
    {
     "data": {
      "text/plain": [
       "98.02"
      ]
     },
     "execution_count": 28,
     "metadata": {},
     "output_type": "execute_result"
    }
   ],
   "source": [
    "#25 (c) no máximo cinco.\n",
    "from scipy.stats import binom\n",
    "\n",
    "k = 5\n",
    "n = 6\n",
    "p = 0.52\n",
    "\n",
    "resultado = binom.cdf(k,n,p)\n",
    "\n",
    "resultado_formatado = (resultado * 100).round(2)\n",
    "resultado_formatado\n"
   ]
  },
  {
   "cell_type": "markdown",
   "metadata": {},
   "source": [
    "**26. Petroleiro** \n",
    "\n",
    "O número médio de petroleiros em uma cidade portuária é de oito por dia.\n",
    "\n",
    "Determine a probabilidade de que o número de petroleiros em qualquer dia dado seja\n",
    "\n",
    "(a) exatamente oito,\n",
    "\n",
    "(b) no máximo três \n",
    "\n",
    "(c) mais de oito."
   ]
  },
  {
   "cell_type": "code",
   "execution_count": 29,
   "metadata": {},
   "outputs": [
    {
     "data": {
      "text/plain": [
       "13.96"
      ]
     },
     "execution_count": 29,
     "metadata": {},
     "output_type": "execute_result"
    }
   ],
   "source": [
    "#25 (a) exatamente oito,\n",
    "\n",
    "from scipy.stats import poisson\n",
    "\n",
    "k = 8\n",
    "mu = 8\n",
    "\n",
    "resultado = poisson.pmf(k,mu)\n",
    "\n",
    "resultado_formatado = (resultado * 100).round(2)\n",
    "resultado_formatado"
   ]
  },
  {
   "cell_type": "code",
   "execution_count": 32,
   "metadata": {},
   "outputs": [
    {
     "data": {
      "text/plain": [
       "4.24"
      ]
     },
     "execution_count": 32,
     "metadata": {},
     "output_type": "execute_result"
    }
   ],
   "source": [
    "#25 (b) no máximo três \n",
    "\n",
    "from scipy.stats import poisson\n",
    "\n",
    "k = 3\n",
    "mu = 8\n",
    "\n",
    "resultado = poisson.cdf(k,mu)\n",
    "\n",
    "resultado_formatado = (resultado * 100).round(2)\n",
    "resultado_formatado"
   ]
  },
  {
   "cell_type": "code",
   "execution_count": 31,
   "metadata": {},
   "outputs": [
    {
     "data": {
      "text/plain": [
       "40.75"
      ]
     },
     "execution_count": 31,
     "metadata": {},
     "output_type": "execute_result"
    }
   ],
   "source": [
    "#25 (c) mais de oito.\n",
    "\n",
    "from scipy.stats import poisson\n",
    "\n",
    "k = 8\n",
    "mu = 8\n",
    "\n",
    "resultado = poisson.sf(k,mu)\n",
    "\n",
    "resultado_formatado = (resultado * 100).round(2)\n",
    "resultado_formatado"
   ]
  },
  {
   "cell_type": "markdown",
   "metadata": {},
   "source": [
    "**27. Comparando as distribuições binomial e de Poisson**\n",
    "\n",
    "Um fabricante de automóveis descobre que 1 em cada 2.500 automóveis produzidos tem um defeito de fabricação.\n",
    "\n",
    "(a) Use uma distribuição binomial para calcular a probabilidade de achar 4 carros com o defeito em uma amostra aleatória de 6.000 carros.\n",
    "\n",
    "(b) A distribuição de Poisson pode ser usada para aproximar a distribuição binomial para valores grandes de n e pequenos de p.\n",
    "\n",
    "Repita a parte (a) usando uma distribuição de Poisson e compare os resultados."
   ]
  },
  {
   "cell_type": "code",
   "execution_count": 45,
   "metadata": {},
   "outputs": [
    {
     "data": {
      "text/plain": [
       "12.54"
      ]
     },
     "execution_count": 45,
     "metadata": {},
     "output_type": "execute_result"
    }
   ],
   "source": [
    "#26 (a) Use uma distribuição binomial para calcular a probabilidade de achar 4 carros com o defeito em uma amostra aleatória de 6.000 carros.\n",
    "\n",
    "\n",
    "from scipy.stats import binom\n",
    "\n",
    "k = 4\n",
    "n = 6000\n",
    "p = 1/2500\n",
    "\n",
    "resultado_binom = binom.pmf(k,n,p)\n",
    "\n",
    "resultado_formatado = (resultado_binom * 100).round(2)\n",
    "resultado_formatado"
   ]
  },
  {
   "cell_type": "code",
   "execution_count": 46,
   "metadata": {},
   "outputs": [
    {
     "data": {
      "text/plain": [
       "12.54"
      ]
     },
     "execution_count": 46,
     "metadata": {},
     "output_type": "execute_result"
    }
   ],
   "source": [
    "#26 (b) A distribuição de Poisson pode ser usada para aproximar a distribuição binomial para valores grandes de n e pequenos de p.\n",
    "\n",
    "\n",
    "from scipy.stats import poisson\n",
    "\n",
    "k = 4\n",
    "mu = n * p\n",
    "\n",
    "resultado_poisson = poisson.pmf(k,mu)\n",
    "\n",
    "resultado_formatado = (resultado_poisson * 100).round(2)\n",
    "resultado_formatado"
   ]
  },
  {
   "cell_type": "code",
   "execution_count": 53,
   "metadata": {},
   "outputs": [
    {
     "name": "stdout",
     "output_type": "stream",
     "text": [
      "O resultado percentual de diferença é de 0.012%\n"
     ]
    }
   ],
   "source": [
    "percent_diff = ((resultado_binom/ resultado_poisson)-1 )* 100\n",
    "\n",
    "print(f'O resultado percentual de diferença é de {percent_diff.round(4)}%')"
   ]
  },
  {
   "cell_type": "markdown",
   "metadata": {},
   "source": [
    "**28. Distribuição hipergeométrica**\n",
    "\n",
    "Experimentos binomiais exigem que qualquer amostragem seja feita com reposição, pois cada tentativa deve ser independente das outras.\n",
    "\n",
    "Na distribuição hipergeométrica cada tentativa tem dois resultados possíveis: sucesso e fracasso.\n",
    "\n",
    "Porém, a amostragem é feita sem reposição.\n",
    "\n",
    "Para uma população de N itens tendo k sucessos e N – k fracassos, a probabilidade de selecionar uma amostra de tamanho n que tenha x sucessos e n – x fracassos é dada por:\n",
    "\t\t\n",
    "Em um carregamento de 15 microchips, 2 têm defeito e 13 não apresentam defeito. \n",
    "Uma amostra de três microchips é escolhida aleatoriamente.\n",
    "\n",
    "Determine a probabilidade de\n",
    "\n",
    "(a) os três microchips não terem defeito,\n",
    "\n",
    "(b) um microchip ter defeito e dois não terem e \n",
    "\n",
    "(c) dois microchips apresentarem defeito e um não apresentar."
   ]
  },
  {
   "cell_type": "code",
   "execution_count": 55,
   "metadata": {},
   "outputs": [
    {
     "name": "stdout",
     "output_type": "stream",
     "text": [
      "(a) Probabilidade de os três microchips não terem defeito: 62.86%\n",
      "(b) Probabilidade de um microchip ter defeito e dois não terem: 11.76%\n",
      "(c) Probabilidade de dois microchips apresentarem defeito e um não apresentar: 0.08%\n"
     ]
    }
   ],
   "source": [
    "from scipy.stats import hypergeom\n",
    "\n",
    "n = 15  \n",
    "k_defeituosos = 2\n",
    "k_nao_defeituosos = 13\n",
    "\n",
    "n_amostra = 3\n",
    "\n",
    "# (a) Probabilidade de os três microchips não terem defeito\n",
    "x_a = 3  \n",
    "prob_a = hypergeom.pmf(x_a, n, k_nao_defeituosos, n_amostra)\n",
    "prob_a_formatado = (prob_a * 100).round(2)\n",
    "print(f'(a) Probabilidade de os três microchips não terem defeito: {prob_a_formatado}%')\n",
    "\n",
    "# (b) Probabilidade de um microchip ter defeito e dois não terem\n",
    "x_b = 1  # número de microchips com defeito desejado\n",
    "y_b = 2  # número de microchips sem defeito desejados\n",
    "prob_b = hypergeom.pmf(x_b, n, k_defeituosos, n_amostra) * hypergeom.pmf(y_b, n, k_nao_defeituosos, n_amostra)\n",
    "prob_b_formatado = (prob_b * 100).round(2)\n",
    "print(f'(b) Probabilidade de um microchip ter defeito e dois não terem: {prob_b_formatado}%')\n",
    "\n",
    "# (c) Probabilidade de dois microchips apresentarem defeito e um não apresentar\n",
    "x_c = 2  # número de microchips com defeito desejado\n",
    "y_c = 1  # número de microchips sem defeito desejado\n",
    "prob_c = hypergeom.pmf(x_c, n, k_defeituosos, n_amostra) * hypergeom.pmf(y_c, n, k_nao_defeituosos, n_amostra)\n",
    "prob_c_formatado = (prob_c * 100).round(2)\n",
    "print(f'(c) Probabilidade de dois microchips apresentarem defeito e um não apresentar: {prob_c_formatado}%')\n"
   ]
  },
  {
   "cell_type": "markdown",
   "metadata": {},
   "source": [
    "**29 - Loteria diária**\n",
    "\n",
    "[use o fato de que a média de uma distribuição geométrica é m = 1/p e a variância é s2 = q/p2.]\n",
    "\n",
    "Uma loteria diária sorteia com reposição três bolas numeradas de 0 a 9.\n",
    "\n",
    "A probabilidade de se ganhar na loteria é de 1/1.000.\n",
    "\n",
    "Seja x a quantidade de vezes que você joga na loteria antes de ganhar pela primeira vez.\n",
    "\n",
    "<br>\n",
    "\n",
    "(a) Determine a média, a variância e o desvio padrão.\n",
    "\n",
    "(b) Quantas vezes você esperaria ter que jogar na loteria antes de ganhar?\n",
    "\n",
    "<br>\n",
    "\n",
    "Considere que custa $ 1 para jogar e os vencedores recebem $ 500.\n",
    "\n",
    "Você esperaria ganhar ou perder dinheiro ao jogar nessa loteria? Explique."
   ]
  },
  {
   "cell_type": "code",
   "execution_count": 18,
   "metadata": {},
   "outputs": [],
   "source": [
    "#29 (a) Determine a média, a variância e o desvio padrão.\n",
    "\n",
    "from scipy.stats import geom\n",
    "\n",
    "\n",
    "p = 1/1000\n",
    "\n",
    "mean, var = geom.stats(p, moments='mv')"
   ]
  },
  {
   "cell_type": "code",
   "execution_count": 20,
   "metadata": {},
   "outputs": [
    {
     "data": {
      "text/plain": [
       "array(1000.)"
      ]
     },
     "execution_count": 20,
     "metadata": {},
     "output_type": "execute_result"
    }
   ],
   "source": [
    "mean"
   ]
  },
  {
   "cell_type": "code",
   "execution_count": 21,
   "metadata": {},
   "outputs": [
    {
     "data": {
      "text/plain": [
       "array(999000.)"
      ]
     },
     "execution_count": 21,
     "metadata": {},
     "output_type": "execute_result"
    }
   ],
   "source": [
    "var"
   ]
  },
  {
   "cell_type": "code",
   "execution_count": 9,
   "metadata": {},
   "outputs": [
    {
     "data": {
      "text/plain": [
       "999.499874937461"
      ]
     },
     "execution_count": 9,
     "metadata": {},
     "output_type": "execute_result"
    }
   ],
   "source": [
    "import numpy as np\n",
    "\n",
    "\n",
    "np.sqrt(var)"
   ]
  },
  {
   "cell_type": "code",
   "execution_count": 38,
   "metadata": {},
   "outputs": [
    {
     "data": {
      "text/plain": [
       "0.6323045752290359"
      ]
     },
     "execution_count": 38,
     "metadata": {},
     "output_type": "execute_result"
    }
   ],
   "source": [
    "# (b) Quantas vezes você esperaria ter que jogar na loteria antes de ganhar?\n",
    "\n",
    "geom.cdf(1000,p)"
   ]
  },
  {
   "cell_type": "markdown",
   "metadata": {},
   "source": [
    "**30. Erros nos salários**\n",
    "\n",
    "Uma empresa assume que 0,5% de seus pagamentos anuais foram calculados incorretamente.\n",
    "\n",
    "A empresa tem 200 funcionários e examinou os registros da folha de pagamento de um mês.\n",
    "\n",
    "<br>\n",
    "\n",
    "(a) Calcule a média, a variância e o desvio padrão.\n",
    "\n",
    "(b) Quantos registros de funcionários na folha de pagamento você esperaria ter que examinar antes de encontrar um com erro?"
   ]
  },
  {
   "cell_type": "code",
   "execution_count": 40,
   "metadata": {},
   "outputs": [],
   "source": [
    "from scipy.stats import geom\n",
    "\n",
    "\n",
    "p = 5/1000\n",
    "\n",
    "mean, var = geom.stats(p, moments='mv')"
   ]
  },
  {
   "cell_type": "code",
   "execution_count": 43,
   "metadata": {},
   "outputs": [
    {
     "data": {
      "text/plain": [
       "array(200.)"
      ]
     },
     "execution_count": 43,
     "metadata": {},
     "output_type": "execute_result"
    }
   ],
   "source": [
    "mean"
   ]
  },
  {
   "cell_type": "code",
   "execution_count": 45,
   "metadata": {},
   "outputs": [
    {
     "data": {
      "text/plain": [
       "array(39800.)"
      ]
     },
     "execution_count": 45,
     "metadata": {},
     "output_type": "execute_result"
    }
   ],
   "source": [
    "var"
   ]
  },
  {
   "cell_type": "code",
   "execution_count": 46,
   "metadata": {},
   "outputs": [
    {
     "data": {
      "text/plain": [
       "40000.0"
      ]
     },
     "execution_count": 46,
     "metadata": {},
     "output_type": "execute_result"
    }
   ],
   "source": [
    "# (b) Quantos registros de funcionários na folha de pagamento você esperaria ter que examinar antes de encontrar um com erro?\n",
    "\n",
    "mean * 200"
   ]
  },
  {
   "cell_type": "code",
   "execution_count": 44,
   "metadata": {},
   "outputs": [
    {
     "data": {
      "text/plain": [
       "199.49937343260004"
      ]
     },
     "execution_count": 44,
     "metadata": {},
     "output_type": "execute_result"
    }
   ],
   "source": [
    "import numpy as np\n",
    "\n",
    "\n",
    "np.sqrt(var)"
   ]
  },
  {
   "cell_type": "markdown",
   "metadata": {},
   "source": [
    "**31. Golfe**\n",
    "\n",
    "Em um ano recente, o número médio de tacadas por buraco do jogador de golfe Phil Mickelson era de aproximadamente 3,9.\n",
    "\n",
    "(a) Calcule a variância e o desvio padrão. Interprete os resultados.\n",
    "\n",
    "(b) Determine a probabilidade de que ele jogaria uma rodada de 18 buracos e daria mais de 72 tacadas."
   ]
  },
  {
   "cell_type": "code",
   "execution_count": 51,
   "metadata": {},
   "outputs": [],
   "source": [
    "# 31 (a) Calcule a variância e o desvio padrão. Interprete os resultados.\n",
    "\n",
    "from scipy.stats import poisson\n",
    "\n",
    "\n",
    "mu = 3.9\n",
    "\n",
    "mean, var = poisson.stats(mu, moments='mv')"
   ]
  },
  {
   "cell_type": "code",
   "execution_count": 52,
   "metadata": {},
   "outputs": [
    {
     "data": {
      "text/plain": [
       "array(3.9)"
      ]
     },
     "execution_count": 52,
     "metadata": {},
     "output_type": "execute_result"
    }
   ],
   "source": [
    "var"
   ]
  },
  {
   "cell_type": "code",
   "execution_count": 54,
   "metadata": {},
   "outputs": [
    {
     "data": {
      "text/plain": [
       "1.9748417658131499"
      ]
     },
     "execution_count": 54,
     "metadata": {},
     "output_type": "execute_result"
    }
   ],
   "source": [
    "import numpy as np\n",
    "\n",
    "\n",
    "np.sqrt(var)"
   ]
  },
  {
   "cell_type": "code",
   "execution_count": 66,
   "metadata": {},
   "outputs": [
    {
     "data": {
      "text/plain": [
       "0.3848187928130402"
      ]
     },
     "execution_count": 66,
     "metadata": {},
     "output_type": "execute_result"
    }
   ],
   "source": [
    "from scipy.stats import poisson\n",
    "\n",
    "media = 3.9\n",
    "buracos = 18\n",
    "\n",
    "media_rodada = media * buracos\n",
    "\n",
    "k = 72\n",
    "\n",
    "poisson.sf(k, media_rodada)\n"
   ]
  },
  {
   "cell_type": "markdown",
   "metadata": {},
   "source": [
    "**32. Falências**\n",
    "\n",
    "O número médio de declarações de falência por hora, por empresas, nos Estados Unidos em um ano recente foi de cerca de cinco.\n",
    "\n",
    "(a) Calcule a variância e o desvio padrão. Interprete os resultados.\n",
    "\n",
    "(b) Determine a probabilidade de que, no máximo, três empresas irão declarar falência em qualquer hora dada.\n"
   ]
  },
  {
   "cell_type": "code",
   "execution_count": 70,
   "metadata": {},
   "outputs": [],
   "source": [
    "#29 (a) Calcule a variância e o desvio padrão. Interprete os resultados.\n",
    "\n",
    "\n",
    "from scipy.stats import poisson\n",
    "\n",
    "\n",
    "mu = 5\n",
    "\n",
    "mean, var = poisson.stats(mu, moments='mv')"
   ]
  },
  {
   "cell_type": "code",
   "execution_count": 71,
   "metadata": {},
   "outputs": [
    {
     "data": {
      "text/plain": [
       "array(5.)"
      ]
     },
     "execution_count": 71,
     "metadata": {},
     "output_type": "execute_result"
    }
   ],
   "source": [
    "mean"
   ]
  },
  {
   "cell_type": "code",
   "execution_count": 73,
   "metadata": {},
   "outputs": [
    {
     "data": {
      "text/plain": [
       "2.23606797749979"
      ]
     },
     "execution_count": 73,
     "metadata": {},
     "output_type": "execute_result"
    }
   ],
   "source": [
    "import numpy as np\n",
    "\n",
    "\n",
    "np.sqrt(var)"
   ]
  },
  {
   "cell_type": "code",
   "execution_count": 75,
   "metadata": {},
   "outputs": [
    {
     "data": {
      "text/plain": [
       "0.2650259152973616"
      ]
     },
     "execution_count": 75,
     "metadata": {},
     "output_type": "execute_result"
    }
   ],
   "source": [
    "#29 (b) Determine a probabilidade de que, no máximo, três empresas irão declarar falência em qualquer hora dada.\n",
    "\n",
    "\n",
    "from scipy.stats import poisson\n",
    "\n",
    "k = 3\n",
    "\n",
    "poisson.cdf(k, mean)"
   ]
  },
  {
   "cell_type": "markdown",
   "metadata": {},
   "source": [
    "**30. Marketing creme dental**\n",
    "\n",
    "O fabricante diz que 40% dos consumidores de pasta de dentes preferem sua marca.\n",
    "\n",
    "Para verificar se sua afirmação é razoável, sua agência conduz uma pesquisa."
   ]
  },
  {
   "cell_type": "code",
   "execution_count": 93,
   "metadata": {},
   "outputs": [
    {
     "data": {
      "text/plain": [
       "0.7385730184692493"
      ]
     },
     "execution_count": 93,
     "metadata": {},
     "output_type": "execute_result"
    }
   ],
   "source": [
    "# a. Em uma amostra aleatória de 100, qual é a probabili dade de que entre 35 e 45 pessoas, inclusive, prefiram a marca A?\n",
    "\n",
    "from scipy.stats import binom\n",
    "\n",
    "k = 35\n",
    "n = 100\n",
    "p = 0.4\n",
    "\n",
    "p_total = 0\n",
    "for i in  range(35,46):\n",
    "    p_total += binom.pmf(i, n, p)\n",
    "    \n",
    "p_total"
   ]
  },
  {
   "cell_type": "code",
   "execution_count": 100,
   "metadata": {},
   "outputs": [
    {
     "data": {
      "text/plain": [
       "0.7385730184692499"
      ]
     },
     "execution_count": 100,
     "metadata": {},
     "output_type": "execute_result"
    }
   ],
   "source": [
    "binom.cdf(45, n, p) - binom.cdf(34, n, p)"
   ]
  },
  {
   "cell_type": "code",
   "execution_count": 111,
   "metadata": {},
   "outputs": [
    {
     "data": {
      "text/plain": [
       "0.059141361823227705"
      ]
     },
     "execution_count": 111,
     "metadata": {},
     "output_type": "execute_result"
    }
   ],
   "source": [
    "# Em uma amostra aleatória de 100, você encontrou 36 pessoas que preferem a marca A. A declaração do fabricante seria confiável?\n",
    "\n",
    "from scipy.stats import binom\n",
    "\n",
    "k = 36\n",
    "n = 100\n",
    "p = 0.4\n",
    "\n",
    "binom.pmf(k, n, p)\n"
   ]
  },
  {
   "cell_type": "code",
   "execution_count": 110,
   "metadata": {},
   "outputs": [
    {
     "data": {
      "text/plain": [
       "(31.0, 50.0)"
      ]
     },
     "execution_count": 110,
     "metadata": {},
     "output_type": "execute_result"
    }
   ],
   "source": [
    "binom.interval(0.95, n, p)"
   ]
  },
  {
   "cell_type": "code",
   "execution_count": 112,
   "metadata": {},
   "outputs": [
    {
     "data": {
      "text/plain": [
       "0.0006274654448495941"
      ]
     },
     "execution_count": 112,
     "metadata": {},
     "output_type": "execute_result"
    }
   ],
   "source": [
    "# Em uma amostra aleatória de 100, você encontrou 25 pessoas que preferem a marca A. A declaração do fabricante seria confiável?\n",
    "\n",
    "from scipy.stats import binom\n",
    "\n",
    "k = 25\n",
    "n = 100\n",
    "p = 0.4\n",
    "\n",
    "binom.pmf(k, n, p)\n"
   ]
  },
  {
   "cell_type": "code",
   "execution_count": 119,
   "metadata": {},
   "outputs": [
    {
     "data": {
      "text/plain": [
       "(39.0, 41.0)"
      ]
     },
     "execution_count": 119,
     "metadata": {},
     "output_type": "execute_result"
    }
   ],
   "source": [
    "binom.interval(0.1, n, p)"
   ]
  },
  {
   "cell_type": "markdown",
   "metadata": {},
   "source": [
    "## 5. Distribuição normal de probabilidade"
   ]
  },
  {
   "cell_type": "markdown",
   "metadata": {},
   "source": [
    "### 5.1 Introdução às distribuições normais e à distribuição normal padrão\n"
   ]
  },
  {
   "cell_type": "markdown",
   "metadata": {},
   "source": [
    "Na Seção 4.1 você diferenciou entre variáveis aleatórias discretas e contínuas, e aprendeu que uma variável aleatória contínua tem um número infinito de valores possíveis que podem ser representados por um intervalo em uma reta numérica.\n",
    "\n",
    "Sua distribuição de probabilidade é chamada de distribuição contínua de probabilidade.\n",
    "\n",
    "Neste capítulo você vai estudar a mais importante das distribuições contínuas da estatística — a distribuição normal.\n",
    "\n",
    "Distribuições normais podem ser usadas para modelar muitos conjuntos de medidas na natureza, na indústria e nos negócios.\n",
    "\n",
    "Por exemplo, a pressão sanguínea sistólica dos humanos, a vida útil de televisões de plasma e até mesmo custos domésticos, podem ser variáveis aleatórias normalmente distribuídas."
   ]
  },
  {
   "cell_type": "markdown",
   "metadata": {},
   "source": [
    "    DEFINIÇÃO:\n",
    "\n",
    "    Uma distribuição normal é uma distribuição de probabilidade contínua para uma variável aleatória x, cujo gráfico é chamado de curva normal, satisfazendo as propriedades listadas a seguir.\n",
    "\n",
    "    1. A média, a mediana e a moda são iguais.\n",
    "    2. Uma curva normal tem forma de sino e é simétrica em torno da média.\n",
    "    3. A área total sob a curva normal é igual a 1.\n",
    "    4. À medida que a curva normal se distancia da média, ela se aproxima do eixo x, mas sem tocá-lo.\n",
    "    5. Entre m - s e m + s (no centro da curva), o gráfico se curva (tem concavidade) para baixo. O gráfico tem concavidade para cima à esquerda de m - s e à direita de m + s. Os pontos nos quais o gráfico muda a orientação da concavidade são chamados de pontos de inflexão"
   ]
  },
  {
   "cell_type": "markdown",
   "metadata": {},
   "source": [
    "#### A distribuição normal padrão"
   ]
  },
  {
   "cell_type": "code",
   "execution_count": 1,
   "metadata": {},
   "outputs": [
    {
     "data": {
      "text/plain": [
       "0.014262118410668878"
      ]
     },
     "execution_count": 1,
     "metadata": {},
     "output_type": "execute_result"
    }
   ],
   "source": [
    "from scipy.stats import norm\n",
    "\n",
    "# Encontre a área acumulada que corresponde a um escore-z de –2,19.\n",
    "x = -2.19\n",
    "\n",
    "norm.cdf(x)"
   ]
  },
  {
   "cell_type": "code",
   "execution_count": 2,
   "metadata": {},
   "outputs": [
    {
     "data": {
      "text/plain": [
       "0.9849965770262678"
      ]
     },
     "execution_count": 2,
     "metadata": {},
     "output_type": "execute_result"
    }
   ],
   "source": [
    "# Encontre a área acumulada que corresponde a um escore-z de 2,17.\n",
    "\n",
    "x = 2.17\n",
    "\n",
    "norm.cdf(x)"
   ]
  },
  {
   "cell_type": "code",
   "execution_count": 15,
   "metadata": {},
   "outputs": [
    {
     "data": {
      "image/png": "[encoded data removed]",
      "text/plain": [
       "<Figure size 720x504 with 1 Axes>"
      ]
     },
     "metadata": {
      "needs_background": "light"
     },
     "output_type": "display_data"
    },
    {
     "data": {
      "text/plain": [
       "98.3414193316395"
      ]
     },
     "execution_count": 15,
     "metadata": {},
     "output_type": "execute_result"
    }
   ],
   "source": [
    "'''\n",
    "Encontre a área sob a curva normal padrão à esquerda de z = 2,13.\n",
    "a. Desenhe a curva normal padrão e sombreie a área sob a curva e à\n",
    "esquerda de z = 2,13.\n",
    "b. Use a tabela normal padrão para encontrar a área à esquerda de\n",
    "z = 2,13.\n",
    "'''\n",
    "\n",
    "import matplotlib.pyplot as plt\n",
    "import numpy as np\n",
    "from scipy.stats import norm\n",
    "\n",
    "mu = 0  # média da distribuição normal padrão\n",
    "sigma = 1  # desvio padrão da distribuição normal padrão\n",
    "\n",
    "# valores z para a curva normal padrão\n",
    "z_values = np.linspace(-3, 3, 1000)\n",
    "\n",
    "# densidade de probabilidade para cada valor de z\n",
    "pdf_values = norm.pdf(z_values, mu, sigma)\n",
    "\n",
    "# curva normal padrão\n",
    "plt.figure(figsize=(10,7))\n",
    "plt.plot(z_values, pdf_values, label='Curva Normal Padrão')\n",
    "\n",
    "# área sob a curva à esquerda de z = 2,13\n",
    "z_shade = np.linspace(-3, 2.13, 100)\n",
    "pdf_shade = norm.pdf(z_shade, mu, sigma)\n",
    "plt.fill_between(z_shade, pdf_shade, color='skyblue', alpha=0.5, label='Área Sombreada')\n",
    "\n",
    "# linha vertical em z = 2,13\n",
    "plt.axvline(x=2.13, color='red', linestyle='--', label='z = 2,13')\n",
    "\n",
    "plt.title('Curva Normal Padrão e Área Sombreada',size=14)\n",
    "plt.xlabel('z')\n",
    "plt.ylabel('Densidade de Probabilidade')\n",
    "plt.legend()\n",
    "\n",
    "plt.show()\n",
    "\n",
    "# Parte b: Use a tabela normal padrão para encontrar a área à esquerda de z = 2,13.\n",
    "norm.cdf(2.13, mu, sigma) * 100\n"
   ]
  },
  {
   "cell_type": "code",
   "execution_count": 16,
   "metadata": {},
   "outputs": [
    {
     "data": {
      "image/png": "[encoded data removed]",
      "text/plain": [
       "<Figure size 720x504 with 1 Axes>"
      ]
     },
     "metadata": {
      "needs_background": "light"
     },
     "output_type": "display_data"
    },
    {
     "data": {
      "text/plain": [
       "1.5386334783925446"
      ]
     },
     "execution_count": 16,
     "metadata": {},
     "output_type": "execute_result"
    }
   ],
   "source": [
    "'''\n",
    "Encontre a área sob a curva normal padrão à esquerda de z = -2.16.\n",
    "a. Desenhe a curva normal padrão e sombreie a área sob a curva e à\n",
    "esquerda de z = -2.16.\n",
    "b. Use a tabela normal padrão para encontrar a área à esquerda de\n",
    "z = -2.16.\n",
    "'''\n",
    "\n",
    "import matplotlib.pyplot as plt\n",
    "import numpy as np\n",
    "from scipy.stats import norm\n",
    "\n",
    "mu = 0  # média da distribuição normal padrão\n",
    "sigma = 1  # desvio padrão da distribuição normal padrão\n",
    "\n",
    "# valores z para a curva normal padrão\n",
    "z_values = np.linspace(-3, 3, 1000)\n",
    "\n",
    "# densidade de probabilidade para cada valor de z\n",
    "pdf_values = norm.pdf(z_values, mu, sigma)\n",
    "\n",
    "# curva normal padrão\n",
    "plt.figure(figsize=(10,7))\n",
    "plt.plot(z_values, pdf_values, label='Curva Normal Padrão')\n",
    "\n",
    "# área sob a curva à esquerda de z = -2.16\n",
    "z_shade = np.linspace(-3, -2.16, 100)\n",
    "pdf_shade = norm.pdf(z_shade, mu, sigma)\n",
    "plt.fill_between(z_shade, pdf_shade, color='skyblue', alpha=0.5, label='Área Sombreada')\n",
    "\n",
    "# linha vertical em z = -2.16\n",
    "plt.axvline(x=-2.16, color='red', linestyle='--', label='z = -2.16')\n",
    "\n",
    "plt.title('Curva Normal Padrão e Área Sombreada',size=14)\n",
    "plt.xlabel('z')\n",
    "plt.ylabel('Densidade de Probabilidade')\n",
    "plt.legend()\n",
    "\n",
    "plt.show()\n",
    "\n",
    "# Parte b: Use a tabela normal padrão para encontrar a área à esquerda de z = -2.16.\n",
    "norm.sf(2.16, mu, sigma) * 100\n"
   ]
  },
  {
   "cell_type": "markdown",
   "metadata": {},
   "source": [
    "Encontre a área sob a curva normal padrão entre z = –2,165 e z = –1,35.\n",
    "\n",
    "a. Desenhe a curva normal padrão e sombreie a área sob a curva entre z = –2,165 e z = –1,35.\n",
    "b. Use a tabela normal padrão para encontrar a área à esquerda de z = –1,35.\n",
    "c. Use a tabela normal padrão para encontrar a área à esquerda de z = –2,165.\n",
    "d. Subtraia a área menor da área maior.\n"
   ]
  },
  {
   "cell_type": "code",
   "execution_count": 22,
   "metadata": {},
   "outputs": [],
   "source": [
    "z_menor = norm.cdf(-2.165)\n",
    "z_maior = norm.cdf(-1.35)\n",
    "area = z_maior - z_menor"
   ]
  },
  {
   "cell_type": "code",
   "execution_count": 29,
   "metadata": {},
   "outputs": [
    {
     "data": {
      "image/png": "[encoded data removed]",
      "text/plain": [
       "<Figure size 720x504 with 1 Axes>"
      ]
     },
     "metadata": {
      "needs_background": "light"
     },
     "output_type": "display_data"
    },
    {
     "data": {
      "text/plain": [
       "7.331414880138171"
      ]
     },
     "execution_count": 29,
     "metadata": {},
     "output_type": "execute_result"
    }
   ],
   "source": [
    "import matplotlib.pyplot as plt\n",
    "import numpy as np\n",
    "from scipy.stats import norm\n",
    "\n",
    "mu = 0  \n",
    "sigma = 1  \n",
    "\n",
    "\n",
    "z_values = np.linspace(-3, 3, 1000)\n",
    "\n",
    "\n",
    "pdf_values = norm.pdf(z_values, mu, sigma)\n",
    "\n",
    "\n",
    "plt.figure(figsize=(10,7))\n",
    "plt.plot(z_values, pdf_values, label='Curva Normal Padrão')\n",
    "\n",
    "z_shade = np.linspace(-2.165, -1.35, 100)\n",
    "pdf_shade = norm.pdf(z_shade, mu, sigma)\n",
    "plt.fill_between(z_shade, pdf_shade, color='skyblue', alpha=0.5, label='Área Sombreada')\n",
    "\n",
    "# linha vertical em z = -2.16\n",
    "plt.axvline(x=-2.16, color='red', linestyle='--', label='z = -2.16 a -1.35')\n",
    "plt.axvline(x=-1.35, color='red', linestyle='--')\n",
    "\n",
    "plt.title('Curva Normal Padrão e Área Sombreada',size=14)\n",
    "plt.xlabel('z')\n",
    "plt.ylabel('Densidade de Probabilidade')\n",
    "plt.legend()\n",
    "\n",
    "plt.show()\n",
    "\n",
    "# Parte b: Use a tabela normal padrão para encontrar a área à esquerda de z = -2.16 a -1.35.\n",
    "area * 100\n"
   ]
  },
  {
   "cell_type": "markdown",
   "metadata": {},
   "source": [
    "37. **Afirmação do fabricante** \n",
    "Você trabalha em uma publicação de defesa do consumidor e está testando a afirmação do anúncio de um fabricante de pneus.\n",
    "\n",
    "O fabricante declara que a vida útil dos pneus é normalmente distribuída, com uma média de 40.000 milhas e um desvio padrão de 4.000 milhas.\n",
    "\n",
    "Você testa 16 pneus e registra as vidas úteis mostradas a seguir.\n",
    "\n",
    "48.778 41.046 29.083 36.394 32.302 42.787 41.972 37.229\n",
    "25.314 31.920 38.030 38.445 30.750 38.886 36.770 46.049\n",
    "\n",
    "(a) Construa um histograma de frequência para mostrar esses dados. Use cinco classes. As vidas úteis parecem ser normalmente distribuídas?"
   ]
  },
  {
   "cell_type": "code",
   "execution_count": 51,
   "metadata": {},
   "outputs": [
    {
     "data": {
      "image/png": "[encoded data removed]",
      "text/plain": [
       "<Figure size 720x504 with 1 Axes>"
      ]
     },
     "metadata": {},
     "output_type": "display_data"
    }
   ],
   "source": [
    "import seaborn as sns\n",
    "\n",
    "kms = [48778, 41046, 29083, 36394, 32302, 42787, 41972, 37229, 25314, 31920, 38030, 38445, 30750, 38886, 36770, 46049]\n",
    "\n",
    "sns.set(rc={'figure.figsize': (10, 7)})\n",
    "\n",
    "sns.set_style('darkgrid')\n",
    "\n",
    "ax = sns.histplot(kms,kde=True)\n",
    "ax.set_title('Vida útil dos pneus',size=14)\n",
    "ax = ax"
   ]
  },
  {
   "cell_type": "code",
   "execution_count": 52,
   "metadata": {},
   "outputs": [
    {
     "data": {
      "image/png": "[encoded data removed]",
      "text/plain": [
       "<Figure size 720x504 with 1 Axes>"
      ]
     },
     "metadata": {},
     "output_type": "display_data"
    }
   ],
   "source": [
    "import seaborn as sns\n",
    "import numpy as np\n",
    "\n",
    "kms = [48778, 41046, 29083, 36394, 32302, 42787, 41972, 37229, 25314, 31920, 38030, 38445, 30750, 38886, 36770, 46049]\n",
    "\n",
    "sns.set(rc={'figure.figsize': (10, 7)})\n",
    "\n",
    "sns.set_style('darkgrid')\n",
    "\n",
    "ax = sns.histplot(np.random.choice(kms,5),kde=True)\n",
    "ax.set_title('Vida útil dos pneus',size=14)\n",
    "ax = ax"
   ]
  },
  {
   "cell_type": "code",
   "execution_count": 49,
   "metadata": {},
   "outputs": [
    {
     "data": {
      "image/png": "[encoded data removed]",
      "text/plain": [
       "<Figure size 720x504 with 1 Axes>"
      ]
     },
     "metadata": {},
     "output_type": "display_data"
    },
    {
     "data": {
      "text/plain": [
       "7.331414880138171"
      ]
     },
     "execution_count": 49,
     "metadata": {},
     "output_type": "execute_result"
    }
   ],
   "source": [
    "import matplotlib.pyplot as plt\n",
    "import numpy as np\n",
    "from scipy.stats import norm\n",
    "\n",
    "mu = 0  \n",
    "sigma = 1  \n",
    "\n",
    "\n",
    "z_values = np.linspace(-3, 3, 1000)\n",
    "\n",
    "\n",
    "pdf_values = norm.pdf(z_values, mu, sigma)\n",
    "\n",
    "\n",
    "plt.figure(figsize=(10,7))\n",
    "plt.plot(z_values, pdf_values, label='Curva Normal Padrão')\n",
    "\n",
    "z_shade = np.linspace(-2.165, -1.35, 100)\n",
    "pdf_shade = norm.pdf(z_shade, mu, sigma)\n",
    "plt.fill_between(z_shade, pdf_shade, color='skyblue', alpha=0.5, label='Área Sombreada')\n",
    "\n",
    "# linha vertical em z = -2.16\n",
    "plt.axvline(x=-2.16, color='red', linestyle='--', label='z = -2.16 a -1.35')\n",
    "plt.axvline(x=-1.35, color='red', linestyle='--')\n",
    "\n",
    "plt.title('Curva Normal Padrão e Área Sombreada',size=14)\n",
    "plt.xlabel('z')\n",
    "plt.ylabel('Densidade de Probabilidade')\n",
    "plt.legend()\n",
    "\n",
    "plt.show()\n",
    "\n",
    "# Parte b: Use a tabela normal padrão para encontrar a área à esquerda de z = -2.16 a -1.35.\n",
    "area * 100\n"
   ]
  },
  {
   "cell_type": "markdown",
   "metadata": {},
   "source": [
    "### 5.2 Distribuições normais: encontrando probabilidades"
   ]
  },
  {
   "cell_type": "markdown",
   "metadata": {},
   "source": [
    "A velocidade média dos veículos que passam em um trecho de uma rodovia é 67 milhas por hora, com desvio padrão de 3,5 milhas por hora.\n",
    "Um veículo é selecionado de forma aleatória.\n",
    "\n",
    "Qual é a probabilidade de que ele esteja ultrapassando o limite de velocidade de 70 milhas por hora?\n",
    "\n",
    "Suponha que as velocidades são normalmente distribuídas e são representadas pela variável x.\n",
    "\n",
    "\n",
    "b. Determine o escore-z que corresponde a 70 milhas por hora.\n"
   ]
  },
  {
   "cell_type": "code",
   "execution_count": 16,
   "metadata": {},
   "outputs": [
    {
     "data": {
      "text/plain": [
       "0.19568296915377598"
      ]
     },
     "execution_count": 16,
     "metadata": {},
     "output_type": "execute_result"
    }
   ],
   "source": [
    "norm.sf(70, 67, 3.5)"
   ]
  },
  {
   "cell_type": "markdown",
   "metadata": {},
   "source": [
    "### 5.3 Distribuições normais: calculando valores"
   ]
  },
  {
   "cell_type": "markdown",
   "metadata": {},
   "source": [
    "Um pesquisador testa as distâncias de frenagem de diversos carros.\n",
    "\n",
    "A distância de frenagem de 60 milhas por hora até uma parada completa em pista seca é medida em pés.\n",
    "\n",
    "As distâncias de frenagem de uma amostra de carros são normalmente distribuídas, com média de 129 pés e desvio padrão de 5,18 pés.\n",
    "\n",
    "Qual é a maior distância de frenagem que um desses carros poderia ter e ainda estar no grupo do 1% mais baixo?"
   ]
  },
  {
   "cell_type": "code",
   "execution_count": 28,
   "metadata": {},
   "outputs": [
    {
     "data": {
      "text/plain": [
       "116.94951801246845"
      ]
     },
     "execution_count": 28,
     "metadata": {},
     "output_type": "execute_result"
    }
   ],
   "source": [
    "from scipy.stats import norm\n",
    "\n",
    "mu = 129\n",
    "desvpad = 5.18\n",
    "\n",
    "norm.ppf(0.01, mu, desvpad)"
   ]
  },
  {
   "cell_type": "markdown",
   "metadata": {},
   "source": [
    "Em uma amostra aleatória de mulheres com idade entre 20 e 34 anos, a média do nível de colesterol total era de 181 miligramas por decilitro com desvio padrão de 37,6 miligramas por decilitro. \n",
    "\n",
    "Suponha que os níveis de colesterol total sejam normalmente distribuídos. Calcule o nível de colesterol total mais alto que uma mulher nessa faixa etária pode ter e ainda estar no grupo do 1% mais baixo."
   ]
  },
  {
   "cell_type": "code",
   "execution_count": 29,
   "metadata": {},
   "outputs": [
    {
     "data": {
      "text/plain": [
       "93.52931993606438"
      ]
     },
     "execution_count": 29,
     "metadata": {},
     "output_type": "execute_result"
    }
   ],
   "source": [
    "from scipy.stats import norm\n",
    "\n",
    "mu = 181\n",
    "desvpad = 37.6\n",
    "\n",
    "norm.ppf(0.01, mu, desvpad)"
   ]
  },
  {
   "cell_type": "markdown",
   "metadata": {},
   "source": [
    "O tempo de trabalho dos funcionários em uma empresa é normalmente distribuído, com média de 11,2 anos e desvio padrão de 2,1 anos.\n",
    "\n",
    "Em uma redução de quadro, os 10% com menos tempo na empresa são demitidos.\n",
    "\n",
    "Qual é o tempo máximo que um funcionário pode ter trabalhado na empresa e ainda assim ser cortado?"
   ]
  },
  {
   "cell_type": "code",
   "execution_count": 30,
   "metadata": {},
   "outputs": [
    {
     "data": {
      "text/plain": [
       "8.508741712356338"
      ]
     },
     "execution_count": 30,
     "metadata": {},
     "output_type": "execute_result"
    }
   ],
   "source": [
    "from scipy.stats import norm\n",
    "\n",
    "mu = 11.2\n",
    "desvpad = 2.1\n",
    "\n",
    "norm.ppf(0.1, mu, desvpad)"
   ]
  },
  {
   "cell_type": "markdown",
   "metadata": {},
   "source": [
    "### 5.4 Distribuições amostrais e o teorema do limite central"
   ]
  },
  {
   "cell_type": "markdown",
   "metadata": {},
   "source": [
    "#### Distribuições amostrais"
   ]
  },
  {
   "cell_type": "markdown",
   "metadata": {},
   "source": [
    "Uma distribuição amostral é a distribuição de probabilidade de uma estatística amostral que é formada quando amostras de tamanho n são repetidamente extraídas de uma população. \n",
    "\n",
    "Se a estatística amostral é a média, tem-se, então, a distribuição amostral das médias. Cada estatística amostral tem uma\n",
    "distribuição amostral."
   ]
  },
  {
   "cell_type": "markdown",
   "metadata": {},
   "source": [
    "#### O teorema do limite central"
   ]
  },
  {
   "cell_type": "markdown",
   "metadata": {},
   "source": [
    "O teorema do limite central forma a base para o ramo inferencial da\n",
    "estatística. Esse teorema descreve a relação entre a distribuição amostral\n",
    "das médias e a população da qual as amostras são retiradas. O teorema do\n",
    "limite central é uma ferramenta importante que fornece a informação que\n",
    "você vai precisar ao usar estatísticas amostrais para fazer inferências sobre\n",
    "a média de uma populaçã"
   ]
  },
  {
   "cell_type": "markdown",
   "metadata": {},
   "source": [
    "    1. Se amostras de tamanho n, em que n ≥ 30, são retiradas ao acaso de uma população qualquer com uma média m e um desvio padrão s, então a distribuição amostral das médias se aproxima de uma distribuição normal. \n",
    "    Quanto maior o tamanho da amostra, melhor a aproximação. (Veja a Figura 5.36.)\n",
    "    \n",
    "    2. Se a população é normalmente distribuída, então a distribuição amostral das\n",
    "    médias é normalmente distribuída para qualquer tamanho de amostra n."
   ]
  },
  {
   "cell_type": "markdown",
   "metadata": {},
   "source": [
    "Considere que as frequências cardíacas durante o treinamento de todos os atletas de 20 anos de idade são normalmente distribuídas, com\n",
    "média de 135 batimentos por minuto e desvio padrão de 18 batimentos por minuto, conforme a Figura 5.39. \n",
    "\n",
    "Amostras aleatórias de tamanho 4 são retiradas dessa população e a média de cada amostra é determi-\n",
    "nada. Encontre a média e o desvio padrão da distribuição amostral das\n",
    "médias. Então, esboce um gráfico da distribuição amostral."
   ]
  },
  {
   "cell_type": "code",
   "execution_count": 46,
   "metadata": {},
   "outputs": [
    {
     "data": {
      "text/plain": [
       "array([[107.39994732, 146.59758768, 131.99497228, 168.46758998],\n",
       "       [134.44303425, 137.28339033, 133.85134108, 168.62793182],\n",
       "       [115.33773792, 133.25093329, 128.6400945 , 139.97740913],\n",
       "       ...,\n",
       "       [135.08273095, 110.82630731, 120.18220633, 108.88510717],\n",
       "       [146.6017758 , 115.70545346, 137.62038828, 149.68849168],\n",
       "       [132.09467835, 130.61687886, 107.0856248 , 132.17420404]])"
      ]
     },
     "execution_count": 46,
     "metadata": {},
     "output_type": "execute_result"
    }
   ],
   "source": [
    "amostras"
   ]
  },
  {
   "cell_type": "code",
   "execution_count": 48,
   "metadata": {},
   "outputs": [
    {
     "data": {
      "text/plain": [
       "array([138.61502432, 143.55142437, 129.30154371, ..., 118.74408794,\n",
       "       137.40402731, 125.49284652])"
      ]
     },
     "execution_count": 48,
     "metadata": {},
     "output_type": "execute_result"
    }
   ],
   "source": [
    "medias_amostrais"
   ]
  },
  {
   "cell_type": "code",
   "execution_count": 45,
   "metadata": {},
   "outputs": [
    {
     "name": "stdout",
     "output_type": "stream",
     "text": [
      "Média da distribuição amostral: 135\n",
      "Desvio padrão da distribuição amostral: 9.0\n"
     ]
    },
    {
     "data": {
      "image/png": "[encoded data removed]",
      "text/plain": [
       "<Figure size 432x288 with 1 Axes>"
      ]
     },
     "metadata": {
      "needs_background": "light"
     },
     "output_type": "display_data"
    }
   ],
   "source": [
    "import numpy as np\n",
    "import matplotlib.pyplot as plt\n",
    "from scipy.stats import norm\n",
    "\n",
    "media_populacional = 135 \n",
    "desvio_padrao_populacional = 18 \n",
    "tamanho_amostra = 4\n",
    "\n",
    "media_amostral = media_populacional\n",
    "desvio_padrao_amostral = desvio_padrao_populacional / np.sqrt(tamanho_amostra)\n",
    "\n",
    "print(f'Média da distribuição amostral: {media_amostral}')\n",
    "print(f'Desvio padrão da distribuição amostral: {desvio_padrao_amostral}')\n",
    "\n",
    "amostras = np.random.normal(media_populacional, desvio_padrao_populacional, size=(10000, tamanho_amostra))\n",
    "medias_amostrais = np.mean(amostras, axis=1)\n",
    "\n",
    "plt.hist(medias_amostrais, bins=50, density=True, alpha=0.7, color='blue')\n",
    "\n",
    "xmin, xmax = plt.xlim()\n",
    "x = np.linspace(xmin, xmax, 100)\n",
    "p = norm.pdf(x, media_amostral, desvio_padrao_amostral)\n",
    "plt.plot(x, p, 'k', linewidth=2)\n",
    "\n",
    "plt.title('Distribuição Amostral das Médias')\n",
    "plt.xlabel('Média Amostral')\n",
    "plt.ylabel('Densidade de Probabilidade')\n",
    "plt.show()\n"
   ]
  },
  {
   "cell_type": "markdown",
   "metadata": {},
   "source": [
    "**Calculando probabilidades para x e x**\n",
    "\n",
    "A dívida média no cartão de crédito mantida por universitários é normalmente distribuída, com média de US$ 3.173 e desvio padrão de\n",
    "US$ 1.120.\n",
    "\n",
    "1. Qual é a probabilidade de que um universitário selecionado aleatoriamente, que possui um cartão de crédito, tenha uma divida menor\n",
    "que US$ 2.700?\n",
    "\n",
    "2. Você seleciona aleatoriamente 25 universitários que possuem cartão de crédito. Qual é a probabilidade de que a média dessas dívidas\n",
    "médias seja menor que US$ 2.700?\n",
    "\n",
    "3. Compare as probabilidades de (1) e (2)"
   ]
  },
  {
   "cell_type": "code",
   "execution_count": 17,
   "metadata": {},
   "outputs": [
    {
     "data": {
      "text/plain": [
       "0.3363952096371293"
      ]
     },
     "execution_count": 17,
     "metadata": {},
     "output_type": "execute_result"
    }
   ],
   "source": [
    "from scipy.stats import norm\n",
    "\n",
    "mu = 3173\n",
    "desvpad = 1120\n",
    "\n",
    "norm.cdf(2700, mu, desvpad)"
   ]
  },
  {
   "cell_type": "code",
   "execution_count": 19,
   "metadata": {},
   "outputs": [
    {
     "data": {
      "text/plain": [
       "0.017360079699138387"
      ]
     },
     "execution_count": 19,
     "metadata": {},
     "output_type": "execute_result"
    }
   ],
   "source": [
    "n = 25\n",
    "desvpad_amostras = desvpad / (n**0.5)\n",
    "\n",
    "norm.cdf(2700, loc=mu, scale=desvpad_amostras)\n"
   ]
  },
  {
   "cell_type": "markdown",
   "metadata": {},
   "source": [
    "Um analista de preços declara que os preços de monitores de computador de LCD são normalmente distribuídos, com uma média de\n",
    "US$ 190 e um desvio padrão de US$ 48. Qual é a probabilidade de um monitor de LCD, selecionado aleatoriamente, custar menos de US$ 200?\n",
    "\n",
    "Você seleciona aleatoriamente 10 monitores de LCD. \n",
    "\n",
    "Qual é a probabilidade de que o custo médio deles seja menor que US$ 200? Compare essas duas probabilidades.\n",
    "\n",
    "a. Obtenha o escore-z que corresponda a x e x.\n",
    "b. Use a tabela normal padrão para encontrar a probabilidade associa-\n",
    "da com cada escore-z.\n",
    "c. Compare as probabilidades."
   ]
  },
  {
   "cell_type": "code",
   "execution_count": 14,
   "metadata": {},
   "outputs": [
    {
     "data": {
      "text/plain": [
       "0.5825156468205225"
      ]
     },
     "execution_count": 14,
     "metadata": {},
     "output_type": "execute_result"
    }
   ],
   "source": [
    "from scipy.stats import norm\n",
    "\n",
    "mu = 190\n",
    "desvpad = 48\n",
    "\n",
    "norm.cdf(200, mu, desvpad)"
   ]
  },
  {
   "cell_type": "code",
   "execution_count": 20,
   "metadata": {},
   "outputs": [
    {
     "data": {
      "text/plain": [
       "2.3463215247127054e-17"
      ]
     },
     "execution_count": 20,
     "metadata": {},
     "output_type": "execute_result"
    }
   ],
   "source": [
    "n = 10\n",
    "desvpad_amostras = desvpad / (n**0.5)\n",
    "\n",
    "norm.cdf(200, loc=mu, scale=desvpad_amostras)"
   ]
  },
  {
   "cell_type": "markdown",
   "metadata": {},
   "source": [
    "### 5.5 Aproximações normais para distribuições binomiais"
   ]
  },
  {
   "attachments": {
    "image.png": {
     "image/png": "[encoded data removed]"
    }
   },
   "cell_type": "markdown",
   "metadata": {},
   "source": [
    "![image.png](attachment:image.png)"
   ]
  },
  {
   "cell_type": "markdown",
   "metadata": {},
   "source": [
    "Em uma pesquisa com adultos nos Estados Unidos, 34% disseram que já viram uma pessoa, usando um dispositivo móvel, caminhar em\n",
    "frente a um veículo em movimento sem percebê-lo. Você seleciona aleatoriamente 100 adultos americanos e pergunta se eles já viram\n",
    "tal situação. (Fonte: Consumer Reports.)\n",
    "\n",
    "a. Identifique n, p e q.\n",
    "b. Encontre os produtos np e nq.\n",
    "c. Determine se você pode usar uma distribuição normal para aproximar a distribuição de x.\n",
    "d. Calcule a média m e o desvio padrão s, se for apropriado."
   ]
  },
  {
   "cell_type": "code",
   "execution_count": 27,
   "metadata": {},
   "outputs": [
    {
     "name": "stdout",
     "output_type": "stream",
     "text": [
      "np = <module 'numpy' from '/home/franciscofoz/.local/lib/python3.10/site-packages/numpy/__init__.py'> nq = 65.99999999999999\n"
     ]
    }
   ],
   "source": [
    "n = 100\n",
    "p = 0.34\n",
    "q = 1 - p\n",
    "\n",
    "np_ = n*p\n",
    "nq = n*q\n",
    "\n",
    "print(f'np = {np} nq = {nq}')"
   ]
  },
  {
   "cell_type": "code",
   "execution_count": 24,
   "metadata": {},
   "outputs": [
    {
     "data": {
      "text/plain": [
       "4.737087712930804"
      ]
     },
     "execution_count": 24,
     "metadata": {},
     "output_type": "execute_result"
    }
   ],
   "source": [
    "(n * p * q)**0.5"
   ]
  },
  {
   "cell_type": "code",
   "execution_count": 23,
   "metadata": {},
   "outputs": [
    {
     "data": {
      "text/plain": [
       "4.737087712930804"
      ]
     },
     "execution_count": 23,
     "metadata": {},
     "output_type": "execute_result"
    }
   ],
   "source": [
    "import numpy as np\n",
    "\n",
    "np.sqrt(n*p*q)"
   ]
  },
  {
   "cell_type": "code",
   "execution_count": 28,
   "metadata": {},
   "outputs": [
    {
     "name": "stdout",
     "output_type": "stream",
     "text": [
      "A média é de 34.0\n"
     ]
    }
   ],
   "source": [
    "print(f'A média é de {np_}')"
   ]
  },
  {
   "cell_type": "markdown",
   "metadata": {},
   "source": [
    "## Correção de continuidade"
   ]
  },
  {
   "cell_type": "markdown",
   "metadata": {},
   "source": [
    "Uma distribuição binomial é discreta e pode ser representada por um histograma de probabilidade. Para calcular probabilidades binomiais exatas,\n",
    "você pode usar a fórmula binomial para cada valor de x e adicionar os resultados.\n",
    "Geometricamente, isso corresponde a adicionar as áreas das barras no histograma de probabilidade (veja a Figura 5.48). Lembre-se de que cada\n",
    "barra tem a largura de uma unidade e x é o ponto médio do intervalo.\n",
    "\n",
    "Quando você usa uma distribuição normal contínua para aproximar uma probabilidade binomial, você precisa mover 0,5 unidade para a es-\n",
    "querda e para a direita do ponto médio para incluir todos os possíveis valores x no intervalo (veja a Figura 5.49). Ao fazer isso, você está efetuando\n",
    "uma correção de continuidade."
   ]
  },
  {
   "cell_type": "markdown",
   "metadata": {},
   "source": [
    "# PARTE III - ESTATÍSTICA INFERENCIAL"
   ]
  },
  {
   "cell_type": "markdown",
   "metadata": {},
   "source": [
    "## 6.Intervalo de confiança\n",
    "### 6.1Intervalos de confiança para a média (desvião padrão conhecido)"
   ]
  },
  {
   "cell_type": "markdown",
   "metadata": {},
   "source": [
    "Neste capítulo você aprenderá uma técnica importante da inferência\n",
    "estatística — usar estatísticas amostrais para estimar o valor de um parâ-\n",
    "metro populacional. Nesta seção e na próxima, você aprenderá como usar\n",
    "estatísticas amostrais para fazer uma estimativa do parâmetro populacio-\n",
    "nal m quando o desvio padrão populacional s for conhecido (esta seção)\n",
    "ou quando s for desconhecido (Seção 6.2). Para fazer tal inferência, come-\n",
    "ce encontrando uma estimativa pontual."
   ]
  },
  {
   "attachments": {
    "image.png": {
     "image/png": "[encoded data removed]"
    }
   },
   "cell_type": "markdown",
   "metadata": {},
   "source": [
    "![image.png](attachment:image.png)"
   ]
  },
  {
   "attachments": {
    "image.png": {
     "image/png": "[encoded data removed]"
    }
   },
   "cell_type": "markdown",
   "metadata": {},
   "source": [
    "![image.png](attachment:image.png)"
   ]
  },
  {
   "attachments": {
    "image.png": {
     "image/png": "[encoded data removed]"
    }
   },
   "cell_type": "markdown",
   "metadata": {},
   "source": [
    "![image.png](attachment:image.png)"
   ]
  },
  {
   "cell_type": "markdown",
   "metadata": {},
   "source": [
    "A diferença entre a estimativa pontual e o valor real do parâmetro é\n",
    "chamada de erro de amostragem ou erro amostral. Quando m é estimado,\n",
    "o erro de amostragem é a diferença de x – m. Na maioria dos casos, é claro,\n",
    "m é desconhecido e x varia de amostra para amostra. Entretanto, você pode\n",
    "calcular o valor máximo para o erro quando souber o nível de confiança e\n",
    "a distribuição amostral da variável."
   ]
  },
  {
   "attachments": {
    "image.png": {
     "image/png": "[encoded data removed]"
    }
   },
   "cell_type": "markdown",
   "metadata": {},
   "source": [
    "![image.png](attachment:image.png)"
   ]
  },
  {
   "attachments": {
    "image.png": {
     "image/png": "[encoded data removed]"
    }
   },
   "cell_type": "markdown",
   "metadata": {},
   "source": [
    "![image.png](attachment:image.png)"
   ]
  },
  {
   "cell_type": "markdown",
   "metadata": {},
   "source": [
    "## Intervalos de confiança para a média populacional"
   ]
  },
  {
   "attachments": {
    "image.png": {
     "image/png": "[encoded data removed]"
    }
   },
   "cell_type": "markdown",
   "metadata": {},
   "source": [
    "![image.png](attachment:image.png)"
   ]
  },
  {
   "cell_type": "code",
   "execution_count": 2,
   "metadata": {},
   "outputs": [],
   "source": [
    "import numpy as np \n",
    "\n",
    "dados = np.random.normal(loc=28, scale=7.9, size=50)"
   ]
  },
  {
   "cell_type": "code",
   "execution_count": 4,
   "metadata": {},
   "outputs": [
    {
     "data": {
      "text/plain": [
       "25.76567744978272"
      ]
     },
     "execution_count": 4,
     "metadata": {},
     "output_type": "execute_result"
    }
   ],
   "source": [
    "dados.mean()"
   ]
  },
  {
   "cell_type": "code",
   "execution_count": 5,
   "metadata": {},
   "outputs": [
    {
     "data": {
      "text/plain": [
       "8.172962890079932"
      ]
     },
     "execution_count": 5,
     "metadata": {},
     "output_type": "execute_result"
    }
   ],
   "source": [
    "dados.std()"
   ]
  },
  {
   "cell_type": "code",
   "execution_count": 9,
   "metadata": {},
   "outputs": [
    {
     "data": {
      "text/plain": [
       "(16.363914653343166, 35.16744024622228)"
      ]
     },
     "execution_count": 9,
     "metadata": {},
     "output_type": "execute_result"
    }
   ],
   "source": [
    "from scipy.stats import norm\n",
    "\n",
    "norm.interval(0.75, loc=dados.mean(), scale=dados.std())"
   ]
  },
  {
   "cell_type": "code",
   "execution_count": 10,
   "metadata": {},
   "outputs": [
    {
     "data": {
      "text/plain": [
       "(15.291604062862863, 36.239750836702584)"
      ]
     },
     "execution_count": 10,
     "metadata": {},
     "output_type": "execute_result"
    }
   ],
   "source": [
    "norm.interval(0.8, loc=dados.mean(), scale=dados.std())"
   ]
  },
  {
   "cell_type": "code",
   "execution_count": 11,
   "metadata": {},
   "outputs": [
    {
     "data": {
      "text/plain": [
       "(12.322349797094954, 39.209005102470485)"
      ]
     },
     "execution_count": 11,
     "metadata": {},
     "output_type": "execute_result"
    }
   ],
   "source": [
    "norm.interval(0.9, loc=dados.mean(), scale=dados.std())"
   ]
  },
  {
   "cell_type": "markdown",
   "metadata": {},
   "source": [
    "### Tamanho da amostra"
   ]
  },
  {
   "cell_type": "markdown",
   "metadata": {},
   "source": [
    "Para a mesma estatística amostral, conforme o nível de confiança aumenta, o intervalo de confiança fica mais largo.\n",
    "\n",
    "Conforme o intervalo de confiança fica mais largo, a precisão da estimativa decresce. \n",
    "\n",
    "Uma maneira de melhorar a precisão de uma estimativa sem diminuir o nível de confiança é aumentar o tamanho da amostra."
   ]
  },
  {
   "attachments": {
    "image.png": {
     "image/png": "[encoded data removed]"
    }
   },
   "cell_type": "markdown",
   "metadata": {},
   "source": [
    "![image.png](attachment:image.png)"
   ]
  },
  {
   "cell_type": "markdown",
   "metadata": {},
   "source": [
    "## 6.2Intervalos de confiança para a média (S desconhecido)"
   ]
  },
  {
   "cell_type": "markdown",
   "metadata": {},
   "source": [
    "### A distribuição t\n",
    "\n",
    "Em muitas situações de vida real, o desvio padrão da população é des conhecido.\n",
    "\n",
    "Então, como podemos construir um intervalo de confiança para uma média populacional no qual s não é conhecido? \n",
    "\n",
    "Para uma variável aleatória que é normalmente distribuída (ou aproximadamente normalmente distribuída), a variável média amostral comporta-se tal qual outro\n",
    "modelo, a distribuição t."
   ]
  },
  {
   "cell_type": "markdown",
   "metadata": {},
   "source": [
    "1. Encontre o valor crítico tc para um nível de confiança de 90% quando o tamanho da amostra é 22."
   ]
  },
  {
   "cell_type": "code",
   "execution_count": 17,
   "metadata": {},
   "outputs": [
    {
     "data": {
      "text/plain": [
       "2.1603686564610127"
      ]
     },
     "execution_count": 17,
     "metadata": {},
     "output_type": "execute_result"
    }
   ],
   "source": [
    "from scipy.stats import t\n",
    "\n",
    "confianca = 0.95\n",
    "\n",
    "tamanho_amostra = 14\n",
    "\n",
    "graus_liberdade = tamanho_amostra - 1\n",
    "\n",
    "t.ppf((1 + confianca) / 2, graus_liberdade)\n"
   ]
  },
  {
   "cell_type": "markdown",
   "metadata": {},
   "source": [
    "## Intervalos de confiança e distribuições t"
   ]
  },
  {
   "attachments": {
    "image.png": {
     "image/png": "[encoded data removed]"
    }
   },
   "cell_type": "markdown",
   "metadata": {},
   "source": [
    "![image.png](attachment:image.png)"
   ]
  },
  {
   "cell_type": "markdown",
   "metadata": {},
   "source": [
    "Você seleciona aleatoriamente 16 cafeterias e mede a temperaturado café vendido em cada uma delas.\n",
    "\n",
    "A temperatura média da amostra é 162,0 ºF com desvio padrão de 10,0 ºF.\n",
    "\n",
    "Construa um intervalo de confiança de 95% para a temperatura média da população de cafés ven-\n",
    "didos. Suponha que as temperaturas tenham distribuição aproximada-\n",
    "mente normal."
   ]
  },
  {
   "cell_type": "code",
   "execution_count": 33,
   "metadata": {},
   "outputs": [],
   "source": [
    "from scipy.stats import t\n",
    "\n",
    "tamanho_amostra = 16\n",
    "\n",
    "graus_liberdade = tamanho_amostra - 1\n"
   ]
  },
  {
   "cell_type": "code",
   "execution_count": 34,
   "metadata": {},
   "outputs": [
    {
     "data": {
      "text/plain": [
       "(156.67137613610169, 167.32862386389831)"
      ]
     },
     "execution_count": 34,
     "metadata": {},
     "output_type": "execute_result"
    }
   ],
   "source": [
    "t.interval(0.95, graus_liberdade, loc=162, scale=10 / (tamanho_amostra**0.5))"
   ]
  },
  {
   "cell_type": "markdown",
   "metadata": {},
   "source": [
    "2. Você seleciona aleatoriamente 36 carros do mesmo modelo que foram vendidos em uma concessionária, e determina o número de dias\n",
    "que cada um permaneceu no pátio da concessionária antes de ser vendido. \n",
    "A média amostral é de 9,75 dias, com um desvio padrão amostral de 2,39 dias.\n",
    "Construa um intervalo de confiança de 99% para o número médio populacional de dias que um carro permanece no pátio da\n",
    "concessionária."
   ]
  },
  {
   "cell_type": "code",
   "execution_count": 39,
   "metadata": {},
   "outputs": [
    {
     "data": {
      "text/plain": [
       "(8.665017440298794, 10.834982559701206)"
      ]
     },
     "execution_count": 39,
     "metadata": {},
     "output_type": "execute_result"
    }
   ],
   "source": [
    "from scipy.stats import t\n",
    "\n",
    "tamanho_amostra = 36\n",
    "\n",
    "graus_liberdade = tamanho_amostra - 1\n",
    "\n",
    "t.interval(0.99, graus_liberdade, loc=9.75, scale=2.39 / (tamanho_amostra**0.5))"
   ]
  },
  {
   "cell_type": "markdown",
   "metadata": {},
   "source": [
    "## 6.3Intervalos de confiança para a proporção"
   ]
  },
  {
   "cell_type": "markdown",
   "metadata": {},
   "source": [
    "### Estimativa pontual para uma proporção populacional"
   ]
  },
  {
   "attachments": {
    "image.png": {
     "image/png": "[encoded data removed]"
    }
   },
   "cell_type": "markdown",
   "metadata": {},
   "source": [
    "![image.png](attachment:image.png)"
   ]
  },
  {
   "cell_type": "markdown",
   "metadata": {},
   "source": [
    "## Intervalos de confiança para uma proporção populacional"
   ]
  },
  {
   "cell_type": "markdown",
   "metadata": {},
   "source": [
    "Construir um intervalo de confiança para uma proporção populacional p é similar a construir um intervalo de confiança para uma média populacional. Você começa com uma estimação pontual e calcula uma margem de erro."
   ]
  },
  {
   "attachments": {
    "image.png": {
     "image/png": "[encoded data removed]"
    }
   },
   "cell_type": "markdown",
   "metadata": {},
   "source": [
    "![image.png](attachment:image.png)"
   ]
  },
  {
   "cell_type": "markdown",
   "metadata": {},
   "source": [
    "Uma pesquisa entrevistou 1.024\n",
    "pessoas sobre o aquecimento\n",
    "global. Dos entrevistados, 389\n",
    "disseram que achavam que o\n",
    "aquecimento global representaria\n",
    "uma séria ameaça ao seu estilo\n",
    "de vida durante sua existência.\n",
    "(Fonte: Gallup.)\n",
    "\n",
    "Encontre um intervalo de\n",
    "confiança de 90% para a\n",
    "proporção populacional de\n",
    "pessoas que acham que o\n",
    "aquecimento global representará\n",
    "uma séria ameaça ao seu estilo\n",
    "de vida durante sua existência."
   ]
  },
  {
   "cell_type": "code",
   "execution_count": 2,
   "metadata": {},
   "outputs": [
    {
     "name": "stdout",
     "output_type": "stream",
     "text": [
      "Proporção amostral = 0.3798828125\n",
      "Intervalo de Confiança (90.0%): (0.3549346258170009, 0.4048309991829991)\n"
     ]
    }
   ],
   "source": [
    "from statsmodels.stats.proportion import proportion_confint\n",
    "# https://www.statsmodels.org/stable/generated/statsmodels.stats.proportion.proportion_confint.html#statsmodels.stats.proportion.proportion_confint\n",
    "\n",
    "total_entrevistados = 1024\n",
    "entrevistados_ameaca = 389\n",
    "\n",
    "proporcao_amostral = entrevistados_ameaca / total_entrevistados\n",
    "\n",
    "confianca = 0.9\n",
    "\n",
    "intervalo_confianca = proportion_confint(entrevistados_ameaca, total_entrevistados, alpha=1-confianca)\n",
    "\n",
    "print(f'Proporção amostral = {proporcao_amostral}')\n",
    "print(f\"Intervalo de Confiança ({confianca*100}%): {intervalo_confianca}\")\n"
   ]
  },
  {
   "cell_type": "code",
   "execution_count": null,
   "metadata": {},
   "outputs": [],
   "source": []
  }
 ],
 "metadata": {
  "kernelspec": {
   "display_name": "Python 3",
   "language": "python",
   "name": "python3"
  },
  "language_info": {
   "codemirror_mode": {
    "name": "ipython",
    "version": 3
   },
   "file_extension": ".py",
   "mimetype": "text/x-python",
   "name": "python",
   "nbconvert_exporter": "python",
   "pygments_lexer": "ipython3",
   "version": "3.10.12"
  },
  "orig_nbformat": 4
 },
 "nbformat": 4,
 "nbformat_minor": 2
}
