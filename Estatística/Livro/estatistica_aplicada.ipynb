{
 "cells": [
  {
   "cell_type": "markdown",
   "metadata": {},
   "source": [
    "# Estatística aplicada - Ron Larson e Betsy Farber"
   ]
  },
  {
   "cell_type": "markdown",
   "metadata": {},
   "source": [
    "## 3. Probabilidade"
   ]
  },
  {
   "cell_type": "markdown",
   "metadata": {},
   "source": [
    "### 3.1 Conceitos básicos de probabilidade e contagem"
   ]
  },
  {
   "cell_type": "markdown",
   "metadata": {},
   "source": [
    "    - Definição:\n",
    "\n",
    "    Um experimento probabilístico é uma ação, ou tentativa sujeita à lei do acaso, pela qual resultados específicos (contagens, medições ou respostas) são obtidos. O produto de uma única tentativa em um experimento probabilístico é um resultado. O conjunto de todos os resultados possíveis de um experimento probabilístico é o espaço amostral. Um evento é um subconjunto do espaço amostral. Ele pode consistir em um ou mais resultados."
   ]
  },
  {
   "cell_type": "code",
   "execution_count": 12,
   "metadata": {},
   "outputs": [
    {
     "name": "stdout",
     "output_type": "stream",
     "text": [
      "\n",
      "    Espaço Amostral (S)\n",
      "       ----------------\n",
      "      | 1  |  2  |  3  |\n",
      "       ----------------\n",
      "      | 4  |  5  |  6  |\n",
      "       ----------------\n",
      "\n",
      "        Evento (E)\n",
      "        ---------\n",
      "        |   Cara   |\n",
      "        ---------\n",
      "        \n",
      "----------------------------------------------------------------------------------------------------\n",
      "\n",
      "    Espaço Amostral (S) - LANÇAMENTO DE UM DADO\n",
      "       ----------------\n",
      "      | 1  |  2  |  3  |\n",
      "       ----------------\n",
      "      | 4  |  5  |  6  |\n",
      "       ----------------\n",
      "\n",
      "    Evento (E) - PAR\n",
      "       ----------------\n",
      "      | 2  |  4  |  6  |\n",
      "       ----------------\n",
      "\n"
     ]
    }
   ],
   "source": [
    "exemplo_espaco_amostral_evento = '''\n",
    "    Espaço Amostral (S)\n",
    "       ----------------\n",
    "      | 1  |  2  |  3  |\n",
    "       ----------------\n",
    "      | 4  |  5  |  6  |\n",
    "       ----------------\n",
    "\n",
    "        Evento (E)\n",
    "        ---------\n",
    "        |   Cara   |\n",
    "        ---------\n",
    "        '''\n",
    "    \n",
    "exemplo2_espaco_amostral_evento = '''\n",
    "    Espaço Amostral (S) - LANÇAMENTO DE UM DADO\n",
    "       ----------------\n",
    "      | 1  |  2  |  3  |\n",
    "       ----------------\n",
    "      | 4  |  5  |  6  |\n",
    "       ----------------\n",
    "\n",
    "    Evento (E) - PAR\n",
    "       ----------------\n",
    "      | 2  |  4  |  6  |\n",
    "       ----------------\n",
    "'''\n",
    "print(exemplo_espaco_amostral_evento)\n",
    "print(100*'-')\n",
    "print(exemplo2_espaco_amostral_evento)"
   ]
  },
  {
   "cell_type": "markdown",
   "metadata": {},
   "source": [
    "    - O princípio fundamental da contagem:\n",
    "    \n",
    "    Se um evento pode ocorrer de m maneiras e um segundo evento pode ocorrer\n",
    "    de n maneiras, o número de maneiras que os dois eventos podem ocorrer em\n",
    "    sequên­cia é m # n. Essa regra pode ser estendida para qualquer número de\n",
    "    eventos ocorrendo em sequência."
   ]
  },
  {
   "cell_type": "code",
   "execution_count": 28,
   "metadata": {},
   "outputs": [
    {
     "name": "stdout",
     "output_type": "stream",
     "text": [
      "A quantidadede de variações de tipo combustivel é: 7\n",
      "A quantidadede de categorias é: 11\n",
      "A quantidadede de variacoes de cilindradas é: 13\n",
      "\n",
      "Portanto a quantidade de combinações diferentes é: 1001\n"
     ]
    }
   ],
   "source": [
    "import pandas as pd\n",
    "\n",
    "df = pd.read_csv('/home/franciscofoz/Documents/GitHub/math-stats-training/Datasets/car-price/car-price_formatado.csv')\n",
    "\n",
    "tipo_combustivel = df.tipo_combustivel.unique()\n",
    "categoria = df.categoria.unique()\n",
    "cilindradas = df.cilindradas.unique()\n",
    "\n",
    "print('A quantidadede de variações de tipo combustivel é:',len(tipo_combustivel))\n",
    "print('A quantidadede de categorias é:',len(categoria))\n",
    "print('A quantidadede de variacoes de cilindradas é:',len(cilindradas))\n",
    "\n",
    "\n",
    "print('\\nPortanto a quantidade de combinações diferentes é:',len(tipo_combustivel)*len(categoria)*len(cilindradas))\n"
   ]
  },
  {
   "cell_type": "markdown",
   "metadata": {},
   "source": [
    "#### -> Exercício: \n",
    "\n",
    "O código de acesso para o sistema de segurança de um carro consiste em quatro dígitos. Cada dígito pode ser qualquer número de 0 a 9.\n",
    "\n",
    "Quantos códigos de acesso são possíveis se:\n",
    "- 1. Cada dígito pode ser usado somente uma vez e não pode ser repetido?\n",
    "- 2. Cada dígito pode ser repetido?\n",
    "- 3. Cada dígito pode ser repetido, mas o primeiro dígito não pode ser 0\n",
    "ou 1?"
   ]
  },
  {
   "cell_type": "code",
   "execution_count": 33,
   "metadata": {},
   "outputs": [
    {
     "name": "stdout",
     "output_type": "stream",
     "text": [
      "1. A quantidade total de variações de código é: 5040\n",
      "1. A quantidade total de variações de código é: 10000\n",
      "1. A quantidade total de variações de código é: 8000\n"
     ]
    }
   ],
   "source": [
    "#1 \n",
    "digito_1 = 10\n",
    "digito_2 = 9\n",
    "digito_3 = 8\n",
    "digito_4 = 7\n",
    "\n",
    "print('1. A quantidade total de variações de código é:', digito_1 * digito_2 * digito_3 * digito_4)\n",
    "\n",
    "#2 \n",
    "digito_1 = 10\n",
    "digito_2 = 10\n",
    "digito_3 = 10\n",
    "digito_4 = 10\n",
    "\n",
    "print('1. A quantidade total de variações de código é:', digito_1 * digito_2 * digito_3 * digito_4)\n",
    "\n",
    "#3 \n",
    "digito_1 = 8\n",
    "digito_2 = 10\n",
    "digito_3 = 10\n",
    "digito_4 = 10\n",
    "\n",
    "print('1. A quantidade total de variações de código é:', digito_1 * digito_2 * digito_3 * digito_4)"
   ]
  },
  {
   "cell_type": "code",
   "execution_count": 35,
   "metadata": {},
   "outputs": [
    {
     "name": "stdout",
     "output_type": "stream",
     "text": [
      "1. A quantidade total de variações de código é: 5040\n",
      "2. A quantidade total de variações de código é: 10000\n",
      "3. A quantidade total de variações de código é: 8000\n"
     ]
    }
   ],
   "source": [
    "from scipy.special import perm\n",
    "\n",
    "# 1. \n",
    "resposta_1 = perm(10, 4,exact=True)\n",
    "\n",
    "# 2. \n",
    "resposta_2 = 10 ** 4\n",
    "\n",
    "# 3.\n",
    "resposta_3 = 8 * (10 ** 3)\n",
    "\n",
    "print(\"1. A quantidade total de variações de código é:\", resposta_1)\n",
    "print(\"2. A quantidade total de variações de código é:\", resposta_2)\n",
    "print(\"3. A quantidade total de variações de código é:\", resposta_3)"
   ]
  },
  {
   "cell_type": "markdown",
   "metadata": {},
   "source": [
    "#### -> Exercício: \n",
    "\n",
    "Quantas placas de automóvel você pode formar, se cada placa con­siste em:\n",
    "\n",
    "1. Seis (de 26) letras do alfabeto, cada uma podendo ser repetida?\n",
    "2. Seis (de 26) letras do alfabeto, cada uma não podendo ser repetida?\n",
    "3. Seis (de 26) letras do alfabeto, cada letra podendo ser repetida, mas\n",
    "a primeira não pode ser A, B, C ou D?\n"
   ]
  },
  {
   "cell_type": "code",
   "execution_count": 48,
   "metadata": {},
   "outputs": [
    {
     "name": "stdout",
     "output_type": "stream",
     "text": [
      "1. A quantidade de variações de placas são: 308915776\n",
      "2. A quantidade de variações de placas são: 165765600\n",
      "3. A quantidade de variações de placas são: 285153024\n"
     ]
    }
   ],
   "source": [
    "from scipy.special import perm\n",
    "\n",
    "# 1. \n",
    "resposta_1 = 26**6\n",
    "\n",
    "# 2. \n",
    "resposta_2 = perm(26, 6,exact=True)\n",
    "\n",
    "# 3. \n",
    "resposta_3 = 24 * (26**5)\n",
    "\n",
    "print(\"1. A quantidade de variações de placas são:\", resposta_1)\n",
    "print(\"2. A quantidade de variações de placas são:\", resposta_2)\n",
    "print(\"3. A quantidade de variações de placas são:\", resposta_3)\n"
   ]
  },
  {
   "cell_type": "markdown",
   "metadata": {},
   "source": [
    "### Tipos de probabilidade"
   ]
  },
  {
   "cell_type": "markdown",
   "metadata": {},
   "source": [
    "Há três tipos:\n",
    "* probabilidade clássica\n",
    "* probabilidade empírica e\n",
    "* probabilidade subjetiva."
   ]
  },
  {
   "cell_type": "markdown",
   "metadata": {},
   "source": [
    "#### Probabilidade clássica\n",
    "\n",
    "1. Probabilidade clássica (ou teórica) é usada quando cada resultado em um espaço amostral é igualmente possível de ocorrer.\n",
    "A probabilidade clássica para um evento E é dada por:\n",
    "\n",
    "$$ P(E) = \\frac{NúmeroDeResultadosNoEventoE}{NúmeroTotalDeResultadosNoEspaçoAmostral} $$"
   ]
  },
  {
   "cell_type": "markdown",
   "metadata": {},
   "source": [
    "a) Você joga um dado de seis faces. Calcule a probabilidade de cada\n",
    "evento.\n",
    "1. Evento A: sair um 3.\n",
    "2. Evento B: sair um 7.\n",
    "3. Evento C: sair um número menor que 5."
   ]
  },
  {
   "cell_type": "code",
   "execution_count": 3,
   "metadata": {},
   "outputs": [
    {
     "name": "stdout",
     "output_type": "stream",
     "text": [
      "0.16666666666666666\n",
      "0.0\n",
      "0.6666666666666666\n"
     ]
    }
   ],
   "source": [
    "#1.as_integer_ratio\n",
    "respostas = [1/6, 0/6, 4/6]\n",
    "\n",
    "for resposta in respostas:\n",
    "    print(resposta)"
   ]
  },
  {
   "cell_type": "markdown",
   "metadata": {},
   "source": [
    "b) Você seleciona uma carta de um baralho normal"
   ]
  },
  {
   "cell_type": "markdown",
   "metadata": {},
   "source": [
    "![Alt text](image.png)"
   ]
  },
  {
   "cell_type": "markdown",
   "metadata": {},
   "source": [
    "1. Evento D: selecionar o nove de paus.\n",
    "\n",
    "2. Evento E: selecionar uma carta de ouros.\n",
    "\n",
    "3. Evento F: selecionar uma carta de ouros, copas, paus ou espadas.\n",
    "\n",
    "a. Identificar o número total de resultados do espaço amostral.\n",
    "b. Calcular o número de resultados do evento.\n",
    "c. Determinar a probabilidade clássica do evento."
   ]
  },
  {
   "cell_type": "code",
   "execution_count": 7,
   "metadata": {},
   "outputs": [
    {
     "name": "stdout",
     "output_type": "stream",
     "text": [
      "0.019230769230769232\n",
      "0.25\n",
      "1\n"
     ]
    }
   ],
   "source": [
    "'''\n",
    "a) Espaço amostral: 52,4,52\n",
    "b) Resultados do evento: 1,1,52\n",
    "c)\n",
    "'''\n",
    "\n",
    "\n",
    "respostas = [(1/4)*(1/13),(1/4),52/52]\n",
    "\n",
    "_ = [print(resposta) for resposta in respostas]"
   ]
  },
  {
   "cell_type": "markdown",
   "metadata": {},
   "source": [
    "#### Probabilidade empírica\n",
    "\n",
    "1. Probabilidade empírica (ou estatística) é baseada em observações obtidas de experimentos probabilísticos. A probabilidade empírica de um evento E é a frequência relativa do evento E.\n",
    "\n",
    "$$ P(E) = \\frac{FrequênciaDoEventoE}{FrequênciaTotal} $$\n",
    "\n",
    "    Quando um experimento é repetido muitas vezes, são formados padrões regulares. Esses padrões permitem encontrar a probabilidade empírica, a  qual pode ser usada mesmo quando cada resultado de um evento não é igualmente provável de ocorrer."
   ]
  },
  {
   "cell_type": "markdown",
   "metadata": {},
   "source": [
    "Uma companhia de seguro descobre que, de cada 100 reclamações, 4 são fraudulentas.\n",
    "Qual é a probabilidade de que a próxima reclamação recebida pela empresa seja fraudulenta?\n",
    "\n",
    "\n",
    "a. Identifique o evento e encontre sua frequência.\n",
    "b. Calcule a frequência total para o experimento.\n",
    "c. Determine a probabilidade empírica do evento."
   ]
  },
  {
   "cell_type": "code",
   "execution_count": 5,
   "metadata": {},
   "outputs": [
    {
     "name": "stdout",
     "output_type": "stream",
     "text": [
      "A probabilidade é de:  0.04 ou  4.0 %\n"
     ]
    }
   ],
   "source": [
    "a = 4\n",
    "b = 100\n",
    "c = 4/100\n",
    "\n",
    "print('A probabilidade é de: ', c, 'ou ', c*100,'%')"
   ]
  },
  {
   "cell_type": "markdown",
   "metadata": {},
   "source": [
    "    Conforme aumenta o número de vezes que um experimento proba­bilístico é repetido, a probabilidade empírica (frequência relativa) de um evento aproxima-se de sua probabilidade teórica. Isso é conhecido como lei dos grandes números."
   ]
  },
  {
   "cell_type": "markdown",
   "metadata": {},
   "source": [
    "#### Probabilidade subjetiva\n",
    "\n",
    "O terceiro tipo de probabilidade é a probabilidade subjetiva, que\n",
    "resulta de conjeturas e de estimativas por intuição. Por exemplo, dada\n",
    "a saúde de um paciente e a extensão dos ferimentos, um médico pode\n",
    "sentir que o paciente tem 90% de chance de recuperação total. Ou um\n",
    "analista de negócios pode prever que a chance de os funcionários de\n",
    "certa empresa entrarem em greve é de 0,25."
   ]
  },
  {
   "cell_type": "markdown",
   "metadata": {},
   "source": [
    "    Uma probabilidade não pode ser negativa ou maior que 1, conforme estabelecido na regra a seguir.\n",
    "    Quando a probabilidade de um evento é 1, é certa a ocorrência do evento. Quando a probabilidade de um evento é 0, o evento é impossí­vel. \n",
    "    Uma probabilidade de 0,5 indica que um evento tem uma chanceigual de ocorrer ou não ocorrer."
   ]
  },
  {
   "cell_type": "markdown",
   "metadata": {},
   "source": [
    "### Eventos complementares"
   ]
  },
  {
   "cell_type": "markdown",
   "metadata": {},
   "source": [
    "A soma das probabilidades de todos os resultados em um espaço amostral é 1 ou 100%.\n",
    "\n",
    "Um resultado importante desse fato é que, quan­do sabemos a probabilidade de um evento E, podemos encontrar a pro­ babilidade do complemento do evento E.\n",
    "\n",
    "\n",
    "O complemento do evento E é o conjunto de todos os resultados em um espaço amostral que não estão incluídos no evento E. \n",
    "\n",
    "O complemento do evento E é denotado por E ′ e é lido como “E linha”."
   ]
  },
  {
   "attachments": {
    "image.png": {
     "image/png": "[encoded data removed]"
    }
   },
   "cell_type": "markdown",
   "metadata": {},
   "source": [
    "Por exemplo, quando você jogar um dado e, sendo E o evento “o número é ao menos 5”, o complemento de E é o evento “o número é menor que 5”.\n",
    "\n",
    "Em símbolos, E = {5, 6} e E′ = {1, 2, 3, 4}.\n",
    "\n",
    "Usando a definição do complemento de um evento e o fato de a soma das probabilidades de todos os resultados ser 1, pode-se escrever\n",
    "que:\n",
    "\n",
    "![image.png](attachment:image.png)"
   ]
  },
  {
   "cell_type": "markdown",
   "metadata": {},
   "source": [
    "### Aplicações da probabilidade"
   ]
  },
  {
   "cell_type": "markdown",
   "metadata": {},
   "source": [
    "Determine a probabilidade de sair uma coroa e um número menor que 6.\n",
    "\n",
    "a. Determine o número de resultados no evento.\n",
    "\n",
    "b. Calcule a probabilidade do evento."
   ]
  },
  {
   "cell_type": "code",
   "execution_count": 6,
   "metadata": {},
   "outputs": [
    {
     "name": "stdout",
     "output_type": "stream",
     "text": [
      "A probabilidade é de 31.25%.\n"
     ]
    }
   ],
   "source": [
    "a = 5\n",
    "b = 16\n",
    "prob = 5/16\n",
    "\n",
    "print(f'A probabilidade é de {prob * 100}%.')"
   ]
  },
  {
   "cell_type": "markdown",
   "metadata": {},
   "source": [
    "Seu número de identificação na faculdade consiste em 9 dígitos. \n",
    "\n",
    "Os dois primeiros dígitos de cada número serão os dois últimos dígitos do ano previsto para sua graduação.\n",
    "\n",
    "Os outros dígitos podem ser quaisquer números de 0 a 9 e cada dígito pode ser repetido.\n",
    "\n",
    "Qual é a probabilidade de você obter seu número de identificação quando geramos aleatoria­mente os outros sete dígitos?\n",
    "\n",
    "\n",
    "    a. Calcule o número total de possíveis números de identificação.\n",
    "\n",
    "    b. Determine a probabilidade de gerar aleatoriamente seu número de identificação.'"
   ]
  },
  {
   "cell_type": "code",
   "execution_count": 9,
   "metadata": {},
   "outputs": [
    {
     "name": "stdout",
     "output_type": "stream",
     "text": [
      "A probabilidade é de 9.999999999999999e-06%\n"
     ]
    }
   ],
   "source": [
    "a = 10 **7\n",
    "b = 1/a\n",
    "print(f'A probabilidade é de {b*100}%') "
   ]
  },
  {
   "cell_type": "markdown",
   "metadata": {},
   "source": [
    "### 3.2 Probabilidade condicional e a regra da multiplicação"
   ]
  },
  {
   "cell_type": "markdown",
   "metadata": {},
   "source": [
    "Nesta seção, você aprenderá como encontrar a probabilidade de dois eventos ocorrerem em sequência. \n",
    "\n",
    "Antes que você possa encontrar essa probabilidade, entretanto, você deve saber como encontrar probabilidades condicionais."
   ]
  },
  {
   "cell_type": "markdown",
   "metadata": {},
   "source": [
    "    Uma probabilidade condicional é a probabilidade de um evento ocorrer, dado que outro evento já tenha ocorrido. A probabilidade condicional de o evento B ocorrer, dado que o evento A tenha ocorrido, é denotada por P (B |A) e lê-se “probabilidade de B, dado A”."
   ]
  },
  {
   "cell_type": "markdown",
   "metadata": {},
   "source": [
    "#### Eventos independentes e dependentes"
   ]
  },
  {
   "cell_type": "markdown",
   "metadata": {},
   "source": [
    "Em alguns experimentos, um evento não afeta a probabilidade de ou­ tro.\n",
    "Por exemplo, quando você joga um dado e uma moeda, o resultado do dado não afeta a probabilidade de sair cara na moeda.\n",
    "Esses dois eventos são independentes. \n",
    "A questão da independência de dois ou mais eventos é importante para pesquisadores em áreas como marketing, medicina e psicologia.\n",
    "\n",
    "Você pode usar probabilidades condicionais para determinar se os eventos são independentes."
   ]
  },
  {
   "cell_type": "markdown",
   "metadata": {},
   "source": [
    "    Para determinar se A e B são independentes, primeiro calcule P(B), a probabilidade do evento B.\n",
    "    Então, calcule P(B|A), a probabilidade de B, dado A.\n",
    "    Se os valores forem iguais, os eventos são independentes. \n",
    "    Se P(B) Z P(B|A), então A e B são eventos dependentes."
   ]
  },
  {
   "cell_type": "markdown",
   "metadata": {},
   "source": [
    "#### A regra da multiplicação"
   ]
  },
  {
   "cell_type": "markdown",
   "metadata": {},
   "source": [
    "Para encontrar a probabilidade de dois eventos ocorrendo em se­\n",
    "quên­cia, podemos usar a regra da multiplicação."
   ]
  },
  {
   "cell_type": "markdown",
   "metadata": {},
   "source": []
  },
  {
   "cell_type": "markdown",
   "metadata": {},
   "source": [
    "### 3.3 A regra da adição"
   ]
  },
  {
   "cell_type": "markdown",
   "metadata": {},
   "source": [
    "#### Eventos mutuamente exclusivos"
   ]
  },
  {
   "cell_type": "markdown",
   "metadata": {},
   "source": [
    "Na Seção 3.2, aprendemos como encontrar a probabilidade de dois even­tos A e B, ocorrendo em sequência.\n",
    "Tais probabilidades são denotadas por P(A e B). \n",
    "\n",
    "Nesta seção, aprenderemos como encontrar a probabilidade de que ao menos um de dois eventos ocorra.\n",
    "\n",
    "Probabilidades como essas são deno­tadas por P(A ou B), e dependem se os eventos são mutuamente exclusivos."
   ]
  },
  {
   "cell_type": "markdown",
   "metadata": {},
   "source": [
    "Em palavras, para encontrar a probabilidade de um evento ou o outro ocorrer, some as probabilidades individuais de cada evento e subtraia a\n",
    "probabilidade de ambos ocorrerem simultaniamente.\n",
    "\n",
    "$P(A ou B) = P(A) + P(B) - P(A-B)$"
   ]
  },
  {
   "cell_type": "markdown",
   "metadata": {},
   "source": [
    "Usando a regra da soma para encontrar probabilidades"
   ]
  },
  {
   "cell_type": "markdown",
   "metadata": {},
   "source": [
    "### 3.4 Tópicos adicionais sobre probabilidade e contagem"
   ]
  },
  {
   "cell_type": "markdown",
   "metadata": {},
   "source": [
    "#### Permutações"
   ]
  },
  {
   "cell_type": "markdown",
   "metadata": {},
   "source": [
    "Uma permutação é um arranjo ordenado de objetos. O número de diferentes\n",
    "permutações de n objetos distintos é n!."
   ]
  },
  {
   "cell_type": "markdown",
   "metadata": {},
   "source": [
    "Os times femininos de hóquei que se classificaram para as Olimpía­ das de 2014 foram: Canadá, Finlândia, Alemanha, Japão, Rússia, Sué­cia, Suíça e Estados Unidos. Quantas classificações finais diferentes são possíveis?\n",
    "\n",
    "a. Identifique o número total de objetos n.\n",
    "\n",
    "b. Calcule n!."
   ]
  },
  {
   "cell_type": "code",
   "execution_count": 3,
   "metadata": {},
   "outputs": [
    {
     "name": "stdout",
     "output_type": "stream",
     "text": [
      "fatorial = 40320\n"
     ]
    },
    {
     "data": {
      "text/plain": [
       "40320"
      ]
     },
     "execution_count": 3,
     "metadata": {},
     "output_type": "execute_result"
    }
   ],
   "source": [
    "a = 8\n",
    "fatorial = 8*7*6*5*4*3*2*1\n",
    "print('fatorial =',fatorial)\n",
    "\n",
    "import math\n",
    "\n",
    "math.factorial(a)"
   ]
  },
  {
   "cell_type": "markdown",
   "metadata": {},
   "source": [
    "Você pode querer escolher alguns objetos (r dos n) em um grupo e\n",
    "colocá-los em ordem. Tal ordenação é chamada de arranjo de n objetos\n",
    "tomados r a r."
   ]
  },
  {
   "cell_type": "markdown",
   "metadata": {},
   "source": [
    "Arranjo de $n$ objetos tomatos $r$ a $r$.\n",
    "\n",
    "$$ A_{nr} = \\frac{n!}{(n-r!)} $$"
   ]
  },
  {
   "cell_type": "markdown",
   "metadata": {},
   "source": [
    "Encontre o número de maneiras de formar códigos de quatro dígitos em que nenhum dígito é repetido.\n",
    "\n",
    "\n",
    "Solução: $ \\frac{10!}{(10-4!)} $"
   ]
  },
  {
   "cell_type": "markdown",
   "metadata": {},
   "source": [
    "Você pode querer ordenar um grupo de n objetos sendo que alguns de­\n",
    "les são os mesmos. Por exemplo, considere o grupo de letras AAAABBC.\n",
    "Esse grupo tem quatro As, dois Bs e um C. De quantas maneiras você pode\n",
    "ordenar tal grupo? Usando a fórmula An,r, você pode concluir que há A7,7 = 7!\n",
    "ordens possíveis. Entretanto, como alguns objetos são os mesmos, nem to­\n",
    "dos esses arranjos3 são distinguíveis. Quantas permutações distinguíveis\n",
    "são possíveis? A resposta pode ser encontrada usando a fórmula da per-\n",
    "mutação com elementos repetidos."
   ]
  },
  {
   "cell_type": "markdown",
   "metadata": {},
   "source": [
    "**Permutação com elementos repetidos**\n",
    "\n",
    "O número de permutações com elementos repetidos de n objetos, em que\n",
    "n1 são de um tipo, n2 de outro tipo, e assim por diante, é:\n",
    "\n",
    "\n",
    "\n",
    "$$ \\frac{n!}{n_1! * n_2! * n_3!...n_k!} $$"
   ]
  },
  {
   "cell_type": "markdown",
   "metadata": {},
   "source": [
    "#### Combinações"
   ]
  },
  {
   "cell_type": "markdown",
   "metadata": {},
   "source": [
    "**Combinação de n objetos tomados r a r**\n",
    "\n",
    "O número de combinações de r objetos selecionados de um grupo de n obje-\n",
    "tos sem considerar a ordem é:\n",
    "\n",
    "$$C_{nr} = \\frac{n!}{(n - r)!*r}! $$"
   ]
  },
  {
   "cell_type": "markdown",
   "metadata": {},
   "source": [
    "## 4. Distribuições discretas de probabilidade"
   ]
  },
  {
   "cell_type": "markdown",
   "metadata": {},
   "source": [
    "### 4.1 Distribuições de probabilidade"
   ]
  },
  {
   "cell_type": "markdown",
   "metadata": {},
   "source": [
    "#### Variáveis aleatórias"
   ]
  },
  {
   "cell_type": "markdown",
   "metadata": {},
   "source": [
    "Uma variável aleatória x representa um valor numérico associado a cada resultado de um experimento probabilístico (ou aleatório).\n",
    "\n",
    "A palavra aleatória indica que x é determinado em função de um objeto escolhido ao acaso.\n",
    "\n",
    "Há dois tipos de variáveis aleatórias: discreta e contínua."
   ]
  },
  {
   "cell_type": "markdown",
   "metadata": {},
   "source": []
  },
  {
   "cell_type": "markdown",
   "metadata": {},
   "source": []
  },
  {
   "cell_type": "code",
   "execution_count": null,
   "metadata": {},
   "outputs": [],
   "source": [
    "### "
   ]
  }
 ],
 "metadata": {
  "kernelspec": {
   "display_name": "Python 3",
   "language": "python",
   "name": "python3"
  },
  "language_info": {
   "codemirror_mode": {
    "name": "ipython",
    "version": 3
   },
   "file_extension": ".py",
   "mimetype": "text/x-python",
   "name": "python",
   "nbconvert_exporter": "python",
   "pygments_lexer": "ipython3",
   "version": "3.10.12"
  },
  "orig_nbformat": 4
 },
 "nbformat": 4,
 "nbformat_minor": 2
}
