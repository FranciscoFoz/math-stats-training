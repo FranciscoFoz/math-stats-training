{
 "cells": [
  {
   "cell_type": "markdown",
   "metadata": {},
   "source": [
    "# Estatística aplicada - Ron Larson e Betsy Farber"
   ]
  },
  {
   "cell_type": "markdown",
   "metadata": {},
   "source": [
    "## 3. Probabilidade"
   ]
  },
  {
   "cell_type": "markdown",
   "metadata": {},
   "source": [
    "### 3.1 Conceitos básicos de probabilidade e contagem"
   ]
  },
  {
   "cell_type": "markdown",
   "metadata": {},
   "source": [
    "    - Definição:\n",
    "\n",
    "    Um experimento probabilístico é uma ação, ou tentativa sujeita à lei do acaso, pela qual resultados específicos (contagens, medições ou respostas) são obtidos. O produto de uma única tentativa em um experimento probabilístico é um resultado. O conjunto de todos os resultados possíveis de um experimento probabilístico é o espaço amostral. Um evento é um subconjunto do espaço amostral. Ele pode consistir em um ou mais resultados."
   ]
  },
  {
   "cell_type": "code",
   "execution_count": 12,
   "metadata": {},
   "outputs": [
    {
     "name": "stdout",
     "output_type": "stream",
     "text": [
      "\n",
      "    Espaço Amostral (S)\n",
      "       ----------------\n",
      "      | 1  |  2  |  3  |\n",
      "       ----------------\n",
      "      | 4  |  5  |  6  |\n",
      "       ----------------\n",
      "\n",
      "        Evento (E)\n",
      "        ---------\n",
      "        |   Cara   |\n",
      "        ---------\n",
      "        \n",
      "----------------------------------------------------------------------------------------------------\n",
      "\n",
      "    Espaço Amostral (S) - LANÇAMENTO DE UM DADO\n",
      "       ----------------\n",
      "      | 1  |  2  |  3  |\n",
      "       ----------------\n",
      "      | 4  |  5  |  6  |\n",
      "       ----------------\n",
      "\n",
      "    Evento (E) - PAR\n",
      "       ----------------\n",
      "      | 2  |  4  |  6  |\n",
      "       ----------------\n",
      "\n"
     ]
    }
   ],
   "source": [
    "exemplo_espaco_amostral_evento = '''\n",
    "    Espaço Amostral (S)\n",
    "       ----------------\n",
    "      | 1  |  2  |  3  |\n",
    "       ----------------\n",
    "      | 4  |  5  |  6  |\n",
    "       ----------------\n",
    "\n",
    "        Evento (E)\n",
    "        ---------\n",
    "        |   Cara   |\n",
    "        ---------\n",
    "        '''\n",
    "    \n",
    "exemplo2_espaco_amostral_evento = '''\n",
    "    Espaço Amostral (S) - LANÇAMENTO DE UM DADO\n",
    "       ----------------\n",
    "      | 1  |  2  |  3  |\n",
    "       ----------------\n",
    "      | 4  |  5  |  6  |\n",
    "       ----------------\n",
    "\n",
    "    Evento (E) - PAR\n",
    "       ----------------\n",
    "      | 2  |  4  |  6  |\n",
    "       ----------------\n",
    "'''\n",
    "print(exemplo_espaco_amostral_evento)\n",
    "print(100*'-')\n",
    "print(exemplo2_espaco_amostral_evento)"
   ]
  },
  {
   "cell_type": "markdown",
   "metadata": {},
   "source": [
    "    - O princípio fundamental da contagem:\n",
    "    \n",
    "    Se um evento pode ocorrer de m maneiras e um segundo evento pode ocorrer\n",
    "    de n maneiras, o número de maneiras que os dois eventos podem ocorrer em\n",
    "    sequên­cia é m # n. Essa regra pode ser estendida para qualquer número de\n",
    "    eventos ocorrendo em sequência."
   ]
  },
  {
   "cell_type": "code",
   "execution_count": 28,
   "metadata": {},
   "outputs": [
    {
     "name": "stdout",
     "output_type": "stream",
     "text": [
      "A quantidadede de variações de tipo combustivel é: 7\n",
      "A quantidadede de categorias é: 11\n",
      "A quantidadede de variacoes de cilindradas é: 13\n",
      "\n",
      "Portanto a quantidade de combinações diferentes é: 1001\n"
     ]
    }
   ],
   "source": [
    "import pandas as pd\n",
    "\n",
    "df = pd.read_csv('/home/franciscofoz/Documents/GitHub/math-stats-training/Datasets/car-price/car-price_formatado.csv')\n",
    "\n",
    "tipo_combustivel = df.tipo_combustivel.unique()\n",
    "categoria = df.categoria.unique()\n",
    "cilindradas = df.cilindradas.unique()\n",
    "\n",
    "print('A quantidadede de variações de tipo combustivel é:',len(tipo_combustivel))\n",
    "print('A quantidadede de categorias é:',len(categoria))\n",
    "print('A quantidadede de variacoes de cilindradas é:',len(cilindradas))\n",
    "\n",
    "\n",
    "print('\\nPortanto a quantidade de combinações diferentes é:',len(tipo_combustivel)*len(categoria)*len(cilindradas))\n"
   ]
  },
  {
   "cell_type": "markdown",
   "metadata": {},
   "source": [
    "#### -> Exercício: \n",
    "\n",
    "O código de acesso para o sistema de segurança de um carro consiste em quatro dígitos. Cada dígito pode ser qualquer número de 0 a 9.\n",
    "\n",
    "Quantos códigos de acesso são possíveis se:\n",
    "- 1. Cada dígito pode ser usado somente uma vez e não pode ser repetido?\n",
    "- 2. Cada dígito pode ser repetido?\n",
    "- 3. Cada dígito pode ser repetido, mas o primeiro dígito não pode ser 0\n",
    "ou 1?"
   ]
  },
  {
   "cell_type": "code",
   "execution_count": 33,
   "metadata": {},
   "outputs": [
    {
     "name": "stdout",
     "output_type": "stream",
     "text": [
      "1. A quantidade total de variações de código é: 5040\n",
      "1. A quantidade total de variações de código é: 10000\n",
      "1. A quantidade total de variações de código é: 8000\n"
     ]
    }
   ],
   "source": [
    "#1 \n",
    "digito_1 = 10\n",
    "digito_2 = 9\n",
    "digito_3 = 8\n",
    "digito_4 = 7\n",
    "\n",
    "print('1. A quantidade total de variações de código é:', digito_1 * digito_2 * digito_3 * digito_4)\n",
    "\n",
    "#2 \n",
    "digito_1 = 10\n",
    "digito_2 = 10\n",
    "digito_3 = 10\n",
    "digito_4 = 10\n",
    "\n",
    "print('1. A quantidade total de variações de código é:', digito_1 * digito_2 * digito_3 * digito_4)\n",
    "\n",
    "#3 \n",
    "digito_1 = 8\n",
    "digito_2 = 10\n",
    "digito_3 = 10\n",
    "digito_4 = 10\n",
    "\n",
    "print('1. A quantidade total de variações de código é:', digito_1 * digito_2 * digito_3 * digito_4)"
   ]
  },
  {
   "cell_type": "code",
   "execution_count": 35,
   "metadata": {},
   "outputs": [
    {
     "name": "stdout",
     "output_type": "stream",
     "text": [
      "1. A quantidade total de variações de código é: 5040\n",
      "2. A quantidade total de variações de código é: 10000\n",
      "3. A quantidade total de variações de código é: 8000\n"
     ]
    }
   ],
   "source": [
    "from scipy.special import perm\n",
    "\n",
    "# 1. \n",
    "resposta_1 = perm(10, 4,exact=True)\n",
    "\n",
    "# 2. \n",
    "resposta_2 = 10 ** 4\n",
    "\n",
    "# 3.\n",
    "resposta_3 = 8 * (10 ** 3)\n",
    "\n",
    "print(\"1. A quantidade total de variações de código é:\", resposta_1)\n",
    "print(\"2. A quantidade total de variações de código é:\", resposta_2)\n",
    "print(\"3. A quantidade total de variações de código é:\", resposta_3)"
   ]
  },
  {
   "cell_type": "markdown",
   "metadata": {},
   "source": [
    "#### -> Exercício: \n",
    "\n",
    "Quantas placas de automóvel você pode formar, se cada placa con­siste em:\n",
    "\n",
    "1. Seis (de 26) letras do alfabeto, cada uma podendo ser repetida?\n",
    "2. Seis (de 26) letras do alfabeto, cada uma não podendo ser repetida?\n",
    "3. Seis (de 26) letras do alfabeto, cada letra podendo ser repetida, mas\n",
    "a primeira não pode ser A, B, C ou D?\n"
   ]
  },
  {
   "cell_type": "code",
   "execution_count": 48,
   "metadata": {},
   "outputs": [
    {
     "name": "stdout",
     "output_type": "stream",
     "text": [
      "1. A quantidade de variações de placas são: 308915776\n",
      "2. A quantidade de variações de placas são: 165765600\n",
      "3. A quantidade de variações de placas são: 285153024\n"
     ]
    }
   ],
   "source": [
    "from scipy.special import perm\n",
    "\n",
    "# 1. \n",
    "resposta_1 = 26**6\n",
    "\n",
    "# 2. \n",
    "resposta_2 = perm(26, 6,exact=True)\n",
    "\n",
    "# 3. \n",
    "resposta_3 = 24 * (26**5)\n",
    "\n",
    "print(\"1. A quantidade de variações de placas são:\", resposta_1)\n",
    "print(\"2. A quantidade de variações de placas são:\", resposta_2)\n",
    "print(\"3. A quantidade de variações de placas são:\", resposta_3)\n"
   ]
  },
  {
   "cell_type": "markdown",
   "metadata": {},
   "source": [
    "### Tipos de probabilidade"
   ]
  },
  {
   "cell_type": "code",
   "execution_count": null,
   "metadata": {},
   "outputs": [],
   "source": []
  }
 ],
 "metadata": {
  "kernelspec": {
   "display_name": "Python 3",
   "language": "python",
   "name": "python3"
  },
  "language_info": {
   "codemirror_mode": {
    "name": "ipython",
    "version": 3
   },
   "file_extension": ".py",
   "mimetype": "text/x-python",
   "name": "python",
   "nbconvert_exporter": "python",
   "pygments_lexer": "ipython3",
   "version": "3.10.6"
  },
  "orig_nbformat": 4
 },
 "nbformat": 4,
 "nbformat_minor": 2
}
